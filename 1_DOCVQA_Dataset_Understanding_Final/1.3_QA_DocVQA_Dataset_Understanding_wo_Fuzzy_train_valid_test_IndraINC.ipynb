{
  "cells": [
    {
      "cell_type": "markdown",
      "metadata": {
        "id": "apy-av0gBZst"
      },
      "source": [
        "## Notebook Objective and Contents:\n",
        "This notebook is based on individual dataset understanding for train, validation and test on DOCVQA\n",
        "- This notebook doesn't contain RAW Image path\n",
        "- This notebook also doesn't contain and index and bbox info part i.e no such Fuzzy applied\n",
        "- After experiment of the training, validation and test we will create custom function to automate all the above steps"
      ]
    },
    {
      "cell_type": "code",
      "execution_count": null,
      "metadata": {
        "colab": {
          "base_uri": "https://localhost:8080/"
        },
        "id": "TDk9AC6nDTJb",
        "outputId": "70b425c1-51c5-4bf7-f649-b49db07fd7e1"
      },
      "outputs": [
        {
          "name": "stdout",
          "output_type": "stream",
          "text": [
            "\u001b[?25l     \u001b[90m━━━━━━━━━━━━━━━━━━━━━━━━━━━━━━━━━━━━━━━━\u001b[0m \u001b[32m0.0/492.4 kB\u001b[0m \u001b[31m?\u001b[0m eta \u001b[36m-:--:--\u001b[0m\r\u001b[2K     \u001b[91m━━━━\u001b[0m\u001b[91m╸\u001b[0m\u001b[90m━━━━━━━━━━━━━━━━━━━━━━━━━━━━━━━━━━━\u001b[0m \u001b[32m61.4/492.4 kB\u001b[0m \u001b[31m1.7 MB/s\u001b[0m eta \u001b[36m0:00:01\u001b[0m\r\u001b[2K     \u001b[91m━━━━━━━━━━━━━━━━━━━━━━━━━━━━━━━━━━━━━━\u001b[0m\u001b[91m╸\u001b[0m \u001b[32m491.5/492.4 kB\u001b[0m \u001b[31m8.0 MB/s\u001b[0m eta \u001b[36m0:00:01\u001b[0m\r\u001b[2K     \u001b[90m━━━━━━━━━━━━━━━━━━━━━━━━━━━━━━━━━━━━━━━\u001b[0m \u001b[32m492.4/492.4 kB\u001b[0m \u001b[31m6.7 MB/s\u001b[0m eta \u001b[36m0:00:00\u001b[0m\n",
            "\u001b[2K     \u001b[90m━━━━━━━━━━━━━━━━━━━━━━━━━━━━━━━━━━━━━━\u001b[0m \u001b[32m115.3/115.3 kB\u001b[0m \u001b[31m11.3 MB/s\u001b[0m eta \u001b[36m0:00:00\u001b[0m\n",
            "\u001b[2K     \u001b[90m━━━━━━━━━━━━━━━━━━━━━━━━━━━━━━━━━━━━━━\u001b[0m \u001b[32m194.1/194.1 kB\u001b[0m \u001b[31m18.4 MB/s\u001b[0m eta \u001b[36m0:00:00\u001b[0m\n",
            "\u001b[2K     \u001b[90m━━━━━━━━━━━━━━━━━━━━━━━━━━━━━━━━━━━━━━\u001b[0m \u001b[32m134.8/134.8 kB\u001b[0m \u001b[31m15.4 MB/s\u001b[0m eta \u001b[36m0:00:00\u001b[0m\n",
            "\u001b[2K     \u001b[90m━━━━━━━━━━━━━━━━━━━━━━━━━━━━━━━━━━━━━━\u001b[0m \u001b[32m268.8/268.8 kB\u001b[0m \u001b[31m23.4 MB/s\u001b[0m eta \u001b[36m0:00:00\u001b[0m\n",
            "\u001b[?25h"
          ]
        }
      ],
      "source": [
        "!pip install -q datasets"
      ]
    },
    {
      "cell_type": "code",
      "execution_count": null,
      "metadata": {
        "id": "83bW7cjODCGL"
      },
      "outputs": [],
      "source": [
        "import numpy as np\n",
        "import pandas as pd\n",
        "import os\n",
        "import json\n",
        "from google.colab import data_table\n",
        "import datasets\n",
        "from datasets import Dataset\n",
        "import json\n",
        "import re\n",
        "import random\n",
        "from PIL import Image"
      ]
    },
    {
      "cell_type": "markdown",
      "metadata": {
        "id": "sT5qznQGCCoc"
      },
      "source": [
        "## Exp_1: Little details of training dataset"
      ]
    },
    {
      "cell_type": "code",
      "execution_count": null,
      "metadata": {
        "colab": {
          "base_uri": "https://localhost:8080/"
        },
        "id": "0na-cnfC-j0s",
        "outputId": "cbea395e-8a6b-45aa-8cf2-c3f8752d2362"
      },
      "outputs": [
        {
          "name": "stderr",
          "output_type": "stream",
          "text": [
            "<ipython-input-3-4447ede6effb>:20: SettingWithCopyWarning: \n",
            "A value is trying to be set on a copy of a slice from a DataFrame.\n",
            "Try using .loc[row_indexer,col_indexer] = value instead\n",
            "\n",
            "See the caveats in the documentation: https://pandas.pydata.org/pandas-docs/stable/user_guide/indexing.html#returning-a-view-versus-a-copy\n",
            "  df_sub_train['full_path_image'] = df_sub_train['image'].apply(join_paths)\n",
            "<ipython-input-3-4447ede6effb>:54: SettingWithCopyWarning: \n",
            "A value is trying to be set on a copy of a slice from a DataFrame.\n",
            "Try using .loc[row_indexer,col_indexer] = value instead\n",
            "\n",
            "See the caveats in the documentation: https://pandas.pydata.org/pandas-docs/stable/user_guide/indexing.html#returning-a-view-versus-a-copy\n",
            "  df['bounding_boxes'] = bbox_list\n",
            "<ipython-input-3-4447ede6effb>:55: SettingWithCopyWarning: \n",
            "A value is trying to be set on a copy of a slice from a DataFrame.\n",
            "Try using .loc[row_indexer,col_indexer] = value instead\n",
            "\n",
            "See the caveats in the documentation: https://pandas.pydata.org/pandas-docs/stable/user_guide/indexing.html#returning-a-view-versus-a-copy\n",
            "  df['word_list'] = word_list\n",
            "<ipython-input-3-4447ede6effb>:57: SettingWithCopyWarning: \n",
            "A value is trying to be set on a copy of a slice from a DataFrame\n",
            "\n",
            "See the caveats in the documentation: https://pandas.pydata.org/pandas-docs/stable/user_guide/indexing.html#returning-a-view-versus-a-copy\n",
            "  df.drop(['questionId', 'image','ucsf_document_id', 'ucsf_document_page_no'], axis=1, inplace=True)\n"
          ]
        }
      ],
      "source": [
        "train_path_main = '/content/drive/MyDrive/docVqa_dataset/train/train_v1.0.json'\n",
        "# Open the JSON file\n",
        "with open(train_path_main, 'r') as file:\n",
        "  # Load the contents of the file into a dictionary\n",
        "  data_train = json.load(file)\n",
        "\n",
        "## Convert 'data' list into dataframe by passing into the dataframe\n",
        "df_train = pd.DataFrame(data_train['data'])\n",
        "\n",
        "## Making subset of the training dataframe\n",
        "df_sub_train = df_train.iloc[:10]\n",
        "\n",
        "base_train_path = '/content/drive/MyDrive/docVqa_dataset/train'\n",
        "\n",
        "# Define a function to join the base path with the image path\n",
        "def join_paths(image_path):\n",
        "    return os.path.join(base_train_path, image_path)\n",
        "\n",
        "# Apply the function to create a new column with the full image path\n",
        "df_sub_train['full_path_image'] = df_sub_train['image'].apply(join_paths)\n",
        "\n",
        "\n",
        "def extract_ocr_info(df, base_train_dir):\n",
        "\n",
        "  dir_list = os.listdir(base_train_path)\n",
        "  ocr_base_dir = os.path.join(base_train_path, dir_list[1])\n",
        "\n",
        "  # Create empty lists for bounding boxes and word lists\n",
        "  bbox_list = []\n",
        "  word_list = []\n",
        "\n",
        "  # Iterate over each row in the DataFrame\n",
        "  for _, row in df.iterrows():\n",
        "\n",
        "    # Construct the ocr_path for the row\n",
        "    ocr_path = os.path.join(ocr_base_dir, row['ucsf_document_id'] + '_' + row['ucsf_document_page_no'] + '.json')\n",
        "\n",
        "    # Open the json file and load the data\n",
        "    with open(ocr_path, 'r') as f:\n",
        "      ocr_json = json.load(f)\n",
        "\n",
        "    # Extract the bounding boxes and word lists from the json data\n",
        "    bbox_row = []\n",
        "    word_row = []\n",
        "    for i in ocr_json['recognitionResults'][0]['lines']:\n",
        "      for j in i['words']:\n",
        "        bbox_row.append(j['boundingBox'])\n",
        "        word_row.append(j['text'])\n",
        "\n",
        "    # Append the bbox and word lists to the global lists\n",
        "    bbox_list.append(bbox_row)\n",
        "    word_list.append(word_row)\n",
        "  # Create new columns in the DataFrame to store the bbox and words lists\n",
        "  df['bounding_boxes'] = bbox_list\n",
        "  df['word_list'] = word_list\n",
        "\n",
        "  df.drop(['questionId', 'image','ucsf_document_id', 'ucsf_document_page_no'], axis=1, inplace=True)\n",
        "\n",
        "  # Return the updated DataFrame\n",
        "  return df\n",
        "\n",
        "\n",
        "df_sub_train_ocr = extract_ocr_info(df_sub_train, base_train_path)\n",
        "\n",
        "## Convert dataframe into dataset object\n",
        "hf_sub_train_ocr = Dataset.from_pandas(df_sub_train_ocr)\n"
      ]
    },
    {
      "cell_type": "code",
      "execution_count": null,
      "metadata": {
        "colab": {
          "base_uri": "https://localhost:8080/"
        },
        "id": "43S7ZCus-uJO",
        "outputId": "2a21d399-5dbe-4887-e2f6-66ed831e887f"
      },
      "outputs": [
        {
          "data": {
            "text/plain": [
              "Dataset({\n",
              "    features: ['question', 'docId', 'answers', 'data_split', 'full_path_image', 'bounding_boxes', 'word_list'],\n",
              "    num_rows: 10\n",
              "})"
            ]
          },
          "execution_count": 4,
          "metadata": {},
          "output_type": "execute_result"
        }
      ],
      "source": [
        "hf_sub_train_ocr"
      ]
    },
    {
      "cell_type": "code",
      "execution_count": null,
      "metadata": {
        "colab": {
          "base_uri": "https://localhost:8080/"
        },
        "id": "-Txu6vi7LFbg",
        "outputId": "d4eea8cb-78c7-4d74-d784-c12d0823e8d7"
      },
      "outputs": [
        {
          "data": {
            "text/plain": [
              "['question',\n",
              " 'docId',\n",
              " 'answers',\n",
              " 'data_split',\n",
              " 'full_path_image',\n",
              " 'bounding_boxes',\n",
              " 'word_list']"
            ]
          },
          "execution_count": 5,
          "metadata": {},
          "output_type": "execute_result"
        }
      ],
      "source": [
        "hf_sub_train_ocr.column_names"
      ]
    },
    {
      "cell_type": "markdown",
      "metadata": {
        "id": "FNnQPky_EG36"
      },
      "source": [
        "## Exp_2: Little details of validation dataset separately"
      ]
    },
    {
      "cell_type": "code",
      "execution_count": null,
      "metadata": {
        "id": "vabU-_OtFFOS"
      },
      "outputs": [],
      "source": [
        "## **\n",
        "valid_path_main = '/content/drive/MyDrive/docVqa_dataset/val/val_v1.0.json'\n",
        "# Open the JSON file\n",
        "with open(valid_path_main, 'r') as file:\n",
        "  # Load the contents of the file into a dictionary\n",
        "  data_valid = json.load(file)"
      ]
    },
    {
      "cell_type": "code",
      "execution_count": null,
      "metadata": {
        "colab": {
          "base_uri": "https://localhost:8080/"
        },
        "id": "qDE74qpHF3lZ",
        "outputId": "08da767f-c5f2-4954-9f4d-d90071499721"
      },
      "outputs": [
        {
          "data": {
            "text/plain": [
              "dict"
            ]
          },
          "execution_count": 7,
          "metadata": {},
          "output_type": "execute_result"
        }
      ],
      "source": [
        "type(data_valid)"
      ]
    },
    {
      "cell_type": "code",
      "execution_count": null,
      "metadata": {
        "colab": {
          "base_uri": "https://localhost:8080/"
        },
        "id": "KjJSLb7MGZVh",
        "outputId": "6d02efcb-e734-4967-959c-3ecc91afe78d"
      },
      "outputs": [
        {
          "data": {
            "text/plain": [
              "dict_keys(['dataset_name', 'dataset_version', 'dataset_split', 'data'])"
            ]
          },
          "execution_count": 8,
          "metadata": {},
          "output_type": "execute_result"
        }
      ],
      "source": [
        "data_valid.keys()"
      ]
    },
    {
      "cell_type": "code",
      "execution_count": null,
      "metadata": {
        "id": "GCfIVfuqGeOZ"
      },
      "outputs": [],
      "source": [
        "## ** Convert 'data' list into dataframe by passing into the dataframe\n",
        "df_valid = pd.DataFrame(data_valid['data'])"
      ]
    },
    {
      "cell_type": "code",
      "execution_count": null,
      "metadata": {
        "colab": {
          "base_uri": "https://localhost:8080/",
          "height": 250
        },
        "id": "MOeO2UUjGpVd",
        "outputId": "f9ebffb5-cf3b-476e-dc1f-11519f0ef943"
      },
      "outputs": [
        {
          "data": {
            "text/html": [
              "\n",
              "\n",
              "  <div id=\"df-131b414a-d58e-42f2-84ea-063060cbdf8a\">\n",
              "    <div class=\"colab-df-container\">\n",
              "      <div>\n",
              "<style scoped>\n",
              "    .dataframe tbody tr th:only-of-type {\n",
              "        vertical-align: middle;\n",
              "    }\n",
              "\n",
              "    .dataframe tbody tr th {\n",
              "        vertical-align: top;\n",
              "    }\n",
              "\n",
              "    .dataframe thead th {\n",
              "        text-align: right;\n",
              "    }\n",
              "</style>\n",
              "<table border=\"1\" class=\"dataframe\">\n",
              "  <thead>\n",
              "    <tr style=\"text-align: right;\">\n",
              "      <th></th>\n",
              "      <th>questionId</th>\n",
              "      <th>question</th>\n",
              "      <th>image</th>\n",
              "      <th>docId</th>\n",
              "      <th>ucsf_document_id</th>\n",
              "      <th>ucsf_document_page_no</th>\n",
              "      <th>answers</th>\n",
              "      <th>data_split</th>\n",
              "    </tr>\n",
              "  </thead>\n",
              "  <tbody>\n",
              "    <tr>\n",
              "      <th>0</th>\n",
              "      <td>49153</td>\n",
              "      <td>What is the ‘actual’ value per 1000, during th...</td>\n",
              "      <td>documents/pybv0228_81.png</td>\n",
              "      <td>14465</td>\n",
              "      <td>pybv0228</td>\n",
              "      <td>81</td>\n",
              "      <td>[0.28]</td>\n",
              "      <td>val</td>\n",
              "    </tr>\n",
              "    <tr>\n",
              "      <th>1</th>\n",
              "      <td>24580</td>\n",
              "      <td>What is name of university?</td>\n",
              "      <td>documents/nkbl0226_1.png</td>\n",
              "      <td>7027</td>\n",
              "      <td>nkbl0226</td>\n",
              "      <td>1</td>\n",
              "      <td>[university of california, University of Calif...</td>\n",
              "      <td>val</td>\n",
              "    </tr>\n",
              "    <tr>\n",
              "      <th>2</th>\n",
              "      <td>57349</td>\n",
              "      <td>What is the name of the company?</td>\n",
              "      <td>documents/snbx0223_22.png</td>\n",
              "      <td>4733</td>\n",
              "      <td>snbx0223</td>\n",
              "      <td>22</td>\n",
              "      <td>[itc limited, ITC Limited]</td>\n",
              "      <td>val</td>\n",
              "    </tr>\n",
              "    <tr>\n",
              "      <th>3</th>\n",
              "      <td>24581</td>\n",
              "      <td>Where is the university located ?</td>\n",
              "      <td>documents/nkbl0226_1.png</td>\n",
              "      <td>7027</td>\n",
              "      <td>nkbl0226</td>\n",
              "      <td>1</td>\n",
              "      <td>[san diego, San Diego]</td>\n",
              "      <td>val</td>\n",
              "    </tr>\n",
              "    <tr>\n",
              "      <th>4</th>\n",
              "      <td>24582</td>\n",
              "      <td>To whom is the document sent?</td>\n",
              "      <td>documents/nkbl0226_1.png</td>\n",
              "      <td>7027</td>\n",
              "      <td>nkbl0226</td>\n",
              "      <td>1</td>\n",
              "      <td>[Paul]</td>\n",
              "      <td>val</td>\n",
              "    </tr>\n",
              "  </tbody>\n",
              "</table>\n",
              "</div>\n",
              "      <button class=\"colab-df-convert\" onclick=\"convertToInteractive('df-131b414a-d58e-42f2-84ea-063060cbdf8a')\"\n",
              "              title=\"Convert this dataframe to an interactive table.\"\n",
              "              style=\"display:none;\">\n",
              "\n",
              "  <svg xmlns=\"http://www.w3.org/2000/svg\" height=\"24px\"viewBox=\"0 0 24 24\"\n",
              "       width=\"24px\">\n",
              "    <path d=\"M0 0h24v24H0V0z\" fill=\"none\"/>\n",
              "    <path d=\"M18.56 5.44l.94 2.06.94-2.06 2.06-.94-2.06-.94-.94-2.06-.94 2.06-2.06.94zm-11 1L8.5 8.5l.94-2.06 2.06-.94-2.06-.94L8.5 2.5l-.94 2.06-2.06.94zm10 10l.94 2.06.94-2.06 2.06-.94-2.06-.94-.94-2.06-.94 2.06-2.06.94z\"/><path d=\"M17.41 7.96l-1.37-1.37c-.4-.4-.92-.59-1.43-.59-.52 0-1.04.2-1.43.59L10.3 9.45l-7.72 7.72c-.78.78-.78 2.05 0 2.83L4 21.41c.39.39.9.59 1.41.59.51 0 1.02-.2 1.41-.59l7.78-7.78 2.81-2.81c.8-.78.8-2.07 0-2.86zM5.41 20L4 18.59l7.72-7.72 1.47 1.35L5.41 20z\"/>\n",
              "  </svg>\n",
              "      </button>\n",
              "\n",
              "\n",
              "\n",
              "    <div id=\"df-f807c5bd-f515-4027-8bb7-71aa0c1a8de4\">\n",
              "      <button class=\"colab-df-quickchart\" onclick=\"quickchart('df-f807c5bd-f515-4027-8bb7-71aa0c1a8de4')\"\n",
              "              title=\"Suggest charts.\"\n",
              "              style=\"display:none;\">\n",
              "\n",
              "<svg xmlns=\"http://www.w3.org/2000/svg\" height=\"24px\"viewBox=\"0 0 24 24\"\n",
              "     width=\"24px\">\n",
              "    <g>\n",
              "        <path d=\"M19 3H5c-1.1 0-2 .9-2 2v14c0 1.1.9 2 2 2h14c1.1 0 2-.9 2-2V5c0-1.1-.9-2-2-2zM9 17H7v-7h2v7zm4 0h-2V7h2v10zm4 0h-2v-4h2v4z\"/>\n",
              "    </g>\n",
              "</svg>\n",
              "      </button>\n",
              "    </div>\n",
              "\n",
              "<style>\n",
              "  .colab-df-quickchart {\n",
              "    background-color: #E8F0FE;\n",
              "    border: none;\n",
              "    border-radius: 50%;\n",
              "    cursor: pointer;\n",
              "    display: none;\n",
              "    fill: #1967D2;\n",
              "    height: 32px;\n",
              "    padding: 0 0 0 0;\n",
              "    width: 32px;\n",
              "  }\n",
              "\n",
              "  .colab-df-quickchart:hover {\n",
              "    background-color: #E2EBFA;\n",
              "    box-shadow: 0px 1px 2px rgba(60, 64, 67, 0.3), 0px 1px 3px 1px rgba(60, 64, 67, 0.15);\n",
              "    fill: #174EA6;\n",
              "  }\n",
              "\n",
              "  [theme=dark] .colab-df-quickchart {\n",
              "    background-color: #3B4455;\n",
              "    fill: #D2E3FC;\n",
              "  }\n",
              "\n",
              "  [theme=dark] .colab-df-quickchart:hover {\n",
              "    background-color: #434B5C;\n",
              "    box-shadow: 0px 1px 3px 1px rgba(0, 0, 0, 0.15);\n",
              "    filter: drop-shadow(0px 1px 2px rgba(0, 0, 0, 0.3));\n",
              "    fill: #FFFFFF;\n",
              "  }\n",
              "</style>\n",
              "\n",
              "    <script>\n",
              "      async function quickchart(key) {\n",
              "        const containerElement = document.querySelector('#' + key);\n",
              "        const charts = await google.colab.kernel.invokeFunction(\n",
              "            'suggestCharts', [key], {});\n",
              "      }\n",
              "    </script>\n",
              "\n",
              "      <script>\n",
              "\n",
              "function displayQuickchartButton(domScope) {\n",
              "  let quickchartButtonEl =\n",
              "    domScope.querySelector('#df-f807c5bd-f515-4027-8bb7-71aa0c1a8de4 button.colab-df-quickchart');\n",
              "  quickchartButtonEl.style.display =\n",
              "    google.colab.kernel.accessAllowed ? 'block' : 'none';\n",
              "}\n",
              "\n",
              "        displayQuickchartButton(document);\n",
              "      </script>\n",
              "      <style>\n",
              "    .colab-df-container {\n",
              "      display:flex;\n",
              "      flex-wrap:wrap;\n",
              "      gap: 12px;\n",
              "    }\n",
              "\n",
              "    .colab-df-convert {\n",
              "      background-color: #E8F0FE;\n",
              "      border: none;\n",
              "      border-radius: 50%;\n",
              "      cursor: pointer;\n",
              "      display: none;\n",
              "      fill: #1967D2;\n",
              "      height: 32px;\n",
              "      padding: 0 0 0 0;\n",
              "      width: 32px;\n",
              "    }\n",
              "\n",
              "    .colab-df-convert:hover {\n",
              "      background-color: #E2EBFA;\n",
              "      box-shadow: 0px 1px 2px rgba(60, 64, 67, 0.3), 0px 1px 3px 1px rgba(60, 64, 67, 0.15);\n",
              "      fill: #174EA6;\n",
              "    }\n",
              "\n",
              "    [theme=dark] .colab-df-convert {\n",
              "      background-color: #3B4455;\n",
              "      fill: #D2E3FC;\n",
              "    }\n",
              "\n",
              "    [theme=dark] .colab-df-convert:hover {\n",
              "      background-color: #434B5C;\n",
              "      box-shadow: 0px 1px 3px 1px rgba(0, 0, 0, 0.15);\n",
              "      filter: drop-shadow(0px 1px 2px rgba(0, 0, 0, 0.3));\n",
              "      fill: #FFFFFF;\n",
              "    }\n",
              "  </style>\n",
              "\n",
              "      <script>\n",
              "        const buttonEl =\n",
              "          document.querySelector('#df-131b414a-d58e-42f2-84ea-063060cbdf8a button.colab-df-convert');\n",
              "        buttonEl.style.display =\n",
              "          google.colab.kernel.accessAllowed ? 'block' : 'none';\n",
              "\n",
              "        async function convertToInteractive(key) {\n",
              "          const element = document.querySelector('#df-131b414a-d58e-42f2-84ea-063060cbdf8a');\n",
              "          const dataTable =\n",
              "            await google.colab.kernel.invokeFunction('convertToInteractive',\n",
              "                                                     [key], {});\n",
              "          if (!dataTable) return;\n",
              "\n",
              "          const docLinkHtml = 'Like what you see? Visit the ' +\n",
              "            '<a target=\"_blank\" href=https://colab.research.google.com/notebooks/data_table.ipynb>data table notebook</a>'\n",
              "            + ' to learn more about interactive tables.';\n",
              "          element.innerHTML = '';\n",
              "          dataTable['output_type'] = 'display_data';\n",
              "          await google.colab.output.renderOutput(dataTable, element);\n",
              "          const docLink = document.createElement('div');\n",
              "          docLink.innerHTML = docLinkHtml;\n",
              "          element.appendChild(docLink);\n",
              "        }\n",
              "      </script>\n",
              "    </div>\n",
              "  </div>\n"
            ],
            "text/plain": [
              "   questionId                                           question  \\\n",
              "0       49153  What is the ‘actual’ value per 1000, during th...   \n",
              "1       24580                        What is name of university?   \n",
              "2       57349                   What is the name of the company?   \n",
              "3       24581                  Where is the university located ?   \n",
              "4       24582                      To whom is the document sent?   \n",
              "\n",
              "                       image  docId ucsf_document_id ucsf_document_page_no  \\\n",
              "0  documents/pybv0228_81.png  14465         pybv0228                    81   \n",
              "1   documents/nkbl0226_1.png   7027         nkbl0226                     1   \n",
              "2  documents/snbx0223_22.png   4733         snbx0223                    22   \n",
              "3   documents/nkbl0226_1.png   7027         nkbl0226                     1   \n",
              "4   documents/nkbl0226_1.png   7027         nkbl0226                     1   \n",
              "\n",
              "                                             answers data_split  \n",
              "0                                             [0.28]        val  \n",
              "1  [university of california, University of Calif...        val  \n",
              "2                         [itc limited, ITC Limited]        val  \n",
              "3                             [san diego, San Diego]        val  \n",
              "4                                             [Paul]        val  "
            ]
          },
          "execution_count": 10,
          "metadata": {},
          "output_type": "execute_result"
        }
      ],
      "source": [
        "df_valid.head()"
      ]
    },
    {
      "cell_type": "code",
      "execution_count": null,
      "metadata": {
        "colab": {
          "base_uri": "https://localhost:8080/"
        },
        "id": "rJcnN4WYGz5x",
        "outputId": "32df5fb8-bbed-45f3-c373-251ca46e4ef6"
      },
      "outputs": [
        {
          "data": {
            "text/plain": [
              "(5349, 8)"
            ]
          },
          "execution_count": 11,
          "metadata": {},
          "output_type": "execute_result"
        }
      ],
      "source": [
        "df_valid.shape    ## validation dataset contains 5349 number of datapoints"
      ]
    },
    {
      "cell_type": "code",
      "execution_count": null,
      "metadata": {
        "colab": {
          "base_uri": "https://localhost:8080/"
        },
        "id": "KGRX1CrQGy8x",
        "outputId": "4c8c7197-ee4c-4cf7-eabe-e2d886b640b7"
      },
      "outputs": [
        {
          "name": "stderr",
          "output_type": "stream",
          "text": [
            "<ipython-input-12-084e9d8626f2>:11: SettingWithCopyWarning: \n",
            "A value is trying to be set on a copy of a slice from a DataFrame.\n",
            "Try using .loc[row_indexer,col_indexer] = value instead\n",
            "\n",
            "See the caveats in the documentation: https://pandas.pydata.org/pandas-docs/stable/user_guide/indexing.html#returning-a-view-versus-a-copy\n",
            "  df_sub_valid['full_path_image'] = df_sub_valid['image'].apply(join_paths)\n"
          ]
        }
      ],
      "source": [
        "## Making subset of the training dataframe\n",
        "df_sub_valid = df_valid.iloc[:10]\n",
        "\n",
        "base_valid_path = '/content/drive/MyDrive/docVqa_dataset/val'\n",
        "\n",
        "# Define a function to join the base path with the image path\n",
        "def join_paths(image_path):\n",
        "    return os.path.join(base_valid_path, image_path)\n",
        "\n",
        "# Apply the function to create a new column with the full image path\n",
        "df_sub_valid['full_path_image'] = df_sub_valid['image'].apply(join_paths)"
      ]
    },
    {
      "cell_type": "code",
      "execution_count": null,
      "metadata": {
        "colab": {
          "base_uri": "https://localhost:8080/"
        },
        "id": "AD4kGLq_HtEU",
        "outputId": "24304153-a57f-4264-e040-c2e5adf8ce95"
      },
      "outputs": [
        {
          "data": {
            "text/plain": [
              "Index(['questionId', 'question', 'image', 'docId', 'ucsf_document_id',\n",
              "       'ucsf_document_page_no', 'answers', 'data_split', 'full_path_image'],\n",
              "      dtype='object')"
            ]
          },
          "execution_count": 13,
          "metadata": {},
          "output_type": "execute_result"
        }
      ],
      "source": [
        "df_sub_valid.columns"
      ]
    },
    {
      "cell_type": "code",
      "execution_count": null,
      "metadata": {
        "colab": {
          "base_uri": "https://localhost:8080/",
          "height": 371
        },
        "id": "gKJWSTK4H3hG",
        "outputId": "55fa57f6-359f-4ff7-a298-bf0833f55492"
      },
      "outputs": [
        {
          "data": {
            "text/html": [
              "\n",
              "\n",
              "  <div id=\"df-896e55e4-24b1-4381-b12a-75141c8d86ee\">\n",
              "    <div class=\"colab-df-container\">\n",
              "      <div>\n",
              "<style scoped>\n",
              "    .dataframe tbody tr th:only-of-type {\n",
              "        vertical-align: middle;\n",
              "    }\n",
              "\n",
              "    .dataframe tbody tr th {\n",
              "        vertical-align: top;\n",
              "    }\n",
              "\n",
              "    .dataframe thead th {\n",
              "        text-align: right;\n",
              "    }\n",
              "</style>\n",
              "<table border=\"1\" class=\"dataframe\">\n",
              "  <thead>\n",
              "    <tr style=\"text-align: right;\">\n",
              "      <th></th>\n",
              "      <th>questionId</th>\n",
              "      <th>question</th>\n",
              "      <th>image</th>\n",
              "      <th>docId</th>\n",
              "      <th>ucsf_document_id</th>\n",
              "      <th>ucsf_document_page_no</th>\n",
              "      <th>answers</th>\n",
              "      <th>data_split</th>\n",
              "      <th>full_path_image</th>\n",
              "    </tr>\n",
              "  </thead>\n",
              "  <tbody>\n",
              "    <tr>\n",
              "      <th>0</th>\n",
              "      <td>49153</td>\n",
              "      <td>What is the ‘actual’ value per 1000, during th...</td>\n",
              "      <td>documents/pybv0228_81.png</td>\n",
              "      <td>14465</td>\n",
              "      <td>pybv0228</td>\n",
              "      <td>81</td>\n",
              "      <td>[0.28]</td>\n",
              "      <td>val</td>\n",
              "      <td>/content/drive/MyDrive/docVqa_dataset/val/docu...</td>\n",
              "    </tr>\n",
              "    <tr>\n",
              "      <th>1</th>\n",
              "      <td>24580</td>\n",
              "      <td>What is name of university?</td>\n",
              "      <td>documents/nkbl0226_1.png</td>\n",
              "      <td>7027</td>\n",
              "      <td>nkbl0226</td>\n",
              "      <td>1</td>\n",
              "      <td>[university of california, University of Calif...</td>\n",
              "      <td>val</td>\n",
              "      <td>/content/drive/MyDrive/docVqa_dataset/val/docu...</td>\n",
              "    </tr>\n",
              "    <tr>\n",
              "      <th>2</th>\n",
              "      <td>57349</td>\n",
              "      <td>What is the name of the company?</td>\n",
              "      <td>documents/snbx0223_22.png</td>\n",
              "      <td>4733</td>\n",
              "      <td>snbx0223</td>\n",
              "      <td>22</td>\n",
              "      <td>[itc limited, ITC Limited]</td>\n",
              "      <td>val</td>\n",
              "      <td>/content/drive/MyDrive/docVqa_dataset/val/docu...</td>\n",
              "    </tr>\n",
              "    <tr>\n",
              "      <th>3</th>\n",
              "      <td>24581</td>\n",
              "      <td>Where is the university located ?</td>\n",
              "      <td>documents/nkbl0226_1.png</td>\n",
              "      <td>7027</td>\n",
              "      <td>nkbl0226</td>\n",
              "      <td>1</td>\n",
              "      <td>[san diego, San Diego]</td>\n",
              "      <td>val</td>\n",
              "      <td>/content/drive/MyDrive/docVqa_dataset/val/docu...</td>\n",
              "    </tr>\n",
              "    <tr>\n",
              "      <th>4</th>\n",
              "      <td>24582</td>\n",
              "      <td>To whom is the document sent?</td>\n",
              "      <td>documents/nkbl0226_1.png</td>\n",
              "      <td>7027</td>\n",
              "      <td>nkbl0226</td>\n",
              "      <td>1</td>\n",
              "      <td>[Paul]</td>\n",
              "      <td>val</td>\n",
              "      <td>/content/drive/MyDrive/docVqa_dataset/val/docu...</td>\n",
              "    </tr>\n",
              "  </tbody>\n",
              "</table>\n",
              "</div>\n",
              "      <button class=\"colab-df-convert\" onclick=\"convertToInteractive('df-896e55e4-24b1-4381-b12a-75141c8d86ee')\"\n",
              "              title=\"Convert this dataframe to an interactive table.\"\n",
              "              style=\"display:none;\">\n",
              "\n",
              "  <svg xmlns=\"http://www.w3.org/2000/svg\" height=\"24px\"viewBox=\"0 0 24 24\"\n",
              "       width=\"24px\">\n",
              "    <path d=\"M0 0h24v24H0V0z\" fill=\"none\"/>\n",
              "    <path d=\"M18.56 5.44l.94 2.06.94-2.06 2.06-.94-2.06-.94-.94-2.06-.94 2.06-2.06.94zm-11 1L8.5 8.5l.94-2.06 2.06-.94-2.06-.94L8.5 2.5l-.94 2.06-2.06.94zm10 10l.94 2.06.94-2.06 2.06-.94-2.06-.94-.94-2.06-.94 2.06-2.06.94z\"/><path d=\"M17.41 7.96l-1.37-1.37c-.4-.4-.92-.59-1.43-.59-.52 0-1.04.2-1.43.59L10.3 9.45l-7.72 7.72c-.78.78-.78 2.05 0 2.83L4 21.41c.39.39.9.59 1.41.59.51 0 1.02-.2 1.41-.59l7.78-7.78 2.81-2.81c.8-.78.8-2.07 0-2.86zM5.41 20L4 18.59l7.72-7.72 1.47 1.35L5.41 20z\"/>\n",
              "  </svg>\n",
              "      </button>\n",
              "\n",
              "\n",
              "\n",
              "    <div id=\"df-e6a3b447-100a-463c-be68-2c86f20795f3\">\n",
              "      <button class=\"colab-df-quickchart\" onclick=\"quickchart('df-e6a3b447-100a-463c-be68-2c86f20795f3')\"\n",
              "              title=\"Suggest charts.\"\n",
              "              style=\"display:none;\">\n",
              "\n",
              "<svg xmlns=\"http://www.w3.org/2000/svg\" height=\"24px\"viewBox=\"0 0 24 24\"\n",
              "     width=\"24px\">\n",
              "    <g>\n",
              "        <path d=\"M19 3H5c-1.1 0-2 .9-2 2v14c0 1.1.9 2 2 2h14c1.1 0 2-.9 2-2V5c0-1.1-.9-2-2-2zM9 17H7v-7h2v7zm4 0h-2V7h2v10zm4 0h-2v-4h2v4z\"/>\n",
              "    </g>\n",
              "</svg>\n",
              "      </button>\n",
              "    </div>\n",
              "\n",
              "<style>\n",
              "  .colab-df-quickchart {\n",
              "    background-color: #E8F0FE;\n",
              "    border: none;\n",
              "    border-radius: 50%;\n",
              "    cursor: pointer;\n",
              "    display: none;\n",
              "    fill: #1967D2;\n",
              "    height: 32px;\n",
              "    padding: 0 0 0 0;\n",
              "    width: 32px;\n",
              "  }\n",
              "\n",
              "  .colab-df-quickchart:hover {\n",
              "    background-color: #E2EBFA;\n",
              "    box-shadow: 0px 1px 2px rgba(60, 64, 67, 0.3), 0px 1px 3px 1px rgba(60, 64, 67, 0.15);\n",
              "    fill: #174EA6;\n",
              "  }\n",
              "\n",
              "  [theme=dark] .colab-df-quickchart {\n",
              "    background-color: #3B4455;\n",
              "    fill: #D2E3FC;\n",
              "  }\n",
              "\n",
              "  [theme=dark] .colab-df-quickchart:hover {\n",
              "    background-color: #434B5C;\n",
              "    box-shadow: 0px 1px 3px 1px rgba(0, 0, 0, 0.15);\n",
              "    filter: drop-shadow(0px 1px 2px rgba(0, 0, 0, 0.3));\n",
              "    fill: #FFFFFF;\n",
              "  }\n",
              "</style>\n",
              "\n",
              "    <script>\n",
              "      async function quickchart(key) {\n",
              "        const containerElement = document.querySelector('#' + key);\n",
              "        const charts = await google.colab.kernel.invokeFunction(\n",
              "            'suggestCharts', [key], {});\n",
              "      }\n",
              "    </script>\n",
              "\n",
              "      <script>\n",
              "\n",
              "function displayQuickchartButton(domScope) {\n",
              "  let quickchartButtonEl =\n",
              "    domScope.querySelector('#df-e6a3b447-100a-463c-be68-2c86f20795f3 button.colab-df-quickchart');\n",
              "  quickchartButtonEl.style.display =\n",
              "    google.colab.kernel.accessAllowed ? 'block' : 'none';\n",
              "}\n",
              "\n",
              "        displayQuickchartButton(document);\n",
              "      </script>\n",
              "      <style>\n",
              "    .colab-df-container {\n",
              "      display:flex;\n",
              "      flex-wrap:wrap;\n",
              "      gap: 12px;\n",
              "    }\n",
              "\n",
              "    .colab-df-convert {\n",
              "      background-color: #E8F0FE;\n",
              "      border: none;\n",
              "      border-radius: 50%;\n",
              "      cursor: pointer;\n",
              "      display: none;\n",
              "      fill: #1967D2;\n",
              "      height: 32px;\n",
              "      padding: 0 0 0 0;\n",
              "      width: 32px;\n",
              "    }\n",
              "\n",
              "    .colab-df-convert:hover {\n",
              "      background-color: #E2EBFA;\n",
              "      box-shadow: 0px 1px 2px rgba(60, 64, 67, 0.3), 0px 1px 3px 1px rgba(60, 64, 67, 0.15);\n",
              "      fill: #174EA6;\n",
              "    }\n",
              "\n",
              "    [theme=dark] .colab-df-convert {\n",
              "      background-color: #3B4455;\n",
              "      fill: #D2E3FC;\n",
              "    }\n",
              "\n",
              "    [theme=dark] .colab-df-convert:hover {\n",
              "      background-color: #434B5C;\n",
              "      box-shadow: 0px 1px 3px 1px rgba(0, 0, 0, 0.15);\n",
              "      filter: drop-shadow(0px 1px 2px rgba(0, 0, 0, 0.3));\n",
              "      fill: #FFFFFF;\n",
              "    }\n",
              "  </style>\n",
              "\n",
              "      <script>\n",
              "        const buttonEl =\n",
              "          document.querySelector('#df-896e55e4-24b1-4381-b12a-75141c8d86ee button.colab-df-convert');\n",
              "        buttonEl.style.display =\n",
              "          google.colab.kernel.accessAllowed ? 'block' : 'none';\n",
              "\n",
              "        async function convertToInteractive(key) {\n",
              "          const element = document.querySelector('#df-896e55e4-24b1-4381-b12a-75141c8d86ee');\n",
              "          const dataTable =\n",
              "            await google.colab.kernel.invokeFunction('convertToInteractive',\n",
              "                                                     [key], {});\n",
              "          if (!dataTable) return;\n",
              "\n",
              "          const docLinkHtml = 'Like what you see? Visit the ' +\n",
              "            '<a target=\"_blank\" href=https://colab.research.google.com/notebooks/data_table.ipynb>data table notebook</a>'\n",
              "            + ' to learn more about interactive tables.';\n",
              "          element.innerHTML = '';\n",
              "          dataTable['output_type'] = 'display_data';\n",
              "          await google.colab.output.renderOutput(dataTable, element);\n",
              "          const docLink = document.createElement('div');\n",
              "          docLink.innerHTML = docLinkHtml;\n",
              "          element.appendChild(docLink);\n",
              "        }\n",
              "      </script>\n",
              "    </div>\n",
              "  </div>\n"
            ],
            "text/plain": [
              "   questionId                                           question  \\\n",
              "0       49153  What is the ‘actual’ value per 1000, during th...   \n",
              "1       24580                        What is name of university?   \n",
              "2       57349                   What is the name of the company?   \n",
              "3       24581                  Where is the university located ?   \n",
              "4       24582                      To whom is the document sent?   \n",
              "\n",
              "                       image  docId ucsf_document_id ucsf_document_page_no  \\\n",
              "0  documents/pybv0228_81.png  14465         pybv0228                    81   \n",
              "1   documents/nkbl0226_1.png   7027         nkbl0226                     1   \n",
              "2  documents/snbx0223_22.png   4733         snbx0223                    22   \n",
              "3   documents/nkbl0226_1.png   7027         nkbl0226                     1   \n",
              "4   documents/nkbl0226_1.png   7027         nkbl0226                     1   \n",
              "\n",
              "                                             answers data_split  \\\n",
              "0                                             [0.28]        val   \n",
              "1  [university of california, University of Calif...        val   \n",
              "2                         [itc limited, ITC Limited]        val   \n",
              "3                             [san diego, San Diego]        val   \n",
              "4                                             [Paul]        val   \n",
              "\n",
              "                                     full_path_image  \n",
              "0  /content/drive/MyDrive/docVqa_dataset/val/docu...  \n",
              "1  /content/drive/MyDrive/docVqa_dataset/val/docu...  \n",
              "2  /content/drive/MyDrive/docVqa_dataset/val/docu...  \n",
              "3  /content/drive/MyDrive/docVqa_dataset/val/docu...  \n",
              "4  /content/drive/MyDrive/docVqa_dataset/val/docu...  "
            ]
          },
          "execution_count": 14,
          "metadata": {},
          "output_type": "execute_result"
        }
      ],
      "source": [
        "df_sub_valid.head()"
      ]
    },
    {
      "cell_type": "code",
      "execution_count": null,
      "metadata": {
        "id": "7LO_P4SwH9Ml"
      },
      "outputs": [],
      "source": [
        "def extract_ocr_info(df, base_dir):\n",
        "\n",
        "  dir_list = os.listdir(base_dir)\n",
        "  ocr_base_dir = os.path.join(base_dir, dir_list[1])\n",
        "\n",
        "  # Create empty lists for bounding boxes and word lists\n",
        "  bbox_list = []\n",
        "  word_list = []\n",
        "\n",
        "  # Iterate over each row in the DataFrame\n",
        "  for _, row in df.iterrows():\n",
        "\n",
        "    # Construct the ocr_path for the row\n",
        "    ocr_path = os.path.join(ocr_base_dir, row['ucsf_document_id'] + '_' + row['ucsf_document_page_no'] + '.json')\n",
        "\n",
        "    # Open the json file and load the data\n",
        "    with open(ocr_path, 'r') as f:\n",
        "      ocr_json = json.load(f)\n",
        "\n",
        "    # Extract the bounding boxes and word lists from the json data\n",
        "    bbox_row = []\n",
        "    word_row = []\n",
        "    for i in ocr_json['recognitionResults'][0]['lines']:\n",
        "      for j in i['words']:\n",
        "        bbox_row.append(j['boundingBox'])\n",
        "        word_row.append(j['text'])\n",
        "\n",
        "    # Append the bbox and word lists to the global lists\n",
        "    bbox_list.append(bbox_row)\n",
        "    word_list.append(word_row)\n",
        "  # Create new columns in the DataFrame to store the bbox and words lists\n",
        "  df['bounding_boxes'] = bbox_list\n",
        "  df['word_list'] = word_list\n",
        "\n",
        "  df.drop(['questionId', 'image','ucsf_document_id', 'ucsf_document_page_no'], axis=1, inplace=True)\n",
        "\n",
        "  # Return the updated DataFrame\n",
        "  return df"
      ]
    },
    {
      "cell_type": "code",
      "execution_count": null,
      "metadata": {
        "colab": {
          "base_uri": "https://localhost:8080/",
          "height": 36
        },
        "id": "6n2lGA52KMjo",
        "outputId": "bc5880b6-638e-4cb0-f347-e6d8433e39c9"
      },
      "outputs": [
        {
          "data": {
            "application/vnd.google.colaboratory.intrinsic+json": {
              "type": "string"
            },
            "text/plain": [
              "'/content/drive/MyDrive/docVqa_dataset/val'"
            ]
          },
          "execution_count": 16,
          "metadata": {},
          "output_type": "execute_result"
        }
      ],
      "source": [
        "base_valid_path"
      ]
    },
    {
      "cell_type": "code",
      "execution_count": null,
      "metadata": {
        "colab": {
          "base_uri": "https://localhost:8080/"
        },
        "id": "IWdjpkXfIktu",
        "outputId": "101ffae8-f632-4b90-ef57-fdb19b5ec51d"
      },
      "outputs": [
        {
          "name": "stderr",
          "output_type": "stream",
          "text": [
            "<ipython-input-15-9bb3011757be>:32: SettingWithCopyWarning: \n",
            "A value is trying to be set on a copy of a slice from a DataFrame.\n",
            "Try using .loc[row_indexer,col_indexer] = value instead\n",
            "\n",
            "See the caveats in the documentation: https://pandas.pydata.org/pandas-docs/stable/user_guide/indexing.html#returning-a-view-versus-a-copy\n",
            "  df['bounding_boxes'] = bbox_list\n",
            "<ipython-input-15-9bb3011757be>:33: SettingWithCopyWarning: \n",
            "A value is trying to be set on a copy of a slice from a DataFrame.\n",
            "Try using .loc[row_indexer,col_indexer] = value instead\n",
            "\n",
            "See the caveats in the documentation: https://pandas.pydata.org/pandas-docs/stable/user_guide/indexing.html#returning-a-view-versus-a-copy\n",
            "  df['word_list'] = word_list\n",
            "<ipython-input-15-9bb3011757be>:35: SettingWithCopyWarning: \n",
            "A value is trying to be set on a copy of a slice from a DataFrame\n",
            "\n",
            "See the caveats in the documentation: https://pandas.pydata.org/pandas-docs/stable/user_guide/indexing.html#returning-a-view-versus-a-copy\n",
            "  df.drop(['questionId', 'image','ucsf_document_id', 'ucsf_document_page_no'], axis=1, inplace=True)\n"
          ]
        }
      ],
      "source": [
        "df_sub_valid_ocr = extract_ocr_info(df_sub_valid, base_valid_path)"
      ]
    },
    {
      "cell_type": "code",
      "execution_count": null,
      "metadata": {
        "colab": {
          "base_uri": "https://localhost:8080/"
        },
        "id": "S7_JdKVxKebo",
        "outputId": "6df53082-67b1-4885-f614-3f6253ca0b16"
      },
      "outputs": [
        {
          "data": {
            "text/plain": [
              "Index(['question', 'docId', 'answers', 'data_split', 'full_path_image',\n",
              "       'bounding_boxes', 'word_list'],\n",
              "      dtype='object')"
            ]
          },
          "execution_count": 18,
          "metadata": {},
          "output_type": "execute_result"
        }
      ],
      "source": [
        "df_sub_valid_ocr.columns"
      ]
    },
    {
      "cell_type": "code",
      "execution_count": null,
      "metadata": {
        "colab": {
          "base_uri": "https://localhost:8080/",
          "height": 337
        },
        "id": "14UpZE7JKiot",
        "outputId": "86a6c239-2cd3-4dbe-fbf4-437ee4ddbb54"
      },
      "outputs": [
        {
          "data": {
            "text/html": [
              "\n",
              "\n",
              "  <div id=\"df-51ed574c-ceb7-4fc2-a8ce-f143f7a2fd0b\">\n",
              "    <div class=\"colab-df-container\">\n",
              "      <div>\n",
              "<style scoped>\n",
              "    .dataframe tbody tr th:only-of-type {\n",
              "        vertical-align: middle;\n",
              "    }\n",
              "\n",
              "    .dataframe tbody tr th {\n",
              "        vertical-align: top;\n",
              "    }\n",
              "\n",
              "    .dataframe thead th {\n",
              "        text-align: right;\n",
              "    }\n",
              "</style>\n",
              "<table border=\"1\" class=\"dataframe\">\n",
              "  <thead>\n",
              "    <tr style=\"text-align: right;\">\n",
              "      <th></th>\n",
              "      <th>question</th>\n",
              "      <th>docId</th>\n",
              "      <th>answers</th>\n",
              "      <th>data_split</th>\n",
              "      <th>full_path_image</th>\n",
              "      <th>bounding_boxes</th>\n",
              "      <th>word_list</th>\n",
              "    </tr>\n",
              "  </thead>\n",
              "  <tbody>\n",
              "    <tr>\n",
              "      <th>0</th>\n",
              "      <td>What is the ‘actual’ value per 1000, during th...</td>\n",
              "      <td>14465</td>\n",
              "      <td>[0.28]</td>\n",
              "      <td>val</td>\n",
              "      <td>/content/drive/MyDrive/docVqa_dataset/val/docu...</td>\n",
              "      <td>[[1083, 226, 1209, 226, 1208, 259, 1082, 261],...</td>\n",
              "      <td>[FIGURE, C., 2., AGE, ADJUSTED, MOTOR, VEHICLE...</td>\n",
              "    </tr>\n",
              "    <tr>\n",
              "      <th>1</th>\n",
              "      <td>What is name of university?</td>\n",
              "      <td>7027</td>\n",
              "      <td>[university of california, University of Calif...</td>\n",
              "      <td>val</td>\n",
              "      <td>/content/drive/MyDrive/docVqa_dataset/val/docu...</td>\n",
              "      <td>[[36, 72, 200, 65, 200, 96, 36, 94], [208, 65,...</td>\n",
              "      <td>[UNIVERSITY, OF, CALIFORNIA,, SAN, DIEGO, To, ...</td>\n",
              "    </tr>\n",
              "    <tr>\n",
              "      <th>2</th>\n",
              "      <td>What is the name of the company?</td>\n",
              "      <td>4733</td>\n",
              "      <td>[itc limited, ITC Limited]</td>\n",
              "      <td>val</td>\n",
              "      <td>/content/drive/MyDrive/docVqa_dataset/val/docu...</td>\n",
              "      <td>[[127, 133, 190, 134, 190, 169, 126, 169], [20...</td>\n",
              "      <td>[ITC, Limited, REPORT, AND, ACCOUNTS, 2013, IT...</td>\n",
              "    </tr>\n",
              "    <tr>\n",
              "      <th>3</th>\n",
              "      <td>Where is the university located ?</td>\n",
              "      <td>7027</td>\n",
              "      <td>[san diego, San Diego]</td>\n",
              "      <td>val</td>\n",
              "      <td>/content/drive/MyDrive/docVqa_dataset/val/docu...</td>\n",
              "      <td>[[36, 72, 200, 65, 200, 96, 36, 94], [208, 65,...</td>\n",
              "      <td>[UNIVERSITY, OF, CALIFORNIA,, SAN, DIEGO, To, ...</td>\n",
              "    </tr>\n",
              "    <tr>\n",
              "      <th>4</th>\n",
              "      <td>To whom is the document sent?</td>\n",
              "      <td>7027</td>\n",
              "      <td>[Paul]</td>\n",
              "      <td>val</td>\n",
              "      <td>/content/drive/MyDrive/docVqa_dataset/val/docu...</td>\n",
              "      <td>[[36, 72, 200, 65, 200, 96, 36, 94], [208, 65,...</td>\n",
              "      <td>[UNIVERSITY, OF, CALIFORNIA,, SAN, DIEGO, To, ...</td>\n",
              "    </tr>\n",
              "  </tbody>\n",
              "</table>\n",
              "</div>\n",
              "      <button class=\"colab-df-convert\" onclick=\"convertToInteractive('df-51ed574c-ceb7-4fc2-a8ce-f143f7a2fd0b')\"\n",
              "              title=\"Convert this dataframe to an interactive table.\"\n",
              "              style=\"display:none;\">\n",
              "\n",
              "  <svg xmlns=\"http://www.w3.org/2000/svg\" height=\"24px\"viewBox=\"0 0 24 24\"\n",
              "       width=\"24px\">\n",
              "    <path d=\"M0 0h24v24H0V0z\" fill=\"none\"/>\n",
              "    <path d=\"M18.56 5.44l.94 2.06.94-2.06 2.06-.94-2.06-.94-.94-2.06-.94 2.06-2.06.94zm-11 1L8.5 8.5l.94-2.06 2.06-.94-2.06-.94L8.5 2.5l-.94 2.06-2.06.94zm10 10l.94 2.06.94-2.06 2.06-.94-2.06-.94-.94-2.06-.94 2.06-2.06.94z\"/><path d=\"M17.41 7.96l-1.37-1.37c-.4-.4-.92-.59-1.43-.59-.52 0-1.04.2-1.43.59L10.3 9.45l-7.72 7.72c-.78.78-.78 2.05 0 2.83L4 21.41c.39.39.9.59 1.41.59.51 0 1.02-.2 1.41-.59l7.78-7.78 2.81-2.81c.8-.78.8-2.07 0-2.86zM5.41 20L4 18.59l7.72-7.72 1.47 1.35L5.41 20z\"/>\n",
              "  </svg>\n",
              "      </button>\n",
              "\n",
              "\n",
              "\n",
              "    <div id=\"df-295cf3c7-5bf8-4280-9c6d-07c7b9886f03\">\n",
              "      <button class=\"colab-df-quickchart\" onclick=\"quickchart('df-295cf3c7-5bf8-4280-9c6d-07c7b9886f03')\"\n",
              "              title=\"Suggest charts.\"\n",
              "              style=\"display:none;\">\n",
              "\n",
              "<svg xmlns=\"http://www.w3.org/2000/svg\" height=\"24px\"viewBox=\"0 0 24 24\"\n",
              "     width=\"24px\">\n",
              "    <g>\n",
              "        <path d=\"M19 3H5c-1.1 0-2 .9-2 2v14c0 1.1.9 2 2 2h14c1.1 0 2-.9 2-2V5c0-1.1-.9-2-2-2zM9 17H7v-7h2v7zm4 0h-2V7h2v10zm4 0h-2v-4h2v4z\"/>\n",
              "    </g>\n",
              "</svg>\n",
              "      </button>\n",
              "    </div>\n",
              "\n",
              "<style>\n",
              "  .colab-df-quickchart {\n",
              "    background-color: #E8F0FE;\n",
              "    border: none;\n",
              "    border-radius: 50%;\n",
              "    cursor: pointer;\n",
              "    display: none;\n",
              "    fill: #1967D2;\n",
              "    height: 32px;\n",
              "    padding: 0 0 0 0;\n",
              "    width: 32px;\n",
              "  }\n",
              "\n",
              "  .colab-df-quickchart:hover {\n",
              "    background-color: #E2EBFA;\n",
              "    box-shadow: 0px 1px 2px rgba(60, 64, 67, 0.3), 0px 1px 3px 1px rgba(60, 64, 67, 0.15);\n",
              "    fill: #174EA6;\n",
              "  }\n",
              "\n",
              "  [theme=dark] .colab-df-quickchart {\n",
              "    background-color: #3B4455;\n",
              "    fill: #D2E3FC;\n",
              "  }\n",
              "\n",
              "  [theme=dark] .colab-df-quickchart:hover {\n",
              "    background-color: #434B5C;\n",
              "    box-shadow: 0px 1px 3px 1px rgba(0, 0, 0, 0.15);\n",
              "    filter: drop-shadow(0px 1px 2px rgba(0, 0, 0, 0.3));\n",
              "    fill: #FFFFFF;\n",
              "  }\n",
              "</style>\n",
              "\n",
              "    <script>\n",
              "      async function quickchart(key) {\n",
              "        const containerElement = document.querySelector('#' + key);\n",
              "        const charts = await google.colab.kernel.invokeFunction(\n",
              "            'suggestCharts', [key], {});\n",
              "      }\n",
              "    </script>\n",
              "\n",
              "      <script>\n",
              "\n",
              "function displayQuickchartButton(domScope) {\n",
              "  let quickchartButtonEl =\n",
              "    domScope.querySelector('#df-295cf3c7-5bf8-4280-9c6d-07c7b9886f03 button.colab-df-quickchart');\n",
              "  quickchartButtonEl.style.display =\n",
              "    google.colab.kernel.accessAllowed ? 'block' : 'none';\n",
              "}\n",
              "\n",
              "        displayQuickchartButton(document);\n",
              "      </script>\n",
              "      <style>\n",
              "    .colab-df-container {\n",
              "      display:flex;\n",
              "      flex-wrap:wrap;\n",
              "      gap: 12px;\n",
              "    }\n",
              "\n",
              "    .colab-df-convert {\n",
              "      background-color: #E8F0FE;\n",
              "      border: none;\n",
              "      border-radius: 50%;\n",
              "      cursor: pointer;\n",
              "      display: none;\n",
              "      fill: #1967D2;\n",
              "      height: 32px;\n",
              "      padding: 0 0 0 0;\n",
              "      width: 32px;\n",
              "    }\n",
              "\n",
              "    .colab-df-convert:hover {\n",
              "      background-color: #E2EBFA;\n",
              "      box-shadow: 0px 1px 2px rgba(60, 64, 67, 0.3), 0px 1px 3px 1px rgba(60, 64, 67, 0.15);\n",
              "      fill: #174EA6;\n",
              "    }\n",
              "\n",
              "    [theme=dark] .colab-df-convert {\n",
              "      background-color: #3B4455;\n",
              "      fill: #D2E3FC;\n",
              "    }\n",
              "\n",
              "    [theme=dark] .colab-df-convert:hover {\n",
              "      background-color: #434B5C;\n",
              "      box-shadow: 0px 1px 3px 1px rgba(0, 0, 0, 0.15);\n",
              "      filter: drop-shadow(0px 1px 2px rgba(0, 0, 0, 0.3));\n",
              "      fill: #FFFFFF;\n",
              "    }\n",
              "  </style>\n",
              "\n",
              "      <script>\n",
              "        const buttonEl =\n",
              "          document.querySelector('#df-51ed574c-ceb7-4fc2-a8ce-f143f7a2fd0b button.colab-df-convert');\n",
              "        buttonEl.style.display =\n",
              "          google.colab.kernel.accessAllowed ? 'block' : 'none';\n",
              "\n",
              "        async function convertToInteractive(key) {\n",
              "          const element = document.querySelector('#df-51ed574c-ceb7-4fc2-a8ce-f143f7a2fd0b');\n",
              "          const dataTable =\n",
              "            await google.colab.kernel.invokeFunction('convertToInteractive',\n",
              "                                                     [key], {});\n",
              "          if (!dataTable) return;\n",
              "\n",
              "          const docLinkHtml = 'Like what you see? Visit the ' +\n",
              "            '<a target=\"_blank\" href=https://colab.research.google.com/notebooks/data_table.ipynb>data table notebook</a>'\n",
              "            + ' to learn more about interactive tables.';\n",
              "          element.innerHTML = '';\n",
              "          dataTable['output_type'] = 'display_data';\n",
              "          await google.colab.output.renderOutput(dataTable, element);\n",
              "          const docLink = document.createElement('div');\n",
              "          docLink.innerHTML = docLinkHtml;\n",
              "          element.appendChild(docLink);\n",
              "        }\n",
              "      </script>\n",
              "    </div>\n",
              "  </div>\n"
            ],
            "text/plain": [
              "                                            question  docId  \\\n",
              "0  What is the ‘actual’ value per 1000, during th...  14465   \n",
              "1                        What is name of university?   7027   \n",
              "2                   What is the name of the company?   4733   \n",
              "3                  Where is the university located ?   7027   \n",
              "4                      To whom is the document sent?   7027   \n",
              "\n",
              "                                             answers data_split  \\\n",
              "0                                             [0.28]        val   \n",
              "1  [university of california, University of Calif...        val   \n",
              "2                         [itc limited, ITC Limited]        val   \n",
              "3                             [san diego, San Diego]        val   \n",
              "4                                             [Paul]        val   \n",
              "\n",
              "                                     full_path_image  \\\n",
              "0  /content/drive/MyDrive/docVqa_dataset/val/docu...   \n",
              "1  /content/drive/MyDrive/docVqa_dataset/val/docu...   \n",
              "2  /content/drive/MyDrive/docVqa_dataset/val/docu...   \n",
              "3  /content/drive/MyDrive/docVqa_dataset/val/docu...   \n",
              "4  /content/drive/MyDrive/docVqa_dataset/val/docu...   \n",
              "\n",
              "                                      bounding_boxes  \\\n",
              "0  [[1083, 226, 1209, 226, 1208, 259, 1082, 261],...   \n",
              "1  [[36, 72, 200, 65, 200, 96, 36, 94], [208, 65,...   \n",
              "2  [[127, 133, 190, 134, 190, 169, 126, 169], [20...   \n",
              "3  [[36, 72, 200, 65, 200, 96, 36, 94], [208, 65,...   \n",
              "4  [[36, 72, 200, 65, 200, 96, 36, 94], [208, 65,...   \n",
              "\n",
              "                                           word_list  \n",
              "0  [FIGURE, C., 2., AGE, ADJUSTED, MOTOR, VEHICLE...  \n",
              "1  [UNIVERSITY, OF, CALIFORNIA,, SAN, DIEGO, To, ...  \n",
              "2  [ITC, Limited, REPORT, AND, ACCOUNTS, 2013, IT...  \n",
              "3  [UNIVERSITY, OF, CALIFORNIA,, SAN, DIEGO, To, ...  \n",
              "4  [UNIVERSITY, OF, CALIFORNIA,, SAN, DIEGO, To, ...  "
            ]
          },
          "execution_count": 19,
          "metadata": {},
          "output_type": "execute_result"
        }
      ],
      "source": [
        "df_sub_valid_ocr.head()"
      ]
    },
    {
      "cell_type": "code",
      "execution_count": null,
      "metadata": {
        "id": "0puCvk4IKuvh"
      },
      "outputs": [],
      "source": [
        "## Convert dataframe into dataset object\n",
        "hf_sub_valid_ocr = Dataset.from_pandas(df_sub_valid_ocr)"
      ]
    },
    {
      "cell_type": "code",
      "execution_count": null,
      "metadata": {
        "colab": {
          "base_uri": "https://localhost:8080/"
        },
        "id": "m3qXZUuL-uGj",
        "outputId": "124bd14b-8a8e-4547-8bb9-18a0870f49e2"
      },
      "outputs": [
        {
          "data": {
            "text/plain": [
              "Dataset({\n",
              "    features: ['question', 'docId', 'answers', 'data_split', 'full_path_image', 'bounding_boxes', 'word_list'],\n",
              "    num_rows: 10\n",
              "})"
            ]
          },
          "execution_count": 21,
          "metadata": {},
          "output_type": "execute_result"
        }
      ],
      "source": [
        "hf_sub_valid_ocr"
      ]
    },
    {
      "cell_type": "code",
      "execution_count": null,
      "metadata": {
        "colab": {
          "base_uri": "https://localhost:8080/"
        },
        "id": "oT0gBowP-t_r",
        "outputId": "44a32f78-a878-4d79-c539-9d01df672fa0"
      },
      "outputs": [
        {
          "data": {
            "text/plain": [
              "['question',\n",
              " 'docId',\n",
              " 'answers',\n",
              " 'data_split',\n",
              " 'full_path_image',\n",
              " 'bounding_boxes',\n",
              " 'word_list']"
            ]
          },
          "execution_count": 22,
          "metadata": {},
          "output_type": "execute_result"
        }
      ],
      "source": [
        "hf_sub_valid_ocr.column_names"
      ]
    },
    {
      "cell_type": "code",
      "execution_count": null,
      "metadata": {
        "colab": {
          "base_uri": "https://localhost:8080/"
        },
        "id": "2MXmyTk9-t8s",
        "outputId": "08dd76d7-5a72-4551-d0c9-fa0356a9b6ac"
      },
      "outputs": [
        {
          "data": {
            "text/plain": [
              "True"
            ]
          },
          "execution_count": 23,
          "metadata": {},
          "output_type": "execute_result"
        }
      ],
      "source": [
        "hf_sub_train_ocr.column_names == hf_sub_valid_ocr.column_names  ## result is true means we are in a right track"
      ]
    },
    {
      "cell_type": "markdown",
      "metadata": {
        "id": "fIoy4uoyLbMw"
      },
      "source": [
        "## Exp_3: Little details of test dataset separately"
      ]
    },
    {
      "cell_type": "code",
      "execution_count": null,
      "metadata": {
        "id": "I2_3z791-t6L"
      },
      "outputs": [],
      "source": [
        "test_path_main = '/content/drive/MyDrive/docVqa_dataset/test/test_v1.0.json'\n",
        "# Open the JSON file\n",
        "with open(test_path_main, 'r') as file:\n",
        "  # Load the contents of the file into a dictionary\n",
        "  data_test = json.load(file)"
      ]
    },
    {
      "cell_type": "code",
      "execution_count": null,
      "metadata": {
        "colab": {
          "base_uri": "https://localhost:8080/"
        },
        "id": "vTjy4m0N-t3b",
        "outputId": "85ed675d-fc40-474e-a44d-43969e2d60ef"
      },
      "outputs": [
        {
          "data": {
            "text/plain": [
              "dict"
            ]
          },
          "execution_count": 25,
          "metadata": {},
          "output_type": "execute_result"
        }
      ],
      "source": [
        "type(data_test)"
      ]
    },
    {
      "cell_type": "code",
      "execution_count": null,
      "metadata": {
        "colab": {
          "base_uri": "https://localhost:8080/"
        },
        "id": "MxScEkiS-t0j",
        "outputId": "7f95816e-5064-4ef0-8c1b-7f18eea5a966"
      },
      "outputs": [
        {
          "data": {
            "text/plain": [
              "dict_keys(['dataset_name', 'dataset_version', 'dataset_split', 'data'])"
            ]
          },
          "execution_count": 26,
          "metadata": {},
          "output_type": "execute_result"
        }
      ],
      "source": [
        "data_test.keys()"
      ]
    },
    {
      "cell_type": "code",
      "execution_count": null,
      "metadata": {
        "id": "O2v0uC0p-txs"
      },
      "outputs": [],
      "source": [
        "## ** Convert 'data' list into dataframe by passing into the dataframe\n",
        "df_test = pd.DataFrame(data_test['data'])"
      ]
    },
    {
      "cell_type": "code",
      "execution_count": null,
      "metadata": {
        "colab": {
          "base_uri": "https://localhost:8080/",
          "height": 206
        },
        "id": "zVnJCBJ--tm1",
        "outputId": "550e5e19-c9b1-461a-bccd-131bffd36b16"
      },
      "outputs": [
        {
          "data": {
            "text/html": [
              "\n",
              "\n",
              "  <div id=\"df-2a3ad479-ca6e-4a2f-9167-e236f9bd5e17\">\n",
              "    <div class=\"colab-df-container\">\n",
              "      <div>\n",
              "<style scoped>\n",
              "    .dataframe tbody tr th:only-of-type {\n",
              "        vertical-align: middle;\n",
              "    }\n",
              "\n",
              "    .dataframe tbody tr th {\n",
              "        vertical-align: top;\n",
              "    }\n",
              "\n",
              "    .dataframe thead th {\n",
              "        text-align: right;\n",
              "    }\n",
              "</style>\n",
              "<table border=\"1\" class=\"dataframe\">\n",
              "  <thead>\n",
              "    <tr style=\"text-align: right;\">\n",
              "      <th></th>\n",
              "      <th>questionId</th>\n",
              "      <th>question</th>\n",
              "      <th>image</th>\n",
              "      <th>docId</th>\n",
              "      <th>ucsf_document_id</th>\n",
              "      <th>ucsf_document_page_no</th>\n",
              "      <th>data_split</th>\n",
              "    </tr>\n",
              "  </thead>\n",
              "  <tbody>\n",
              "    <tr>\n",
              "      <th>0</th>\n",
              "      <td>57344</td>\n",
              "      <td>What is the dividend payout in 2012?</td>\n",
              "      <td>documents/rnbx0223_193.png</td>\n",
              "      <td>4720</td>\n",
              "      <td>rnbx0223</td>\n",
              "      <td>193</td>\n",
              "      <td>test</td>\n",
              "    </tr>\n",
              "    <tr>\n",
              "      <th>1</th>\n",
              "      <td>16384</td>\n",
              "      <td>What is the name of the person in the CC field ?</td>\n",
              "      <td>documents/lflm0081_1.png</td>\n",
              "      <td>5160</td>\n",
              "      <td>lflm0081</td>\n",
              "      <td>1</td>\n",
              "      <td>test</td>\n",
              "    </tr>\n",
              "    <tr>\n",
              "      <th>2</th>\n",
              "      <td>57346</td>\n",
              "      <td>What is the % of Employees in 2012 based on gr...</td>\n",
              "      <td>documents/rnbx0223_191.png</td>\n",
              "      <td>4753</td>\n",
              "      <td>rnbx0223</td>\n",
              "      <td>191</td>\n",
              "      <td>test</td>\n",
              "    </tr>\n",
              "    <tr>\n",
              "      <th>3</th>\n",
              "      <td>61870</td>\n",
              "      <td>What is the personnel costs in the 4th year?</td>\n",
              "      <td>documents/hrfw0227_24.png</td>\n",
              "      <td>8103</td>\n",
              "      <td>hrfw0227</td>\n",
              "      <td>24</td>\n",
              "      <td>test</td>\n",
              "    </tr>\n",
              "    <tr>\n",
              "      <th>4</th>\n",
              "      <td>57348</td>\n",
              "      <td>What is the % of 'Providers of Capital' in the...</td>\n",
              "      <td>documents/rnbx0223_191.png</td>\n",
              "      <td>4753</td>\n",
              "      <td>rnbx0223</td>\n",
              "      <td>191</td>\n",
              "      <td>test</td>\n",
              "    </tr>\n",
              "  </tbody>\n",
              "</table>\n",
              "</div>\n",
              "      <button class=\"colab-df-convert\" onclick=\"convertToInteractive('df-2a3ad479-ca6e-4a2f-9167-e236f9bd5e17')\"\n",
              "              title=\"Convert this dataframe to an interactive table.\"\n",
              "              style=\"display:none;\">\n",
              "\n",
              "  <svg xmlns=\"http://www.w3.org/2000/svg\" height=\"24px\"viewBox=\"0 0 24 24\"\n",
              "       width=\"24px\">\n",
              "    <path d=\"M0 0h24v24H0V0z\" fill=\"none\"/>\n",
              "    <path d=\"M18.56 5.44l.94 2.06.94-2.06 2.06-.94-2.06-.94-.94-2.06-.94 2.06-2.06.94zm-11 1L8.5 8.5l.94-2.06 2.06-.94-2.06-.94L8.5 2.5l-.94 2.06-2.06.94zm10 10l.94 2.06.94-2.06 2.06-.94-2.06-.94-.94-2.06-.94 2.06-2.06.94z\"/><path d=\"M17.41 7.96l-1.37-1.37c-.4-.4-.92-.59-1.43-.59-.52 0-1.04.2-1.43.59L10.3 9.45l-7.72 7.72c-.78.78-.78 2.05 0 2.83L4 21.41c.39.39.9.59 1.41.59.51 0 1.02-.2 1.41-.59l7.78-7.78 2.81-2.81c.8-.78.8-2.07 0-2.86zM5.41 20L4 18.59l7.72-7.72 1.47 1.35L5.41 20z\"/>\n",
              "  </svg>\n",
              "      </button>\n",
              "\n",
              "\n",
              "\n",
              "    <div id=\"df-3235c50e-0360-4d80-8db3-7887a2abd6f3\">\n",
              "      <button class=\"colab-df-quickchart\" onclick=\"quickchart('df-3235c50e-0360-4d80-8db3-7887a2abd6f3')\"\n",
              "              title=\"Suggest charts.\"\n",
              "              style=\"display:none;\">\n",
              "\n",
              "<svg xmlns=\"http://www.w3.org/2000/svg\" height=\"24px\"viewBox=\"0 0 24 24\"\n",
              "     width=\"24px\">\n",
              "    <g>\n",
              "        <path d=\"M19 3H5c-1.1 0-2 .9-2 2v14c0 1.1.9 2 2 2h14c1.1 0 2-.9 2-2V5c0-1.1-.9-2-2-2zM9 17H7v-7h2v7zm4 0h-2V7h2v10zm4 0h-2v-4h2v4z\"/>\n",
              "    </g>\n",
              "</svg>\n",
              "      </button>\n",
              "    </div>\n",
              "\n",
              "<style>\n",
              "  .colab-df-quickchart {\n",
              "    background-color: #E8F0FE;\n",
              "    border: none;\n",
              "    border-radius: 50%;\n",
              "    cursor: pointer;\n",
              "    display: none;\n",
              "    fill: #1967D2;\n",
              "    height: 32px;\n",
              "    padding: 0 0 0 0;\n",
              "    width: 32px;\n",
              "  }\n",
              "\n",
              "  .colab-df-quickchart:hover {\n",
              "    background-color: #E2EBFA;\n",
              "    box-shadow: 0px 1px 2px rgba(60, 64, 67, 0.3), 0px 1px 3px 1px rgba(60, 64, 67, 0.15);\n",
              "    fill: #174EA6;\n",
              "  }\n",
              "\n",
              "  [theme=dark] .colab-df-quickchart {\n",
              "    background-color: #3B4455;\n",
              "    fill: #D2E3FC;\n",
              "  }\n",
              "\n",
              "  [theme=dark] .colab-df-quickchart:hover {\n",
              "    background-color: #434B5C;\n",
              "    box-shadow: 0px 1px 3px 1px rgba(0, 0, 0, 0.15);\n",
              "    filter: drop-shadow(0px 1px 2px rgba(0, 0, 0, 0.3));\n",
              "    fill: #FFFFFF;\n",
              "  }\n",
              "</style>\n",
              "\n",
              "    <script>\n",
              "      async function quickchart(key) {\n",
              "        const containerElement = document.querySelector('#' + key);\n",
              "        const charts = await google.colab.kernel.invokeFunction(\n",
              "            'suggestCharts', [key], {});\n",
              "      }\n",
              "    </script>\n",
              "\n",
              "      <script>\n",
              "\n",
              "function displayQuickchartButton(domScope) {\n",
              "  let quickchartButtonEl =\n",
              "    domScope.querySelector('#df-3235c50e-0360-4d80-8db3-7887a2abd6f3 button.colab-df-quickchart');\n",
              "  quickchartButtonEl.style.display =\n",
              "    google.colab.kernel.accessAllowed ? 'block' : 'none';\n",
              "}\n",
              "\n",
              "        displayQuickchartButton(document);\n",
              "      </script>\n",
              "      <style>\n",
              "    .colab-df-container {\n",
              "      display:flex;\n",
              "      flex-wrap:wrap;\n",
              "      gap: 12px;\n",
              "    }\n",
              "\n",
              "    .colab-df-convert {\n",
              "      background-color: #E8F0FE;\n",
              "      border: none;\n",
              "      border-radius: 50%;\n",
              "      cursor: pointer;\n",
              "      display: none;\n",
              "      fill: #1967D2;\n",
              "      height: 32px;\n",
              "      padding: 0 0 0 0;\n",
              "      width: 32px;\n",
              "    }\n",
              "\n",
              "    .colab-df-convert:hover {\n",
              "      background-color: #E2EBFA;\n",
              "      box-shadow: 0px 1px 2px rgba(60, 64, 67, 0.3), 0px 1px 3px 1px rgba(60, 64, 67, 0.15);\n",
              "      fill: #174EA6;\n",
              "    }\n",
              "\n",
              "    [theme=dark] .colab-df-convert {\n",
              "      background-color: #3B4455;\n",
              "      fill: #D2E3FC;\n",
              "    }\n",
              "\n",
              "    [theme=dark] .colab-df-convert:hover {\n",
              "      background-color: #434B5C;\n",
              "      box-shadow: 0px 1px 3px 1px rgba(0, 0, 0, 0.15);\n",
              "      filter: drop-shadow(0px 1px 2px rgba(0, 0, 0, 0.3));\n",
              "      fill: #FFFFFF;\n",
              "    }\n",
              "  </style>\n",
              "\n",
              "      <script>\n",
              "        const buttonEl =\n",
              "          document.querySelector('#df-2a3ad479-ca6e-4a2f-9167-e236f9bd5e17 button.colab-df-convert');\n",
              "        buttonEl.style.display =\n",
              "          google.colab.kernel.accessAllowed ? 'block' : 'none';\n",
              "\n",
              "        async function convertToInteractive(key) {\n",
              "          const element = document.querySelector('#df-2a3ad479-ca6e-4a2f-9167-e236f9bd5e17');\n",
              "          const dataTable =\n",
              "            await google.colab.kernel.invokeFunction('convertToInteractive',\n",
              "                                                     [key], {});\n",
              "          if (!dataTable) return;\n",
              "\n",
              "          const docLinkHtml = 'Like what you see? Visit the ' +\n",
              "            '<a target=\"_blank\" href=https://colab.research.google.com/notebooks/data_table.ipynb>data table notebook</a>'\n",
              "            + ' to learn more about interactive tables.';\n",
              "          element.innerHTML = '';\n",
              "          dataTable['output_type'] = 'display_data';\n",
              "          await google.colab.output.renderOutput(dataTable, element);\n",
              "          const docLink = document.createElement('div');\n",
              "          docLink.innerHTML = docLinkHtml;\n",
              "          element.appendChild(docLink);\n",
              "        }\n",
              "      </script>\n",
              "    </div>\n",
              "  </div>\n"
            ],
            "text/plain": [
              "   questionId                                           question  \\\n",
              "0       57344               What is the dividend payout in 2012?   \n",
              "1       16384   What is the name of the person in the CC field ?   \n",
              "2       57346  What is the % of Employees in 2012 based on gr...   \n",
              "3       61870       What is the personnel costs in the 4th year?   \n",
              "4       57348  What is the % of 'Providers of Capital' in the...   \n",
              "\n",
              "                        image  docId ucsf_document_id ucsf_document_page_no  \\\n",
              "0  documents/rnbx0223_193.png   4720         rnbx0223                   193   \n",
              "1    documents/lflm0081_1.png   5160         lflm0081                     1   \n",
              "2  documents/rnbx0223_191.png   4753         rnbx0223                   191   \n",
              "3   documents/hrfw0227_24.png   8103         hrfw0227                    24   \n",
              "4  documents/rnbx0223_191.png   4753         rnbx0223                   191   \n",
              "\n",
              "  data_split  \n",
              "0       test  \n",
              "1       test  \n",
              "2       test  \n",
              "3       test  \n",
              "4       test  "
            ]
          },
          "execution_count": 28,
          "metadata": {},
          "output_type": "execute_result"
        }
      ],
      "source": [
        "df_test.head()"
      ]
    },
    {
      "cell_type": "code",
      "execution_count": null,
      "metadata": {
        "colab": {
          "base_uri": "https://localhost:8080/"
        },
        "id": "KypTXiU6-tkD",
        "outputId": "423a364d-4e33-4202-a46a-30ab2606b56f"
      },
      "outputs": [
        {
          "data": {
            "text/plain": [
              "(5188, 7)"
            ]
          },
          "execution_count": 29,
          "metadata": {},
          "output_type": "execute_result"
        }
      ],
      "source": [
        "df_test.shape    ## test dataset contains 5188 number of datapoints"
      ]
    },
    {
      "cell_type": "code",
      "execution_count": null,
      "metadata": {
        "colab": {
          "base_uri": "https://localhost:8080/"
        },
        "id": "vtDlbbFT-thU",
        "outputId": "f5183c4f-c21a-4b0d-f21f-09531a5fef1c"
      },
      "outputs": [
        {
          "name": "stderr",
          "output_type": "stream",
          "text": [
            "<ipython-input-30-80e67b0f467c>:11: SettingWithCopyWarning: \n",
            "A value is trying to be set on a copy of a slice from a DataFrame.\n",
            "Try using .loc[row_indexer,col_indexer] = value instead\n",
            "\n",
            "See the caveats in the documentation: https://pandas.pydata.org/pandas-docs/stable/user_guide/indexing.html#returning-a-view-versus-a-copy\n",
            "  df_sub_test['full_path_image'] = df_sub_test['image'].apply(join_paths)\n"
          ]
        }
      ],
      "source": [
        "## Making subset of the training dataframe\n",
        "df_sub_test = df_test.iloc[:10]\n",
        "\n",
        "base_test_path = '/content/drive/MyDrive/docVqa_dataset/test'\n",
        "\n",
        "# Define a function to join the base path with the image path\n",
        "def join_paths(image_path):\n",
        "    return os.path.join(base_test_path, image_path)\n",
        "\n",
        "# Apply the function to create a new column with the full image path\n",
        "df_sub_test['full_path_image'] = df_sub_test['image'].apply(join_paths)"
      ]
    },
    {
      "cell_type": "code",
      "execution_count": null,
      "metadata": {
        "colab": {
          "base_uri": "https://localhost:8080/"
        },
        "id": "97cHibii-ter",
        "outputId": "9cdbacce-e7dc-4135-d052-c64316c3bf6e"
      },
      "outputs": [
        {
          "data": {
            "text/plain": [
              "Index(['questionId', 'question', 'image', 'docId', 'ucsf_document_id',\n",
              "       'ucsf_document_page_no', 'data_split', 'full_path_image'],\n",
              "      dtype='object')"
            ]
          },
          "execution_count": 31,
          "metadata": {},
          "output_type": "execute_result"
        }
      ],
      "source": [
        "df_sub_test.columns"
      ]
    },
    {
      "cell_type": "code",
      "execution_count": null,
      "metadata": {
        "colab": {
          "base_uri": "https://localhost:8080/",
          "height": 267
        },
        "id": "uJAeCEri-tcD",
        "outputId": "5426fcb5-c31f-4d3b-db00-250a56c31021"
      },
      "outputs": [
        {
          "data": {
            "text/html": [
              "\n",
              "\n",
              "  <div id=\"df-f9a8ca9f-c3c1-455a-8df3-8eacad231291\">\n",
              "    <div class=\"colab-df-container\">\n",
              "      <div>\n",
              "<style scoped>\n",
              "    .dataframe tbody tr th:only-of-type {\n",
              "        vertical-align: middle;\n",
              "    }\n",
              "\n",
              "    .dataframe tbody tr th {\n",
              "        vertical-align: top;\n",
              "    }\n",
              "\n",
              "    .dataframe thead th {\n",
              "        text-align: right;\n",
              "    }\n",
              "</style>\n",
              "<table border=\"1\" class=\"dataframe\">\n",
              "  <thead>\n",
              "    <tr style=\"text-align: right;\">\n",
              "      <th></th>\n",
              "      <th>questionId</th>\n",
              "      <th>question</th>\n",
              "      <th>image</th>\n",
              "      <th>docId</th>\n",
              "      <th>ucsf_document_id</th>\n",
              "      <th>ucsf_document_page_no</th>\n",
              "      <th>data_split</th>\n",
              "      <th>full_path_image</th>\n",
              "    </tr>\n",
              "  </thead>\n",
              "  <tbody>\n",
              "    <tr>\n",
              "      <th>0</th>\n",
              "      <td>57344</td>\n",
              "      <td>What is the dividend payout in 2012?</td>\n",
              "      <td>documents/rnbx0223_193.png</td>\n",
              "      <td>4720</td>\n",
              "      <td>rnbx0223</td>\n",
              "      <td>193</td>\n",
              "      <td>test</td>\n",
              "      <td>/content/drive/MyDrive/docVqa_dataset/test/doc...</td>\n",
              "    </tr>\n",
              "    <tr>\n",
              "      <th>1</th>\n",
              "      <td>16384</td>\n",
              "      <td>What is the name of the person in the CC field ?</td>\n",
              "      <td>documents/lflm0081_1.png</td>\n",
              "      <td>5160</td>\n",
              "      <td>lflm0081</td>\n",
              "      <td>1</td>\n",
              "      <td>test</td>\n",
              "      <td>/content/drive/MyDrive/docVqa_dataset/test/doc...</td>\n",
              "    </tr>\n",
              "    <tr>\n",
              "      <th>2</th>\n",
              "      <td>57346</td>\n",
              "      <td>What is the % of Employees in 2012 based on gr...</td>\n",
              "      <td>documents/rnbx0223_191.png</td>\n",
              "      <td>4753</td>\n",
              "      <td>rnbx0223</td>\n",
              "      <td>191</td>\n",
              "      <td>test</td>\n",
              "      <td>/content/drive/MyDrive/docVqa_dataset/test/doc...</td>\n",
              "    </tr>\n",
              "    <tr>\n",
              "      <th>3</th>\n",
              "      <td>61870</td>\n",
              "      <td>What is the personnel costs in the 4th year?</td>\n",
              "      <td>documents/hrfw0227_24.png</td>\n",
              "      <td>8103</td>\n",
              "      <td>hrfw0227</td>\n",
              "      <td>24</td>\n",
              "      <td>test</td>\n",
              "      <td>/content/drive/MyDrive/docVqa_dataset/test/doc...</td>\n",
              "    </tr>\n",
              "    <tr>\n",
              "      <th>4</th>\n",
              "      <td>57348</td>\n",
              "      <td>What is the % of 'Providers of Capital' in the...</td>\n",
              "      <td>documents/rnbx0223_191.png</td>\n",
              "      <td>4753</td>\n",
              "      <td>rnbx0223</td>\n",
              "      <td>191</td>\n",
              "      <td>test</td>\n",
              "      <td>/content/drive/MyDrive/docVqa_dataset/test/doc...</td>\n",
              "    </tr>\n",
              "  </tbody>\n",
              "</table>\n",
              "</div>\n",
              "      <button class=\"colab-df-convert\" onclick=\"convertToInteractive('df-f9a8ca9f-c3c1-455a-8df3-8eacad231291')\"\n",
              "              title=\"Convert this dataframe to an interactive table.\"\n",
              "              style=\"display:none;\">\n",
              "\n",
              "  <svg xmlns=\"http://www.w3.org/2000/svg\" height=\"24px\"viewBox=\"0 0 24 24\"\n",
              "       width=\"24px\">\n",
              "    <path d=\"M0 0h24v24H0V0z\" fill=\"none\"/>\n",
              "    <path d=\"M18.56 5.44l.94 2.06.94-2.06 2.06-.94-2.06-.94-.94-2.06-.94 2.06-2.06.94zm-11 1L8.5 8.5l.94-2.06 2.06-.94-2.06-.94L8.5 2.5l-.94 2.06-2.06.94zm10 10l.94 2.06.94-2.06 2.06-.94-2.06-.94-.94-2.06-.94 2.06-2.06.94z\"/><path d=\"M17.41 7.96l-1.37-1.37c-.4-.4-.92-.59-1.43-.59-.52 0-1.04.2-1.43.59L10.3 9.45l-7.72 7.72c-.78.78-.78 2.05 0 2.83L4 21.41c.39.39.9.59 1.41.59.51 0 1.02-.2 1.41-.59l7.78-7.78 2.81-2.81c.8-.78.8-2.07 0-2.86zM5.41 20L4 18.59l7.72-7.72 1.47 1.35L5.41 20z\"/>\n",
              "  </svg>\n",
              "      </button>\n",
              "\n",
              "\n",
              "\n",
              "    <div id=\"df-4c07d790-e158-429d-bdeb-690da51d13de\">\n",
              "      <button class=\"colab-df-quickchart\" onclick=\"quickchart('df-4c07d790-e158-429d-bdeb-690da51d13de')\"\n",
              "              title=\"Suggest charts.\"\n",
              "              style=\"display:none;\">\n",
              "\n",
              "<svg xmlns=\"http://www.w3.org/2000/svg\" height=\"24px\"viewBox=\"0 0 24 24\"\n",
              "     width=\"24px\">\n",
              "    <g>\n",
              "        <path d=\"M19 3H5c-1.1 0-2 .9-2 2v14c0 1.1.9 2 2 2h14c1.1 0 2-.9 2-2V5c0-1.1-.9-2-2-2zM9 17H7v-7h2v7zm4 0h-2V7h2v10zm4 0h-2v-4h2v4z\"/>\n",
              "    </g>\n",
              "</svg>\n",
              "      </button>\n",
              "    </div>\n",
              "\n",
              "<style>\n",
              "  .colab-df-quickchart {\n",
              "    background-color: #E8F0FE;\n",
              "    border: none;\n",
              "    border-radius: 50%;\n",
              "    cursor: pointer;\n",
              "    display: none;\n",
              "    fill: #1967D2;\n",
              "    height: 32px;\n",
              "    padding: 0 0 0 0;\n",
              "    width: 32px;\n",
              "  }\n",
              "\n",
              "  .colab-df-quickchart:hover {\n",
              "    background-color: #E2EBFA;\n",
              "    box-shadow: 0px 1px 2px rgba(60, 64, 67, 0.3), 0px 1px 3px 1px rgba(60, 64, 67, 0.15);\n",
              "    fill: #174EA6;\n",
              "  }\n",
              "\n",
              "  [theme=dark] .colab-df-quickchart {\n",
              "    background-color: #3B4455;\n",
              "    fill: #D2E3FC;\n",
              "  }\n",
              "\n",
              "  [theme=dark] .colab-df-quickchart:hover {\n",
              "    background-color: #434B5C;\n",
              "    box-shadow: 0px 1px 3px 1px rgba(0, 0, 0, 0.15);\n",
              "    filter: drop-shadow(0px 1px 2px rgba(0, 0, 0, 0.3));\n",
              "    fill: #FFFFFF;\n",
              "  }\n",
              "</style>\n",
              "\n",
              "    <script>\n",
              "      async function quickchart(key) {\n",
              "        const containerElement = document.querySelector('#' + key);\n",
              "        const charts = await google.colab.kernel.invokeFunction(\n",
              "            'suggestCharts', [key], {});\n",
              "      }\n",
              "    </script>\n",
              "\n",
              "      <script>\n",
              "\n",
              "function displayQuickchartButton(domScope) {\n",
              "  let quickchartButtonEl =\n",
              "    domScope.querySelector('#df-4c07d790-e158-429d-bdeb-690da51d13de button.colab-df-quickchart');\n",
              "  quickchartButtonEl.style.display =\n",
              "    google.colab.kernel.accessAllowed ? 'block' : 'none';\n",
              "}\n",
              "\n",
              "        displayQuickchartButton(document);\n",
              "      </script>\n",
              "      <style>\n",
              "    .colab-df-container {\n",
              "      display:flex;\n",
              "      flex-wrap:wrap;\n",
              "      gap: 12px;\n",
              "    }\n",
              "\n",
              "    .colab-df-convert {\n",
              "      background-color: #E8F0FE;\n",
              "      border: none;\n",
              "      border-radius: 50%;\n",
              "      cursor: pointer;\n",
              "      display: none;\n",
              "      fill: #1967D2;\n",
              "      height: 32px;\n",
              "      padding: 0 0 0 0;\n",
              "      width: 32px;\n",
              "    }\n",
              "\n",
              "    .colab-df-convert:hover {\n",
              "      background-color: #E2EBFA;\n",
              "      box-shadow: 0px 1px 2px rgba(60, 64, 67, 0.3), 0px 1px 3px 1px rgba(60, 64, 67, 0.15);\n",
              "      fill: #174EA6;\n",
              "    }\n",
              "\n",
              "    [theme=dark] .colab-df-convert {\n",
              "      background-color: #3B4455;\n",
              "      fill: #D2E3FC;\n",
              "    }\n",
              "\n",
              "    [theme=dark] .colab-df-convert:hover {\n",
              "      background-color: #434B5C;\n",
              "      box-shadow: 0px 1px 3px 1px rgba(0, 0, 0, 0.15);\n",
              "      filter: drop-shadow(0px 1px 2px rgba(0, 0, 0, 0.3));\n",
              "      fill: #FFFFFF;\n",
              "    }\n",
              "  </style>\n",
              "\n",
              "      <script>\n",
              "        const buttonEl =\n",
              "          document.querySelector('#df-f9a8ca9f-c3c1-455a-8df3-8eacad231291 button.colab-df-convert');\n",
              "        buttonEl.style.display =\n",
              "          google.colab.kernel.accessAllowed ? 'block' : 'none';\n",
              "\n",
              "        async function convertToInteractive(key) {\n",
              "          const element = document.querySelector('#df-f9a8ca9f-c3c1-455a-8df3-8eacad231291');\n",
              "          const dataTable =\n",
              "            await google.colab.kernel.invokeFunction('convertToInteractive',\n",
              "                                                     [key], {});\n",
              "          if (!dataTable) return;\n",
              "\n",
              "          const docLinkHtml = 'Like what you see? Visit the ' +\n",
              "            '<a target=\"_blank\" href=https://colab.research.google.com/notebooks/data_table.ipynb>data table notebook</a>'\n",
              "            + ' to learn more about interactive tables.';\n",
              "          element.innerHTML = '';\n",
              "          dataTable['output_type'] = 'display_data';\n",
              "          await google.colab.output.renderOutput(dataTable, element);\n",
              "          const docLink = document.createElement('div');\n",
              "          docLink.innerHTML = docLinkHtml;\n",
              "          element.appendChild(docLink);\n",
              "        }\n",
              "      </script>\n",
              "    </div>\n",
              "  </div>\n"
            ],
            "text/plain": [
              "   questionId                                           question  \\\n",
              "0       57344               What is the dividend payout in 2012?   \n",
              "1       16384   What is the name of the person in the CC field ?   \n",
              "2       57346  What is the % of Employees in 2012 based on gr...   \n",
              "3       61870       What is the personnel costs in the 4th year?   \n",
              "4       57348  What is the % of 'Providers of Capital' in the...   \n",
              "\n",
              "                        image  docId ucsf_document_id ucsf_document_page_no  \\\n",
              "0  documents/rnbx0223_193.png   4720         rnbx0223                   193   \n",
              "1    documents/lflm0081_1.png   5160         lflm0081                     1   \n",
              "2  documents/rnbx0223_191.png   4753         rnbx0223                   191   \n",
              "3   documents/hrfw0227_24.png   8103         hrfw0227                    24   \n",
              "4  documents/rnbx0223_191.png   4753         rnbx0223                   191   \n",
              "\n",
              "  data_split                                    full_path_image  \n",
              "0       test  /content/drive/MyDrive/docVqa_dataset/test/doc...  \n",
              "1       test  /content/drive/MyDrive/docVqa_dataset/test/doc...  \n",
              "2       test  /content/drive/MyDrive/docVqa_dataset/test/doc...  \n",
              "3       test  /content/drive/MyDrive/docVqa_dataset/test/doc...  \n",
              "4       test  /content/drive/MyDrive/docVqa_dataset/test/doc...  "
            ]
          },
          "execution_count": 32,
          "metadata": {},
          "output_type": "execute_result"
        }
      ],
      "source": [
        "df_sub_test.head()"
      ]
    },
    {
      "cell_type": "code",
      "execution_count": null,
      "metadata": {
        "id": "2Nhzml3E-tZb"
      },
      "outputs": [],
      "source": [
        "def extract_ocr_info(df, base_dir):\n",
        "\n",
        "  dir_list = os.listdir(base_dir)\n",
        "  ocr_base_dir = os.path.join(base_dir, dir_list[1])\n",
        "\n",
        "  # Create empty lists for bounding boxes and word lists\n",
        "  bbox_list = []\n",
        "  word_list = []\n",
        "\n",
        "  # Iterate over each row in the DataFrame\n",
        "  for _, row in df.iterrows():\n",
        "\n",
        "    # Construct the ocr_path for the row\n",
        "    ocr_path = os.path.join(ocr_base_dir, row['ucsf_document_id'] + '_' + row['ucsf_document_page_no'] + '.json')\n",
        "\n",
        "    # Open the json file and load the data\n",
        "    with open(ocr_path, 'r') as f:\n",
        "      ocr_json = json.load(f)\n",
        "\n",
        "    # Extract the bounding boxes and word lists from the json data\n",
        "    bbox_row = []\n",
        "    word_row = []\n",
        "    for i in ocr_json['recognitionResults'][0]['lines']:\n",
        "      for j in i['words']:\n",
        "        bbox_row.append(j['boundingBox'])\n",
        "        word_row.append(j['text'])\n",
        "\n",
        "    # Append the bbox and word lists to the global lists\n",
        "    bbox_list.append(bbox_row)\n",
        "    word_list.append(word_row)\n",
        "  # Create new columns in the DataFrame to store the bbox and words lists\n",
        "  df['bounding_boxes'] = bbox_list\n",
        "  df['word_list'] = word_list\n",
        "\n",
        "  df.drop(['questionId', 'image','ucsf_document_id', 'ucsf_document_page_no'], axis=1, inplace=True)\n",
        "\n",
        "  # Return the updated DataFrame\n",
        "  return df"
      ]
    },
    {
      "cell_type": "code",
      "execution_count": null,
      "metadata": {
        "colab": {
          "base_uri": "https://localhost:8080/"
        },
        "id": "6zTpRT5q-tW9",
        "outputId": "d74b58c7-5c51-44bb-9c1d-8a6d12d7802d"
      },
      "outputs": [
        {
          "name": "stderr",
          "output_type": "stream",
          "text": [
            "<ipython-input-33-9bb3011757be>:32: SettingWithCopyWarning: \n",
            "A value is trying to be set on a copy of a slice from a DataFrame.\n",
            "Try using .loc[row_indexer,col_indexer] = value instead\n",
            "\n",
            "See the caveats in the documentation: https://pandas.pydata.org/pandas-docs/stable/user_guide/indexing.html#returning-a-view-versus-a-copy\n",
            "  df['bounding_boxes'] = bbox_list\n",
            "<ipython-input-33-9bb3011757be>:33: SettingWithCopyWarning: \n",
            "A value is trying to be set on a copy of a slice from a DataFrame.\n",
            "Try using .loc[row_indexer,col_indexer] = value instead\n",
            "\n",
            "See the caveats in the documentation: https://pandas.pydata.org/pandas-docs/stable/user_guide/indexing.html#returning-a-view-versus-a-copy\n",
            "  df['word_list'] = word_list\n",
            "<ipython-input-33-9bb3011757be>:35: SettingWithCopyWarning: \n",
            "A value is trying to be set on a copy of a slice from a DataFrame\n",
            "\n",
            "See the caveats in the documentation: https://pandas.pydata.org/pandas-docs/stable/user_guide/indexing.html#returning-a-view-versus-a-copy\n",
            "  df.drop(['questionId', 'image','ucsf_document_id', 'ucsf_document_page_no'], axis=1, inplace=True)\n"
          ]
        }
      ],
      "source": [
        "df_sub_test_ocr = extract_ocr_info(df_sub_test, base_test_path)"
      ]
    },
    {
      "cell_type": "code",
      "execution_count": null,
      "metadata": {
        "colab": {
          "base_uri": "https://localhost:8080/"
        },
        "id": "DBTqc1_y-tT1",
        "outputId": "c8c77827-7f84-4173-d9b2-8eb06bad2039"
      },
      "outputs": [
        {
          "data": {
            "text/plain": [
              "Index(['question', 'docId', 'data_split', 'full_path_image', 'bounding_boxes',\n",
              "       'word_list'],\n",
              "      dtype='object')"
            ]
          },
          "execution_count": 35,
          "metadata": {},
          "output_type": "execute_result"
        }
      ],
      "source": [
        "df_sub_test_ocr.columns"
      ]
    },
    {
      "cell_type": "code",
      "execution_count": null,
      "metadata": {
        "id": "DGOs5WCJ-tRD"
      },
      "outputs": [],
      "source": [
        "## Convert dataframe into dataset object\n",
        "hf_sub_test_ocr = Dataset.from_pandas(df_sub_test_ocr)"
      ]
    },
    {
      "cell_type": "code",
      "execution_count": null,
      "metadata": {
        "colab": {
          "base_uri": "https://localhost:8080/"
        },
        "id": "03clUA8q-tOL",
        "outputId": "850984d9-f5ad-48ef-f38e-30a89f9e17ed"
      },
      "outputs": [
        {
          "data": {
            "text/plain": [
              "Dataset({\n",
              "    features: ['question', 'docId', 'data_split', 'full_path_image', 'bounding_boxes', 'word_list'],\n",
              "    num_rows: 10\n",
              "})"
            ]
          },
          "execution_count": 37,
          "metadata": {},
          "output_type": "execute_result"
        }
      ],
      "source": [
        "hf_sub_test_ocr"
      ]
    },
    {
      "cell_type": "code",
      "execution_count": null,
      "metadata": {
        "colab": {
          "base_uri": "https://localhost:8080/"
        },
        "id": "GXhLpxE6-tLT",
        "outputId": "e059f72b-5675-4471-a7ff-f971a969c3db"
      },
      "outputs": [
        {
          "data": {
            "text/plain": [
              "['question',\n",
              " 'docId',\n",
              " 'data_split',\n",
              " 'full_path_image',\n",
              " 'bounding_boxes',\n",
              " 'word_list']"
            ]
          },
          "execution_count": 38,
          "metadata": {},
          "output_type": "execute_result"
        }
      ],
      "source": [
        "hf_sub_test_ocr.column_names"
      ]
    },
    {
      "cell_type": "markdown",
      "metadata": {
        "id": "T2JhCDOfPFDa"
      },
      "source": [
        "## Comparing all the column names from train, validation and test before proceding to next step:"
      ]
    },
    {
      "cell_type": "code",
      "execution_count": null,
      "metadata": {
        "colab": {
          "base_uri": "https://localhost:8080/"
        },
        "id": "KHi1Z824-tIb",
        "outputId": "e32731d4-0501-418f-df5a-ee8586063dda"
      },
      "outputs": [
        {
          "data": {
            "text/plain": [
              "['question',\n",
              " 'docId',\n",
              " 'answers',\n",
              " 'data_split',\n",
              " 'full_path_image',\n",
              " 'bounding_boxes',\n",
              " 'word_list']"
            ]
          },
          "execution_count": 39,
          "metadata": {},
          "output_type": "execute_result"
        }
      ],
      "source": [
        "hf_sub_train_ocr.column_names   # fro training dataset"
      ]
    },
    {
      "cell_type": "code",
      "execution_count": null,
      "metadata": {
        "colab": {
          "base_uri": "https://localhost:8080/"
        },
        "id": "rrAk54za-tFr",
        "outputId": "55c2932d-e16f-4b2c-b749-4c37f24eda03"
      },
      "outputs": [
        {
          "data": {
            "text/plain": [
              "['question',\n",
              " 'docId',\n",
              " 'answers',\n",
              " 'data_split',\n",
              " 'full_path_image',\n",
              " 'bounding_boxes',\n",
              " 'word_list']"
            ]
          },
          "execution_count": 40,
          "metadata": {},
          "output_type": "execute_result"
        }
      ],
      "source": [
        "hf_sub_valid_ocr.column_names   # for validation dataset"
      ]
    },
    {
      "cell_type": "code",
      "execution_count": null,
      "metadata": {
        "colab": {
          "base_uri": "https://localhost:8080/"
        },
        "id": "qmXbsuSA-tCz",
        "outputId": "00e11e4b-5fa9-4a5f-e520-9d11add507ca"
      },
      "outputs": [
        {
          "data": {
            "text/plain": [
              "['question',\n",
              " 'docId',\n",
              " 'data_split',\n",
              " 'full_path_image',\n",
              " 'bounding_boxes',\n",
              " 'word_list']"
            ]
          },
          "execution_count": 41,
          "metadata": {},
          "output_type": "execute_result"
        }
      ],
      "source": [
        "hf_sub_test_ocr.column_names    # for test dataset"
      ]
    },
    {
      "cell_type": "markdown",
      "metadata": {
        "id": "YnWf6Id3Pt2l"
      },
      "source": [
        "### ** Note from column names:\n",
        "- test dataset doesn't contain answer column which is expected that our model will generate it"
      ]
    },
    {
      "cell_type": "markdown",
      "metadata": {
        "id": "3V3W03m_QBws"
      },
      "source": [
        "## Exp_5: Creating a single custom function for all type dataset i.e. train, validation and test"
      ]
    },
    {
      "cell_type": "code",
      "execution_count": null,
      "metadata": {
        "id": "lAI8HDx2-tAL"
      },
      "outputs": [],
      "source": [
        "def process_data(main_json_path, base_dir_path):\n",
        "\n",
        "  # Open the JSON file\n",
        "  with open(main_json_path, 'r') as file:\n",
        "      # Load the contents of the file into a dictionary\n",
        "      data = json.load(file)\n",
        "\n",
        "  # Convert 'data' list into a dataframe\n",
        "  df = pd.DataFrame(data['data'])\n",
        "\n",
        "  # Define a function to join the base path with the image path\n",
        "  def join_paths(image_path):\n",
        "      return os.path.join(base_dir_path, image_path)\n",
        "\n",
        "  # Apply the function to create a new column with the full image path\n",
        "  df['full_path_image'] = df['image'].apply(join_paths)\n",
        "\n",
        "  def extract_ocr_info(col, ocr_base_dir):\n",
        "\n",
        "    # Construct the ocr_path for the col\n",
        "    ocr_path = os.path.join(ocr_base_dir, col['ucsf_document_id'] + '_' + col['ucsf_document_page_no'] + '.json')\n",
        "\n",
        "    # Open the json file and load the data\n",
        "    with open(ocr_path, 'r') as f:\n",
        "      ocr_json = json.load(f)\n",
        "\n",
        "    # Extract the bounding boxes and word lists from the json data\n",
        "    bbox_row = []\n",
        "    word_row = []\n",
        "    for i in ocr_json['recognitionResults'][0]['lines']:\n",
        "      for j in i['words']:\n",
        "        bbox_row.append(j['boundingBox'])\n",
        "        word_row.append(j['text'])\n",
        "\n",
        "    # Return the bounding boxes and word lists\n",
        "    return bbox_row, word_row\n",
        "\n",
        "  ocr_base_dir = os.path.join(base_dir_path, os.listdir(base_dir_path)[1])\n",
        "\n",
        "  # Apply the extract_ocr_info function to each row in the DataFrame\n",
        "  df['bounding_boxes'], df['word_list'] = zip(*df.apply(lambda col: extract_ocr_info(col, ocr_base_dir), axis=1))\n",
        "\n",
        "  df.drop(['questionId', 'image', 'ucsf_document_id', 'ucsf_document_page_no'], axis=1, inplace=True)\n",
        "\n",
        "  return df"
      ]
    },
    {
      "cell_type": "code",
      "execution_count": null,
      "metadata": {
        "id": "VGDJzdCtgej2"
      },
      "outputs": [],
      "source": [
        "# training usage:\n",
        "train_path_main = '/content/drive/MyDrive/docVqa_dataset/train/train_v1.0.json'\n",
        "base_train_path = '/content/drive/MyDrive/docVqa_dataset/train'\n"
      ]
    },
    {
      "cell_type": "code",
      "execution_count": null,
      "metadata": {
        "colab": {
          "background_save": true
        },
        "id": "eFMRWCjGgoLe"
      },
      "outputs": [],
      "source": [
        "df_train_cf = process_data(train_path_main, base_train_path)"
      ]
    },
    {
      "cell_type": "code",
      "execution_count": null,
      "metadata": {
        "colab": {
          "background_save": true
        },
        "id": "wVeHq4uphmsI",
        "outputId": "4d68082c-b33e-45a7-cc8a-304d833132a9"
      },
      "outputs": [
        {
          "data": {
            "text/html": [
              "\n",
              "\n",
              "  <div id=\"df-12e5a21a-c2f8-4291-9064-e9e3660ef6f3\">\n",
              "    <div class=\"colab-df-container\">\n",
              "      <div>\n",
              "<style scoped>\n",
              "    .dataframe tbody tr th:only-of-type {\n",
              "        vertical-align: middle;\n",
              "    }\n",
              "\n",
              "    .dataframe tbody tr th {\n",
              "        vertical-align: top;\n",
              "    }\n",
              "\n",
              "    .dataframe thead th {\n",
              "        text-align: right;\n",
              "    }\n",
              "</style>\n",
              "<table border=\"1\" class=\"dataframe\">\n",
              "  <thead>\n",
              "    <tr style=\"text-align: right;\">\n",
              "      <th></th>\n",
              "      <th>question</th>\n",
              "      <th>docId</th>\n",
              "      <th>answers</th>\n",
              "      <th>data_split</th>\n",
              "      <th>full_path_image</th>\n",
              "      <th>bounding_boxes</th>\n",
              "      <th>word_list</th>\n",
              "    </tr>\n",
              "  </thead>\n",
              "  <tbody>\n",
              "    <tr>\n",
              "      <th>0</th>\n",
              "      <td>what is the date mentioned in this letter?</td>\n",
              "      <td>279</td>\n",
              "      <td>[1/8/93]</td>\n",
              "      <td>train</td>\n",
              "      <td>/content/drive/MyDrive/docVqa_dataset/train/do...</td>\n",
              "      <td>[[586, 30, 993, 36, 994, 119, 584, 131], [1080...</td>\n",
              "      <td>[Confidential, .., .., RJRT, PR, APPROVAL, DAT...</td>\n",
              "    </tr>\n",
              "    <tr>\n",
              "      <th>1</th>\n",
              "      <td>what is the contact person name mentioned in l...</td>\n",
              "      <td>279</td>\n",
              "      <td>[P. Carter, p. carter]</td>\n",
              "      <td>train</td>\n",
              "      <td>/content/drive/MyDrive/docVqa_dataset/train/do...</td>\n",
              "      <td>[[586, 30, 993, 36, 994, 119, 584, 131], [1080...</td>\n",
              "      <td>[Confidential, .., .., RJRT, PR, APPROVAL, DAT...</td>\n",
              "    </tr>\n",
              "    <tr>\n",
              "      <th>2</th>\n",
              "      <td>Which corporation's letterhead is this?</td>\n",
              "      <td>280</td>\n",
              "      <td>[Brown &amp; Williamson Tobacco Corporation]</td>\n",
              "      <td>train</td>\n",
              "      <td>/content/drive/MyDrive/docVqa_dataset/train/do...</td>\n",
              "      <td>[[733, 196, 789, 193, 791, 218, 734, 219], [47...</td>\n",
              "      <td>[B&amp;W, BROWN, &amp;, WILLIAMSON, TOBACCO, CORPORATI...</td>\n",
              "    </tr>\n",
              "    <tr>\n",
              "      <th>3</th>\n",
              "      <td>Who is in  cc in this letter?</td>\n",
              "      <td>280</td>\n",
              "      <td>[T.F. Riehl]</td>\n",
              "      <td>train</td>\n",
              "      <td>/content/drive/MyDrive/docVqa_dataset/train/do...</td>\n",
              "      <td>[[733, 196, 789, 193, 791, 218, 734, 219], [47...</td>\n",
              "      <td>[B&amp;W, BROWN, &amp;, WILLIAMSON, TOBACCO, CORPORATI...</td>\n",
              "    </tr>\n",
              "    <tr>\n",
              "      <th>4</th>\n",
              "      <td>what is the subject of  this letter?</td>\n",
              "      <td>280</td>\n",
              "      <td>[Review of existing Brainstorming Ideas/483]</td>\n",
              "      <td>train</td>\n",
              "      <td>/content/drive/MyDrive/docVqa_dataset/train/do...</td>\n",
              "      <td>[[733, 196, 789, 193, 791, 218, 734, 219], [47...</td>\n",
              "      <td>[B&amp;W, BROWN, &amp;, WILLIAMSON, TOBACCO, CORPORATI...</td>\n",
              "    </tr>\n",
              "  </tbody>\n",
              "</table>\n",
              "</div>\n",
              "      <button class=\"colab-df-convert\" onclick=\"convertToInteractive('df-12e5a21a-c2f8-4291-9064-e9e3660ef6f3')\"\n",
              "              title=\"Convert this dataframe to an interactive table.\"\n",
              "              style=\"display:none;\">\n",
              "\n",
              "  <svg xmlns=\"http://www.w3.org/2000/svg\" height=\"24px\"viewBox=\"0 0 24 24\"\n",
              "       width=\"24px\">\n",
              "    <path d=\"M0 0h24v24H0V0z\" fill=\"none\"/>\n",
              "    <path d=\"M18.56 5.44l.94 2.06.94-2.06 2.06-.94-2.06-.94-.94-2.06-.94 2.06-2.06.94zm-11 1L8.5 8.5l.94-2.06 2.06-.94-2.06-.94L8.5 2.5l-.94 2.06-2.06.94zm10 10l.94 2.06.94-2.06 2.06-.94-2.06-.94-.94-2.06-.94 2.06-2.06.94z\"/><path d=\"M17.41 7.96l-1.37-1.37c-.4-.4-.92-.59-1.43-.59-.52 0-1.04.2-1.43.59L10.3 9.45l-7.72 7.72c-.78.78-.78 2.05 0 2.83L4 21.41c.39.39.9.59 1.41.59.51 0 1.02-.2 1.41-.59l7.78-7.78 2.81-2.81c.8-.78.8-2.07 0-2.86zM5.41 20L4 18.59l7.72-7.72 1.47 1.35L5.41 20z\"/>\n",
              "  </svg>\n",
              "      </button>\n",
              "\n",
              "\n",
              "\n",
              "    <div id=\"df-70924df6-221c-4b42-8103-2627e3337f43\">\n",
              "      <button class=\"colab-df-quickchart\" onclick=\"quickchart('df-70924df6-221c-4b42-8103-2627e3337f43')\"\n",
              "              title=\"Suggest charts.\"\n",
              "              style=\"display:none;\">\n",
              "\n",
              "<svg xmlns=\"http://www.w3.org/2000/svg\" height=\"24px\"viewBox=\"0 0 24 24\"\n",
              "     width=\"24px\">\n",
              "    <g>\n",
              "        <path d=\"M19 3H5c-1.1 0-2 .9-2 2v14c0 1.1.9 2 2 2h14c1.1 0 2-.9 2-2V5c0-1.1-.9-2-2-2zM9 17H7v-7h2v7zm4 0h-2V7h2v10zm4 0h-2v-4h2v4z\"/>\n",
              "    </g>\n",
              "</svg>\n",
              "      </button>\n",
              "    </div>\n",
              "\n",
              "<style>\n",
              "  .colab-df-quickchart {\n",
              "    background-color: #E8F0FE;\n",
              "    border: none;\n",
              "    border-radius: 50%;\n",
              "    cursor: pointer;\n",
              "    display: none;\n",
              "    fill: #1967D2;\n",
              "    height: 32px;\n",
              "    padding: 0 0 0 0;\n",
              "    width: 32px;\n",
              "  }\n",
              "\n",
              "  .colab-df-quickchart:hover {\n",
              "    background-color: #E2EBFA;\n",
              "    box-shadow: 0px 1px 2px rgba(60, 64, 67, 0.3), 0px 1px 3px 1px rgba(60, 64, 67, 0.15);\n",
              "    fill: #174EA6;\n",
              "  }\n",
              "\n",
              "  [theme=dark] .colab-df-quickchart {\n",
              "    background-color: #3B4455;\n",
              "    fill: #D2E3FC;\n",
              "  }\n",
              "\n",
              "  [theme=dark] .colab-df-quickchart:hover {\n",
              "    background-color: #434B5C;\n",
              "    box-shadow: 0px 1px 3px 1px rgba(0, 0, 0, 0.15);\n",
              "    filter: drop-shadow(0px 1px 2px rgba(0, 0, 0, 0.3));\n",
              "    fill: #FFFFFF;\n",
              "  }\n",
              "</style>\n",
              "\n",
              "    <script>\n",
              "      async function quickchart(key) {\n",
              "        const containerElement = document.querySelector('#' + key);\n",
              "        const charts = await google.colab.kernel.invokeFunction(\n",
              "            'suggestCharts', [key], {});\n",
              "      }\n",
              "    </script>\n",
              "\n",
              "      <script>\n",
              "\n",
              "function displayQuickchartButton(domScope) {\n",
              "  let quickchartButtonEl =\n",
              "    domScope.querySelector('#df-70924df6-221c-4b42-8103-2627e3337f43 button.colab-df-quickchart');\n",
              "  quickchartButtonEl.style.display =\n",
              "    google.colab.kernel.accessAllowed ? 'block' : 'none';\n",
              "}\n",
              "\n",
              "        displayQuickchartButton(document);\n",
              "      </script>\n",
              "      <style>\n",
              "    .colab-df-container {\n",
              "      display:flex;\n",
              "      flex-wrap:wrap;\n",
              "      gap: 12px;\n",
              "    }\n",
              "\n",
              "    .colab-df-convert {\n",
              "      background-color: #E8F0FE;\n",
              "      border: none;\n",
              "      border-radius: 50%;\n",
              "      cursor: pointer;\n",
              "      display: none;\n",
              "      fill: #1967D2;\n",
              "      height: 32px;\n",
              "      padding: 0 0 0 0;\n",
              "      width: 32px;\n",
              "    }\n",
              "\n",
              "    .colab-df-convert:hover {\n",
              "      background-color: #E2EBFA;\n",
              "      box-shadow: 0px 1px 2px rgba(60, 64, 67, 0.3), 0px 1px 3px 1px rgba(60, 64, 67, 0.15);\n",
              "      fill: #174EA6;\n",
              "    }\n",
              "\n",
              "    [theme=dark] .colab-df-convert {\n",
              "      background-color: #3B4455;\n",
              "      fill: #D2E3FC;\n",
              "    }\n",
              "\n",
              "    [theme=dark] .colab-df-convert:hover {\n",
              "      background-color: #434B5C;\n",
              "      box-shadow: 0px 1px 3px 1px rgba(0, 0, 0, 0.15);\n",
              "      filter: drop-shadow(0px 1px 2px rgba(0, 0, 0, 0.3));\n",
              "      fill: #FFFFFF;\n",
              "    }\n",
              "  </style>\n",
              "\n",
              "      <script>\n",
              "        const buttonEl =\n",
              "          document.querySelector('#df-12e5a21a-c2f8-4291-9064-e9e3660ef6f3 button.colab-df-convert');\n",
              "        buttonEl.style.display =\n",
              "          google.colab.kernel.accessAllowed ? 'block' : 'none';\n",
              "\n",
              "        async function convertToInteractive(key) {\n",
              "          const element = document.querySelector('#df-12e5a21a-c2f8-4291-9064-e9e3660ef6f3');\n",
              "          const dataTable =\n",
              "            await google.colab.kernel.invokeFunction('convertToInteractive',\n",
              "                                                     [key], {});\n",
              "          if (!dataTable) return;\n",
              "\n",
              "          const docLinkHtml = 'Like what you see? Visit the ' +\n",
              "            '<a target=\"_blank\" href=https://colab.research.google.com/notebooks/data_table.ipynb>data table notebook</a>'\n",
              "            + ' to learn more about interactive tables.';\n",
              "          element.innerHTML = '';\n",
              "          dataTable['output_type'] = 'display_data';\n",
              "          await google.colab.output.renderOutput(dataTable, element);\n",
              "          const docLink = document.createElement('div');\n",
              "          docLink.innerHTML = docLinkHtml;\n",
              "          element.appendChild(docLink);\n",
              "        }\n",
              "      </script>\n",
              "    </div>\n",
              "  </div>\n"
            ],
            "text/plain": [
              "                                            question  docId  \\\n",
              "0         what is the date mentioned in this letter?    279   \n",
              "1  what is the contact person name mentioned in l...    279   \n",
              "2            Which corporation's letterhead is this?    280   \n",
              "3                      Who is in  cc in this letter?    280   \n",
              "4               what is the subject of  this letter?    280   \n",
              "\n",
              "                                        answers data_split  \\\n",
              "0                                      [1/8/93]      train   \n",
              "1                        [P. Carter, p. carter]      train   \n",
              "2      [Brown & Williamson Tobacco Corporation]      train   \n",
              "3                                  [T.F. Riehl]      train   \n",
              "4  [Review of existing Brainstorming Ideas/483]      train   \n",
              "\n",
              "                                     full_path_image  \\\n",
              "0  /content/drive/MyDrive/docVqa_dataset/train/do...   \n",
              "1  /content/drive/MyDrive/docVqa_dataset/train/do...   \n",
              "2  /content/drive/MyDrive/docVqa_dataset/train/do...   \n",
              "3  /content/drive/MyDrive/docVqa_dataset/train/do...   \n",
              "4  /content/drive/MyDrive/docVqa_dataset/train/do...   \n",
              "\n",
              "                                      bounding_boxes  \\\n",
              "0  [[586, 30, 993, 36, 994, 119, 584, 131], [1080...   \n",
              "1  [[586, 30, 993, 36, 994, 119, 584, 131], [1080...   \n",
              "2  [[733, 196, 789, 193, 791, 218, 734, 219], [47...   \n",
              "3  [[733, 196, 789, 193, 791, 218, 734, 219], [47...   \n",
              "4  [[733, 196, 789, 193, 791, 218, 734, 219], [47...   \n",
              "\n",
              "                                           word_list  \n",
              "0  [Confidential, .., .., RJRT, PR, APPROVAL, DAT...  \n",
              "1  [Confidential, .., .., RJRT, PR, APPROVAL, DAT...  \n",
              "2  [B&W, BROWN, &, WILLIAMSON, TOBACCO, CORPORATI...  \n",
              "3  [B&W, BROWN, &, WILLIAMSON, TOBACCO, CORPORATI...  \n",
              "4  [B&W, BROWN, &, WILLIAMSON, TOBACCO, CORPORATI...  "
            ]
          },
          "execution_count": 45,
          "metadata": {},
          "output_type": "execute_result"
        }
      ],
      "source": [
        "df_train_cf.head()"
      ]
    },
    {
      "cell_type": "code",
      "execution_count": null,
      "metadata": {
        "colab": {
          "background_save": true
        },
        "id": "nK6cB1GohtTI",
        "outputId": "5aa952b6-36e3-4aec-d719-089f059e4e3f"
      },
      "outputs": [
        {
          "data": {
            "text/plain": [
              "Index(['question', 'docId', 'answers', 'data_split', 'full_path_image',\n",
              "       'bounding_boxes', 'word_list'],\n",
              "      dtype='object')"
            ]
          },
          "execution_count": 46,
          "metadata": {},
          "output_type": "execute_result"
        }
      ],
      "source": [
        "df_train_cf.columns"
      ]
    },
    {
      "cell_type": "code",
      "execution_count": null,
      "metadata": {
        "colab": {
          "background_save": true
        },
        "id": "V1cQ1K6SgpGt"
      },
      "outputs": [],
      "source": [
        "# Convert dataframe into dataset object\n",
        "hf_train_cf = Dataset.from_pandas(df_train_cf)"
      ]
    },
    {
      "cell_type": "code",
      "execution_count": null,
      "metadata": {
        "colab": {
          "background_save": true
        },
        "id": "ligFBvlciFHQ",
        "outputId": "d2bceabd-10fe-4f11-b660-e76adcdc91e3"
      },
      "outputs": [
        {
          "data": {
            "text/plain": [
              "Dataset({\n",
              "    features: ['question', 'docId', 'answers', 'data_split', 'full_path_image', 'bounding_boxes', 'word_list'],\n",
              "    num_rows: 39463\n",
              "})"
            ]
          },
          "execution_count": 48,
          "metadata": {},
          "output_type": "execute_result"
        }
      ],
      "source": [
        "hf_train_cf"
      ]
    },
    {
      "cell_type": "code",
      "execution_count": null,
      "metadata": {
        "colab": {
          "background_save": true
        },
        "id": "q3HJmFErg1bo",
        "outputId": "3ddcccea-581c-405b-b42e-e28a0661e47b"
      },
      "outputs": [
        {
          "data": {
            "text/plain": [
              "True"
            ]
          },
          "execution_count": 49,
          "metadata": {},
          "output_type": "execute_result"
        }
      ],
      "source": [
        "## Checking whether our previously created huggingface training data column is same as this one or not\n",
        "hf_sub_train_ocr.column_names == hf_train_cf.column_names   # yes that is true"
      ]
    },
    {
      "cell_type": "code",
      "execution_count": null,
      "metadata": {
        "colab": {
          "background_save": true
        },
        "id": "JumSXi_4lZx4",
        "outputId": "d918ab93-7607-4bdb-d752-20874aaf1a63"
      },
      "outputs": [
        {
          "data": {
            "text/plain": [
              "{'question': 'what is the date mentioned in this letter?',\n",
              " 'docId': 279,\n",
              " 'answers': ['1/8/93'],\n",
              " 'data_split': 'train',\n",
              " 'full_path_image': '/content/drive/MyDrive/docVqa_dataset/train/documents/xnbl0037_1.png',\n",
              " 'bounding_boxes': [[586, 30, 993, 36, 994, 119, 584, 131],\n",
              "  [1080, 34, 1097, 32, 1099, 54, 1081, 55],\n",
              "  [1102, 32, 1122, 31, 1124, 53, 1103, 54],\n",
              "  [699, 203, 779, 204, 779, 234, 699, 234],\n",
              "  [793, 204, 832, 204, 832, 234, 793, 234],\n",
              "  [848, 204, 995, 204, 995, 237, 848, 234],\n",
              "  [259, 296, 330, 295, 331, 322, 259, 323],\n",
              "  [335, 295, 343, 295, 344, 322, 337, 322],\n",
              "  [400, 258, 556, 261, 555, 332, 399, 329],\n",
              "  [426, 334, 523, 331, 522, 410, 426, 412],\n",
              "  [548, 331, 644, 333, 643, 413, 547, 411],\n",
              "  [259, 416, 403, 414, 405, 445, 260, 444],\n",
              "  [422, 413, 551, 412, 553, 447, 423, 445],\n",
              "  [570, 411, 657, 410, 659, 449, 572, 447],\n",
              "  [688, 400, 764, 398, 766, 457, 690, 464],\n",
              "  [777, 398, 972, 393, 972, 445, 778, 456],\n",
              "  [260, 474, 314, 473, 315, 505, 260, 505],\n",
              "  [330, 473, 462, 472, 462, 506, 331, 505],\n",
              "  [480, 472, 531, 473, 530, 505, 480, 505],\n",
              "  [258, 531, 409, 530, 412, 565, 259, 564],\n",
              "  [445, 521, 490, 519, 492, 577, 447, 578],\n",
              "  [501, 519, 658, 513, 660, 568, 503, 577],\n",
              "  [258, 656, 347, 656, 349, 683, 259, 681],\n",
              "  [368, 655, 401, 654, 403, 682, 369, 683],\n",
              "  [1048, 713, 1194, 715, 1193, 749, 1047, 745],\n",
              "  [1359, 712, 1433, 717, 1431, 750, 1356, 745],\n",
              "  [257, 774, 348, 777, 348, 807, 257, 804],\n",
              "  [366, 778, 478, 776, 478, 804, 366, 807],\n",
              "  [1053, 755, 1127, 753, 1129, 804, 1054, 806],\n",
              "  [254, 835, 349, 838, 349, 864, 254, 863],\n",
              "  [367, 838, 456, 837, 457, 866, 367, 865],\n",
              "  [254, 893, 349, 894, 351, 925, 256, 923],\n",
              "  [365, 894, 472, 892, 473, 925, 367, 925],\n",
              "  [243, 944, 319, 940, 320, 989, 244, 989],\n",
              "  [355, 939, 562, 935, 563, 977, 355, 988],\n",
              "  [247, 1003, 370, 994, 371, 1043, 248, 1049],\n",
              "  [391, 993, 544, 985, 546, 1030, 392, 1042],\n",
              "  [249, 1056, 310, 1050, 313, 1101, 252, 1106],\n",
              "  [336, 1047, 511, 1038, 516, 1088, 340, 1099],\n",
              "  [256, 1115, 330, 1107, 334, 1159, 260, 1165],\n",
              "  [371, 1103, 500, 1089, 504, 1141, 376, 1155],\n",
              "  [1037, 1118, 1120, 1109, 1127, 1174, 1044, 1183],\n",
              "  [399, 1254, 512, 1254, 511, 1288, 398, 1287],\n",
              "  [529, 1254, 568, 1254, 568, 1288, 528, 1288],\n",
              "  [584, 1254, 679, 1254, 679, 1289, 583, 1288],\n",
              "  [693, 1254, 830, 1254, 830, 1289, 692, 1289],\n",
              "  [841, 1254, 902, 1254, 902, 1289, 840, 1289],\n",
              "  [917, 1254, 956, 1254, 956, 1290, 917, 1290],\n",
              "  [969, 1254, 1121, 1254, 1122, 1290, 969, 1290],\n",
              "  [1135, 1254, 1280, 1253, 1281, 1289, 1135, 1290],\n",
              "  [1527, 1542, 1514, 1630, 1483, 1623, 1495, 1536],\n",
              "  [1511, 1648, 1499, 1719, 1470, 1712, 1481, 1641],\n",
              "  [1499, 1916, 1504, 1917, 1501, 1935, 1496, 1934],\n",
              "  [1507, 1918, 1519, 1920, 1516, 1938, 1504, 1935],\n",
              "  [378, 1985, 492, 1986, 493, 2018, 379, 2017],\n",
              "  [498, 1986, 1314, 1983, 1315, 2018, 499, 2018]],\n",
              " 'word_list': ['Confidential',\n",
              "  '..',\n",
              "  '..',\n",
              "  'RJRT',\n",
              "  'PR',\n",
              "  'APPROVAL',\n",
              "  'DATE',\n",
              "  ':',\n",
              "  '1/8/13',\n",
              "  'Ru',\n",
              "  'alAs',\n",
              "  'PROPOSED',\n",
              "  'RELEASE',\n",
              "  'DATE:',\n",
              "  'for',\n",
              "  'response',\n",
              "  'FOR',\n",
              "  'RELEASE',\n",
              "  'TO:',\n",
              "  'CONTACT:',\n",
              "  'P.',\n",
              "  'CARTER',\n",
              "  'ROUTE',\n",
              "  'TO',\n",
              "  'Initials',\n",
              "  'pate',\n",
              "  'Peggy',\n",
              "  'Carter',\n",
              "  'Ac',\n",
              "  'Maura',\n",
              "  'Payne',\n",
              "  'David',\n",
              "  'Fishel',\n",
              "  'Tom',\n",
              "  'GRISCom',\n",
              "  'Diane',\n",
              "  'Barrows',\n",
              "  'Ed',\n",
              "  'Blackmer',\n",
              "  'Tow',\n",
              "  'Rucker',\n",
              "  'TR',\n",
              "  'Return',\n",
              "  'to',\n",
              "  'Peggy',\n",
              "  'Carter,',\n",
              "  'PR,',\n",
              "  '16',\n",
              "  'Reynolds',\n",
              "  'Building',\n",
              "  '51142',\n",
              "  '3977',\n",
              "  '.',\n",
              "  '.',\n",
              "  'Source:',\n",
              "  'https://www.industrydocuments.ucsf.edu/docs/xnb10037']}"
            ]
          },
          "execution_count": 50,
          "metadata": {},
          "output_type": "execute_result"
        }
      ],
      "source": [
        "hf_train_cf[0]"
      ]
    },
    {
      "cell_type": "code",
      "execution_count": null,
      "metadata": {
        "colab": {
          "background_save": true
        },
        "id": "2NjJP5AKg1YP"
      },
      "outputs": [],
      "source": [
        "# validation usage:\n",
        "valid_path_main = '/content/drive/MyDrive/docVqa_dataset/val/val_v1.0.json'\n",
        "base_valid_path = '/content/drive/MyDrive/docVqa_dataset/val'"
      ]
    },
    {
      "cell_type": "code",
      "execution_count": null,
      "metadata": {
        "colab": {
          "background_save": true
        },
        "id": "JEezUpQag1U_"
      },
      "outputs": [],
      "source": [
        "df_valid_cf = process_data(valid_path_main, base_valid_path)"
      ]
    },
    {
      "cell_type": "code",
      "execution_count": null,
      "metadata": {
        "colab": {
          "background_save": true
        },
        "id": "hXOTnHFVkrLY",
        "outputId": "b86ec8d5-9d3a-4efb-a812-017dfcfe0ead"
      },
      "outputs": [
        {
          "data": {
            "text/plain": [
              "Index(['question', 'docId', 'answers', 'data_split', 'full_path_image',\n",
              "       'bounding_boxes', 'word_list'],\n",
              "      dtype='object')"
            ]
          },
          "execution_count": 53,
          "metadata": {},
          "output_type": "execute_result"
        }
      ],
      "source": [
        "df_valid_cf.columns"
      ]
    },
    {
      "cell_type": "code",
      "execution_count": null,
      "metadata": {
        "colab": {
          "background_save": true
        },
        "id": "xEVIT-yVg1Rm"
      },
      "outputs": [],
      "source": [
        "# Convert dataframe into dataset object\n",
        "hf_valid_cf = Dataset.from_pandas(df_valid_cf)"
      ]
    },
    {
      "cell_type": "code",
      "execution_count": null,
      "metadata": {
        "colab": {
          "background_save": true
        },
        "id": "47vnQwNng_6P",
        "outputId": "c8f5e888-f290-4ea9-a907-e53f8b16b79e"
      },
      "outputs": [
        {
          "data": {
            "text/plain": [
              "['question',\n",
              " 'docId',\n",
              " 'answers',\n",
              " 'data_split',\n",
              " 'full_path_image',\n",
              " 'bounding_boxes',\n",
              " 'word_list']"
            ]
          },
          "execution_count": 55,
          "metadata": {},
          "output_type": "execute_result"
        }
      ],
      "source": [
        "hf_valid_cf.column_names"
      ]
    },
    {
      "cell_type": "code",
      "execution_count": null,
      "metadata": {
        "colab": {
          "background_save": true
        },
        "id": "OzTM6Dhek564",
        "outputId": "66f11a72-9b4f-437c-c851-dd39600c01c5"
      },
      "outputs": [
        {
          "data": {
            "text/plain": [
              "True"
            ]
          },
          "execution_count": 56,
          "metadata": {},
          "output_type": "execute_result"
        }
      ],
      "source": [
        "hf_sub_valid_ocr.column_names == hf_valid_cf.column_names"
      ]
    },
    {
      "cell_type": "code",
      "execution_count": null,
      "metadata": {
        "colab": {
          "background_save": true
        },
        "id": "JTcmMJR7liDs",
        "outputId": "5ee93534-9f30-433e-b61b-79fe7d8ecc8e"
      },
      "outputs": [
        {
          "data": {
            "text/plain": [
              "{'question': 'What is the ‘actual’ value per 1000, during the year 1975?',\n",
              " 'docId': 14465,\n",
              " 'answers': ['0.28'],\n",
              " 'data_split': 'val',\n",
              " 'full_path_image': '/content/drive/MyDrive/docVqa_dataset/val/documents/pybv0228_81.png',\n",
              " 'bounding_boxes': [[1083, 226, 1209, 226, 1208, 259, 1082, 261],\n",
              "  [1226, 226, 1261, 227, 1260, 262, 1225, 260],\n",
              "  [1268, 227, 1301, 228, 1300, 265, 1267, 262],\n",
              "  [645, 355, 717, 356, 718, 395, 645, 395],\n",
              "  [738, 356, 926, 357, 927, 396, 738, 395],\n",
              "  [944, 357, 1065, 357, 1066, 396, 945, 396],\n",
              "  [1086, 357, 1251, 357, 1252, 395, 1087, 396],\n",
              "  [1272, 357, 1463, 356, 1464, 395, 1273, 395],\n",
              "  [1479, 356, 1693, 355, 1694, 393, 1480, 395],\n",
              "  [1711, 355, 1806, 355, 1808, 393, 1712, 393],\n",
              "  [422, 416, 492, 416, 492, 450, 422, 450],\n",
              "  [1154, 392, 1293, 393, 1295, 427, 1155, 427],\n",
              "  [401, 574, 492, 574, 492, 610, 400, 610],\n",
              "  [401, 737, 492, 740, 491, 778, 400, 775],\n",
              "  [401, 907, 492, 907, 491, 941, 401, 941],\n",
              "  [404, 1068, 493, 1070, 492, 1107, 403, 1105],\n",
              "  [421, 1233, 493, 1233, 493, 1269, 421, 1269],\n",
              "  [493, 1376, 582, 1375, 582, 1410, 494, 1411],\n",
              "  [722, 1374, 811, 1374, 811, 1409, 722, 1409],\n",
              "  [950, 1374, 1038, 1374, 1038, 1408, 950, 1408],\n",
              "  [1180, 1377, 1271, 1377, 1271, 1410, 1180, 1410],\n",
              "  [1408, 1376, 1501, 1377, 1500, 1412, 1407, 1411],\n",
              "  [1635, 1378, 1724, 1377, 1724, 1411, 1636, 1412],\n",
              "  [1865, 1379, 1956, 1378, 1957, 1411, 1866, 1411],\n",
              "  [311, 1447, 354, 1446, 354, 1486, 311, 1490],\n",
              "  [396, 1445, 530, 1441, 532, 1473, 397, 1482],\n",
              "  [395, 1468, 678, 1467, 678, 1508, 394, 1507],\n",
              "  [698, 1467, 911, 1469, 911, 1510, 698, 1508]],\n",
              " 'word_list': ['FIGURE',\n",
              "  'C.',\n",
              "  '2.',\n",
              "  'AGE',\n",
              "  'ADJUSTED',\n",
              "  'MOTOR',\n",
              "  'VEHICLE',\n",
              "  'ACCIDENT',\n",
              "  'MORTALITY',\n",
              "  'RATE',\n",
              "  '0.3',\n",
              "  'CANADA',\n",
              "  '8.28',\n",
              "  '8.26',\n",
              "  '8.24',\n",
              "  '8.22',\n",
              "  '0.2',\n",
              "  '1958',\n",
              "  '1955',\n",
              "  '1968',\n",
              "  '1965',\n",
              "  '1978',\n",
              "  '1975',\n",
              "  '1980',\n",
              "  'D.',\n",
              "  'ACTUAL',\n",
              "  'MULTIVARIATE',\n",
              "  'PREDICTOR']}"
            ]
          },
          "execution_count": 57,
          "metadata": {},
          "output_type": "execute_result"
        }
      ],
      "source": [
        "hf_valid_cf[0]"
      ]
    },
    {
      "cell_type": "code",
      "execution_count": null,
      "metadata": {
        "colab": {
          "background_save": true
        },
        "id": "SpYH5Kung_1Z"
      },
      "outputs": [],
      "source": [
        "# test usage:\n",
        "test_path_main = '/content/drive/MyDrive/docVqa_dataset/test/test_v1.0.json'\n",
        "base_test_path = '/content/drive/MyDrive/docVqa_dataset/test'"
      ]
    },
    {
      "cell_type": "code",
      "execution_count": null,
      "metadata": {
        "colab": {
          "background_save": true
        },
        "id": "LtNxnUa1g_wf"
      },
      "outputs": [],
      "source": [
        "df_test_cf = process_data(test_path_main, base_test_path)"
      ]
    },
    {
      "cell_type": "code",
      "execution_count": null,
      "metadata": {
        "colab": {
          "background_save": true
        },
        "id": "kjwYFx-olGwg",
        "outputId": "a50ef6ea-9560-45c4-8d58-83b05135a6c0"
      },
      "outputs": [
        {
          "data": {
            "text/plain": [
              "Index(['question', 'docId', 'data_split', 'full_path_image', 'bounding_boxes',\n",
              "       'word_list'],\n",
              "      dtype='object')"
            ]
          },
          "execution_count": 60,
          "metadata": {},
          "output_type": "execute_result"
        }
      ],
      "source": [
        "df_test_cf.columns"
      ]
    },
    {
      "cell_type": "code",
      "execution_count": null,
      "metadata": {
        "colab": {
          "background_save": true
        },
        "id": "S99ac5fGg_qv"
      },
      "outputs": [],
      "source": [
        "# Convert dataframe into dataset object\n",
        "hf_test_cf = Dataset.from_pandas(df_test_cf)"
      ]
    },
    {
      "cell_type": "code",
      "execution_count": null,
      "metadata": {
        "colab": {
          "background_save": true
        },
        "id": "k5vvROC4-sxt",
        "outputId": "8f11e109-65fb-47c9-86ff-864d887d0c92"
      },
      "outputs": [
        {
          "data": {
            "text/plain": [
              "['question',\n",
              " 'docId',\n",
              " 'data_split',\n",
              " 'full_path_image',\n",
              " 'bounding_boxes',\n",
              " 'word_list']"
            ]
          },
          "execution_count": 62,
          "metadata": {},
          "output_type": "execute_result"
        }
      ],
      "source": [
        "hf_test_cf.column_names"
      ]
    },
    {
      "cell_type": "code",
      "execution_count": null,
      "metadata": {
        "colab": {
          "background_save": true
        },
        "id": "BZSzoHE5-suz",
        "outputId": "6a52fea2-ce27-4f81-f9f1-42deac9e8485"
      },
      "outputs": [
        {
          "data": {
            "text/plain": [
              "True"
            ]
          },
          "execution_count": 63,
          "metadata": {},
          "output_type": "execute_result"
        }
      ],
      "source": [
        "hf_sub_test_ocr.column_names == hf_test_cf.column_names"
      ]
    },
    {
      "cell_type": "code",
      "execution_count": null,
      "metadata": {
        "colab": {
          "background_save": true
        },
        "id": "lrMKxknF-srz",
        "outputId": "7cf67525-098c-4f42-ba70-18b31398b140"
      },
      "outputs": [
        {
          "data": {
            "text/plain": [
              "{'question': 'What is the dividend payout in 2012?',\n",
              " 'docId': 4720,\n",
              " 'data_split': 'test',\n",
              " 'full_path_image': '/content/drive/MyDrive/docVqa_dataset/test/documents/rnbx0223_193.png',\n",
              " 'bounding_boxes': [[1103, 52, 1147, 52, 1147, 83, 1103, 83],\n",
              "  [1153, 53, 1247, 53, 1247, 84, 1153, 83],\n",
              "  [1253, 53, 1265, 53, 1266, 84, 1253, 84],\n",
              "  [1271, 53, 1357, 54, 1358, 84, 1272, 84],\n",
              "  [1364, 54, 1414, 54, 1414, 84, 1364, 84],\n",
              "  [1420, 54, 1538, 54, 1539, 84, 1420, 84],\n",
              "  [1544, 54, 1610, 54, 1611, 83, 1545, 84],\n",
              "  [882, 144, 932, 144, 931, 170, 882, 171],\n",
              "  [937, 144, 1017, 146, 1016, 172, 937, 170],\n",
              "  [723, 196, 791, 199, 790, 219, 722, 216],\n",
              "  [1487, 206, 1499, 205, 1499, 229, 1486, 230],\n",
              "  [1504, 205, 1569, 206, 1569, 230, 1503, 229],\n",
              "  [108, 259, 169, 259, 169, 281, 109, 281],\n",
              "  [179, 259, 225, 259, 225, 282, 179, 281],\n",
              "  [882, 260, 945, 259, 945, 281, 883, 283],\n",
              "  [952, 259, 999, 260, 1000, 282, 953, 281],\n",
              "  [1523, 431, 1528, 370, 1547, 372, 1542, 432],\n",
              "  [123, 719, 120, 677, 140, 676, 143, 716],\n",
              "  [898, 727, 895, 680, 916, 678, 919, 726],\n",
              "  [113, 780, 161, 780, 161, 799, 113, 799],\n",
              "  [189, 781, 242, 781, 243, 801, 189, 804],\n",
              "  [267, 782, 317, 781, 316, 804, 267, 803],\n",
              "  [345, 781, 396, 781, 396, 803, 345, 804],\n",
              "  [422, 781, 474, 781, 474, 803, 422, 804],\n",
              "  [500, 781, 551, 781, 551, 804, 500, 804],\n",
              "  [578, 781, 629, 780, 628, 804, 577, 805],\n",
              "  [656, 781, 713, 780, 712, 804, 656, 805],\n",
              "  [734, 782, 783, 782, 783, 801, 734, 802],\n",
              "  [886, 779, 937, 779, 937, 803, 886, 803],\n",
              "  [962, 780, 1018, 781, 1018, 801, 961, 803],\n",
              "  [1041, 782, 1091, 782, 1090, 802, 1040, 802],\n",
              "  [1119, 780, 1171, 780, 1171, 802, 1118, 803],\n",
              "  [1197, 780, 1246, 780, 1246, 804, 1197, 804],\n",
              "  [1276, 779, 1329, 780, 1327, 803, 1275, 803],\n",
              "  [1352, 780, 1403, 780, 1402, 804, 1352, 802],\n",
              "  [1430, 780, 1480, 780, 1480, 803, 1429, 804],\n",
              "  [1508, 780, 1548, 781, 1548, 802, 1507, 801],\n",
              "  [1504, 910, 1569, 909, 1568, 932, 1504, 931],\n",
              "  [107, 988, 170, 988, 171, 1009, 108, 1009],\n",
              "  [180, 988, 226, 987, 226, 1009, 180, 1009],\n",
              "  [881, 989, 942, 988, 943, 1010, 883, 1010],\n",
              "  [951, 988, 998, 986, 1000, 1008, 953, 1009],\n",
              "  [890, 1448, 939, 1451, 937, 1476, 889, 1473],\n",
              "  [962, 1450, 1017, 1448, 1016, 1471, 962, 1473],\n",
              "  [1041, 1448, 1094, 1450, 1093, 1475, 1041, 1472],\n",
              "  [1119, 1449, 1170, 1450, 1169, 1473, 1118, 1472],\n",
              "  [1197, 1450, 1248, 1449, 1247, 1473, 1196, 1473],\n",
              "  [1276, 1449, 1326, 1448, 1325, 1473, 1275, 1473],\n",
              "  [1351, 1447, 1354, 1447, 1353, 1473, 1350, 1473],\n",
              "  [1352, 1449, 1406, 1449, 1404, 1473, 1351, 1474],\n",
              "  [1431, 1449, 1486, 1449, 1485, 1473, 1430, 1473],\n",
              "  [1507, 1449, 1551, 1449, 1550, 1473, 1507, 1473],\n",
              "  [115, 1499, 163, 1499, 162, 1525, 116, 1524],\n",
              "  [189, 1497, 195, 1496, 194, 1523, 188, 1524],\n",
              "  [267, 1500, 322, 1500, 322, 1522, 266, 1524],\n",
              "  [344, 1501, 397, 1501, 397, 1524, 344, 1524],\n",
              "  [423, 1501, 474, 1500, 474, 1524, 423, 1524],\n",
              "  [500, 1500, 553, 1500, 553, 1523, 500, 1524],\n",
              "  [578, 1500, 630, 1499, 630, 1523, 578, 1523],\n",
              "  [657, 1499, 710, 1499, 710, 1523, 657, 1523],\n",
              "  [734, 1501, 783, 1501, 783, 1522, 734, 1522],\n",
              "  [869, 1491, 934, 1490, 934, 1511, 869, 1513],\n",
              "  [938, 1490, 953, 1489, 952, 1510, 938, 1511],\n",
              "  [957, 1489, 1024, 1489, 1023, 1509, 957, 1510],\n",
              "  [1028, 1489, 1115, 1490, 1114, 1509, 1028, 1509],\n",
              "  [1119, 1490, 1139, 1490, 1139, 1509, 1119, 1509],\n",
              "  [942, 1517, 1041, 1518, 1040, 1536, 941, 1536],\n",
              "  [1045, 1518, 1121, 1518, 1120, 1537, 1045, 1536],\n",
              "  [1125, 1518, 1195, 1518, 1195, 1537, 1124, 1537],\n",
              "  [1290, 1518, 1388, 1518, 1387, 1538, 1290, 1537],\n",
              "  [1392, 1518, 1458, 1517, 1458, 1538, 1392, 1538],\n",
              "  [1462, 1517, 1484, 1517, 1484, 1538, 1462, 1538],\n",
              "  [1489, 1517, 1530, 1517, 1529, 1539, 1488, 1538],\n",
              "  [1534, 1517, 1570, 1516, 1569, 1539, 1533, 1539],\n",
              "  [110, 1587, 225, 1586, 224, 1607, 109, 1606],\n",
              "  [235, 1586, 283, 1586, 282, 1608, 234, 1607],\n",
              "  [295, 1585, 406, 1585, 406, 1608, 295, 1608],\n",
              "  [419, 1585, 464, 1584, 464, 1609, 418, 1608],\n",
              "  [472, 1584, 545, 1584, 544, 1609, 471, 1609],\n",
              "  [555, 1584, 697, 1584, 696, 1609, 554, 1609],\n",
              "  [93, 1666, 112, 1663, 114, 1678, 95, 1681],\n",
              "  [869, 1664, 915, 1666, 914, 1689, 868, 1687],\n",
              "  [869, 1755, 915, 1757, 914, 1778, 868, 1776],\n",
              "  [92, 1785, 106, 1784, 107, 1805, 93, 1806],\n",
              "  [869, 1847, 912, 1847, 912, 1866, 869, 1866],\n",
              "  [870, 1937, 912, 1939, 913, 1955, 870, 1954],\n",
              "  [92, 2033, 108, 2031, 111, 2054, 94, 2056],\n",
              "  [880, 2028, 910, 2030, 909, 2047, 878, 2044],\n",
              "  [858, 2119, 919, 2120, 918, 2140, 859, 2138],\n",
              "  [924, 2121, 941, 2123, 939, 2143, 923, 2140],\n",
              "  [952, 2145, 975, 2144, 974, 2165, 951, 2165],\n",
              "  [980, 2144, 1035, 2145, 1035, 2166, 979, 2164],\n",
              "  [1084, 2144, 1106, 2144, 1106, 2164, 1084, 2164],\n",
              "  [1113, 2145, 1165, 2145, 1165, 2164, 1113, 2164],\n",
              "  [1220, 2144, 1232, 2144, 1232, 2163, 1221, 2162],\n",
              "  [1238, 2144, 1293, 2143, 1292, 2162, 1238, 2163],\n",
              "  [1353, 2145, 1364, 2145, 1365, 2163, 1354, 2163],\n",
              "  [1370, 2145, 1425, 2144, 1424, 2163, 1371, 2163],\n",
              "  [128, 2166, 177, 2165, 179, 2190, 130, 2190],\n",
              "  [202, 2165, 257, 2165, 259, 2190, 204, 2190],\n",
              "  [281, 2165, 333, 2164, 334, 2190, 282, 2190],\n",
              "  [358, 2164, 412, 2164, 413, 2189, 359, 2189],\n",
              "  [437, 2164, 491, 2164, 492, 2189, 438, 2189],\n",
              "  [516, 2164, 568, 2165, 569, 2189, 517, 2189],\n",
              "  [593, 2165, 645, 2165, 646, 2189, 594, 2189],\n",
              "  [672, 2165, 726, 2166, 726, 2189, 673, 2189],\n",
              "  [748, 2166, 798, 2166, 799, 2188, 748, 2189],\n",
              "  [1492, 2145, 1505, 2145, 1505, 2164, 1493, 2164],\n",
              "  [1508, 2145, 1553, 2146, 1551, 2165, 1508, 2164],\n",
              "  [1328, 2190, 1373, 2191, 1373, 2215, 1328, 2215],\n",
              "  [1378, 2191, 1443, 2192, 1443, 2216, 1378, 2215],\n",
              "  [1448, 2192, 1509, 2193, 1508, 2217, 1448, 2216],\n",
              "  [120, 2216, 193, 2217, 193, 2244, 120, 2244],\n",
              "  [198, 2217, 232, 2217, 233, 2244, 199, 2244],\n",
              "  [237, 2217, 300, 2217, 300, 2245, 238, 2244],\n",
              "  [335, 2217, 419, 2218, 420, 2245, 336, 2245],\n",
              "  [424, 2218, 458, 2218, 459, 2244, 425, 2245],\n",
              "  [463, 2218, 526, 2218, 527, 2244, 464, 2244],\n",
              "  [565, 2218, 634, 2218, 635, 2244, 566, 2244],\n",
              "  [640, 2218, 724, 2218, 725, 2243, 641, 2243],\n",
              "  [729, 2218, 763, 2218, 764, 2242, 730, 2243],\n",
              "  [768, 2218, 830, 2217, 831, 2241, 769, 2242],\n",
              "  [1041, 2191, 1087, 2191, 1087, 2215, 1042, 2215],\n",
              "  [1092, 2191, 1168, 2191, 1168, 2216, 1092, 2215],\n",
              "  [1227, 2190, 1265, 2189, 1264, 2216, 1227, 2216],\n",
              "  [1053, 2229, 1094, 2229, 1095, 2252, 1054, 2252],\n",
              "  [1099, 2229, 1164, 2229, 1165, 2252, 1099, 2252],\n",
              "  [1170, 2229, 1227, 2228, 1228, 2252, 1171, 2252],\n",
              "  [1232, 2228, 1357, 2228, 1358, 2252, 1233, 2252],\n",
              "  [1362, 2228, 1403, 2228, 1404, 2252, 1363, 2252],\n",
              "  [1415, 2228, 1462, 2228, 1463, 2252, 1416, 2252],\n",
              "  [81, 2274, 145, 2274, 144, 2292, 80, 2292],\n",
              "  [149, 2274, 175, 2274, 174, 2292, 148, 2292],\n",
              "  [178, 2274, 220, 2273, 219, 2293, 177, 2292],\n",
              "  [224, 2273, 252, 2273, 251, 2293, 223, 2293],\n",
              "  [256, 2273, 320, 2273, 319, 2293, 255, 2293],\n",
              "  [323, 2273, 374, 2272, 373, 2293, 322, 2293],\n",
              "  [378, 2272, 399, 2272, 399, 2293, 377, 2293],\n",
              "  [403, 2272, 438, 2272, 437, 2294, 402, 2293],\n",
              "  [442, 2272, 455, 2272, 454, 2294, 441, 2294],\n",
              "  [459, 2272, 504, 2271, 503, 2294, 458, 2294],\n",
              "  [508, 2271, 527, 2271, 526, 2294, 507, 2294],\n",
              "  [531, 2271, 555, 2271, 554, 2294, 530, 2294],\n",
              "  [558, 2271, 613, 2271, 612, 2294, 557, 2294],\n",
              "  [616, 2271, 740, 2270, 740, 2294, 615, 2294],\n",
              "  [744, 2270, 760, 2270, 759, 2294, 743, 2294],\n",
              "  [763, 2270, 835, 2270, 834, 2294, 762, 2294],\n",
              "  [855, 2270, 866, 2270, 865, 2294, 854, 2294],\n",
              "  [869, 2270, 908, 2270, 907, 2294, 869, 2294],\n",
              "  [912, 2270, 951, 2270, 951, 2294, 911, 2294],\n",
              "  [955, 2270, 981, 2270, 980, 2294, 954, 2294],\n",
              "  [985, 2270, 1006, 2270, 1006, 2294, 984, 2294],\n",
              "  [1010, 2270, 1056, 2270, 1056, 2294, 1009, 2294],\n",
              "  [1060, 2270, 1076, 2270, 1075, 2294, 1059, 2294],\n",
              "  [1079, 2270, 1144, 2270, 1144, 2293, 1079, 2294],\n",
              "  [1148, 2270, 1213, 2270, 1212, 2293, 1147, 2293],\n",
              "  [1216, 2270, 1319, 2270, 1318, 2293, 1215, 2293],\n",
              "  [1322, 2270, 1365, 2270, 1365, 2292, 1322, 2293],\n",
              "  [1369, 2270, 1394, 2271, 1393, 2292, 1368, 2292],\n",
              "  [1397, 2271, 1441, 2271, 1440, 2292, 1397, 2292],\n",
              "  [355, 2302, 470, 2301, 470, 2334, 356, 2333],\n",
              "  [476, 2301, 1302, 2299, 1302, 2333, 477, 2334]],\n",
              " 'word_list': ['ITC',\n",
              "  'Limited',\n",
              "  '.',\n",
              "  'Report',\n",
              "  'and',\n",
              "  'Accounts',\n",
              "  '2012',\n",
              "  'Net',\n",
              "  'Worth',\n",
              "  'Crores',\n",
              "  '*',\n",
              "  'Crores',\n",
              "  'CAGR',\n",
              "  '16%',\n",
              "  'CAGR',\n",
              "  '19%',\n",
              "  '18782',\n",
              "  '2607',\n",
              "  '1121',\n",
              "  '1996',\n",
              "  '2001',\n",
              "  '2006',\n",
              "  '2007',\n",
              "  '2008',\n",
              "  '2009',\n",
              "  '2010',\n",
              "  '2011',\n",
              "  '2012',\n",
              "  '1996',\n",
              "  '2001',\n",
              "  '2006',\n",
              "  '2007',\n",
              "  '2008',\n",
              "  '2009',\n",
              "  '2010',\n",
              "  '2011',\n",
              "  '2012',\n",
              "  'Crores',\n",
              "  'CAGR',\n",
              "  '19%',\n",
              "  'CAGR',\n",
              "  '30%',\n",
              "  '1996',\n",
              "  '2001',\n",
              "  '2006',\n",
              "  '2007',\n",
              "  '2008',\n",
              "  '2009',\n",
              "  ':',\n",
              "  '2010',\n",
              "  '2011',\n",
              "  '2012',\n",
              "  '1996',\n",
              "  '2',\n",
              "  '2006',\n",
              "  '2007',\n",
              "  '2008',\n",
              "  '2009',\n",
              "  '2010',\n",
              "  '2011',\n",
              "  '2012',\n",
              "  'Inclusive',\n",
              "  'of',\n",
              "  'Dividend',\n",
              "  'Distribution',\n",
              "  'Tax',\n",
              "  '2010-Special',\n",
              "  'Centenary',\n",
              "  'Dividend',\n",
              "  '2011-Special',\n",
              "  'Dividend',\n",
              "  'on',\n",
              "  '100th',\n",
              "  'AGM',\n",
              "  'Earnings',\n",
              "  'And',\n",
              "  'Dividend',\n",
              "  'Per',\n",
              "  'Share',\n",
              "  \"(Adjusted'\",\n",
              "  '8/',\n",
              "  '40%',\n",
              "  '30%',\n",
              "  '6',\n",
              "  '20%',\n",
              "  '10%',\n",
              "  '2',\n",
              "  '0%',\n",
              "  '-10%',\n",
              "  'L.',\n",
              "  '16',\n",
              "  'years',\n",
              "  '10',\n",
              "  'years',\n",
              "  '5',\n",
              "  'years',\n",
              "  '3',\n",
              "  'years',\n",
              "  '1996',\n",
              "  '2001',\n",
              "  '2006',\n",
              "  '2007',\n",
              "  '2008',\n",
              "  '2009',\n",
              "  '2010',\n",
              "  '2011',\n",
              "  '2012',\n",
              "  '1',\n",
              "  'year',\n",
              "  'BSE',\n",
              "  'FMCG',\n",
              "  'Index',\n",
              "  'Earning',\n",
              "  'Per',\n",
              "  'Share',\n",
              "  'Dividend',\n",
              "  'Per',\n",
              "  'Share',\n",
              "  'Special',\n",
              "  'Dividend',\n",
              "  'Per',\n",
              "  'Share',\n",
              "  'BSE',\n",
              "  'Sensex',\n",
              "  'ITC',\n",
              "  'BSE',\n",
              "  'FMCG',\n",
              "  'Index',\n",
              "  'commenced',\n",
              "  'from',\n",
              "  '2000',\n",
              "  'Dividend',\n",
              "  'Per',\n",
              "  'Share',\n",
              "  'and',\n",
              "  'Dividend',\n",
              "  'Payout',\n",
              "  'for',\n",
              "  '2012',\n",
              "  'is',\n",
              "  'based',\n",
              "  'on',\n",
              "  'the',\n",
              "  \"Board's\",\n",
              "  'recommendation',\n",
              "  'to',\n",
              "  'Members',\n",
              "  '^',\n",
              "  'Refer',\n",
              "  'Page',\n",
              "  '176',\n",
              "  'for',\n",
              "  'details',\n",
              "  'of',\n",
              "  'Adjusted',\n",
              "  'Earnings/',\n",
              "  'Dividends/Net',\n",
              "  'Worth',\n",
              "  'per',\n",
              "  'share',\n",
              "  'Source:',\n",
              "  'https://www.industrydocuments.ucsf.edu/docs/rnbx0223']}"
            ]
          },
          "execution_count": 64,
          "metadata": {},
          "output_type": "execute_result"
        }
      ],
      "source": [
        "hf_test_cf[0]"
      ]
    },
    {
      "cell_type": "code",
      "execution_count": null,
      "metadata": {
        "colab": {
          "background_save": true
        },
        "id": "4VPG3225Fg0W"
      },
      "outputs": [],
      "source": []
    },
    {
      "cell_type": "code",
      "execution_count": null,
      "metadata": {
        "colab": {
          "background_save": true
        },
        "id": "APfPje6DFgxo"
      },
      "outputs": [],
      "source": []
    }
  ],
  "metadata": {
    "colab": {
      "machine_shape": "hm",
      "provenance": []
    },
    "kernelspec": {
      "display_name": "Python 3",
      "name": "python3"
    },
    "language_info": {
      "name": "python"
    }
  },
  "nbformat": 4,
  "nbformat_minor": 0
}