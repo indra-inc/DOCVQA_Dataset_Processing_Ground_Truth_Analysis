{
  "cells": [
    {
      "cell_type": "markdown",
      "metadata": {
        "id": "w_y4R_HIjnwH"
      },
      "source": [
        "# Notebook Objective:\n",
        "- Exctracting ocr_bbox and index info from DOCVQA raw data folder"
      ]
    },
    {
      "cell_type": "code",
      "execution_count": 1,
      "metadata": {
        "colab": {
          "base_uri": "https://localhost:8080/"
        },
        "id": "Fitk4DIgjMoM",
        "outputId": "11169eee-79e1-4e55-ff88-24a45e3acade"
      },
      "outputs": [
        {
          "name": "stdout",
          "output_type": "stream",
          "text": [
            "\u001b[2K     \u001b[90m━━━━━━━━━━━━━━━━━━━━━━━━━━━━━━━━━━━━━━━━\u001b[0m \u001b[32m7.4/7.4 MB\u001b[0m \u001b[31m19.7 MB/s\u001b[0m eta \u001b[36m0:00:00\u001b[0m\n",
            "\u001b[2K     \u001b[90m━━━━━━━━━━━━━━━━━━━━━━━━━━━━━━━━━━━━━━\u001b[0m \u001b[32m268.8/268.8 kB\u001b[0m \u001b[31m30.6 MB/s\u001b[0m eta \u001b[36m0:00:00\u001b[0m\n",
            "\u001b[2K     \u001b[90m━━━━━━━━━━━━━━━━━━━━━━━━━━━━━━━━━━━━━━━━\u001b[0m \u001b[32m7.8/7.8 MB\u001b[0m \u001b[31m47.2 MB/s\u001b[0m eta \u001b[36m0:00:00\u001b[0m\n",
            "\u001b[2K     \u001b[90m━━━━━━━━━━━━━━━━━━━━━━━━━━━━━━━━━━━━━━━━\u001b[0m \u001b[32m1.3/1.3 MB\u001b[0m \u001b[31m51.1 MB/s\u001b[0m eta \u001b[36m0:00:00\u001b[0m\n",
            "\u001b[?25hRequirement already satisfied: transformers[sentencepiece] in /usr/local/lib/python3.10/dist-packages (4.31.0)\n",
            "Requirement already satisfied: filelock in /usr/local/lib/python3.10/dist-packages (from transformers[sentencepiece]) (3.12.2)\n",
            "Requirement already satisfied: huggingface-hub<1.0,>=0.14.1 in /usr/local/lib/python3.10/dist-packages (from transformers[sentencepiece]) (0.16.4)\n",
            "Requirement already satisfied: numpy>=1.17 in /usr/local/lib/python3.10/dist-packages (from transformers[sentencepiece]) (1.22.4)\n",
            "Requirement already satisfied: packaging>=20.0 in /usr/local/lib/python3.10/dist-packages (from transformers[sentencepiece]) (23.1)\n",
            "Requirement already satisfied: pyyaml>=5.1 in /usr/local/lib/python3.10/dist-packages (from transformers[sentencepiece]) (6.0.1)\n",
            "Requirement already satisfied: regex!=2019.12.17 in /usr/local/lib/python3.10/dist-packages (from transformers[sentencepiece]) (2022.10.31)\n",
            "Requirement already satisfied: requests in /usr/local/lib/python3.10/dist-packages (from transformers[sentencepiece]) (2.27.1)\n",
            "Requirement already satisfied: tokenizers!=0.11.3,<0.14,>=0.11.1 in /usr/local/lib/python3.10/dist-packages (from transformers[sentencepiece]) (0.13.3)\n",
            "Requirement already satisfied: safetensors>=0.3.1 in /usr/local/lib/python3.10/dist-packages (from transformers[sentencepiece]) (0.3.1)\n",
            "Requirement already satisfied: tqdm>=4.27 in /usr/local/lib/python3.10/dist-packages (from transformers[sentencepiece]) (4.65.0)\n",
            "Collecting sentencepiece!=0.1.92,>=0.1.91 (from transformers[sentencepiece])\n",
            "  Downloading sentencepiece-0.1.99-cp310-cp310-manylinux_2_17_x86_64.manylinux2014_x86_64.whl (1.3 MB)\n",
            "\u001b[2K     \u001b[90m━━━━━━━━━━━━━━━━━━━━━━━━━━━━━━━━━━━━━━━━\u001b[0m \u001b[32m1.3/1.3 MB\u001b[0m \u001b[31m18.9 MB/s\u001b[0m eta \u001b[36m0:00:00\u001b[0m\n",
            "\u001b[?25hRequirement already satisfied: protobuf in /usr/local/lib/python3.10/dist-packages (from transformers[sentencepiece]) (3.20.3)\n",
            "Requirement already satisfied: fsspec in /usr/local/lib/python3.10/dist-packages (from huggingface-hub<1.0,>=0.14.1->transformers[sentencepiece]) (2023.6.0)\n",
            "Requirement already satisfied: typing-extensions>=3.7.4.3 in /usr/local/lib/python3.10/dist-packages (from huggingface-hub<1.0,>=0.14.1->transformers[sentencepiece]) (4.7.1)\n",
            "Requirement already satisfied: urllib3<1.27,>=1.21.1 in /usr/local/lib/python3.10/dist-packages (from requests->transformers[sentencepiece]) (1.26.16)\n",
            "Requirement already satisfied: certifi>=2017.4.17 in /usr/local/lib/python3.10/dist-packages (from requests->transformers[sentencepiece]) (2023.7.22)\n",
            "Requirement already satisfied: charset-normalizer~=2.0.0 in /usr/local/lib/python3.10/dist-packages (from requests->transformers[sentencepiece]) (2.0.12)\n",
            "Requirement already satisfied: idna<4,>=2.5 in /usr/local/lib/python3.10/dist-packages (from requests->transformers[sentencepiece]) (3.4)\n",
            "Installing collected packages: sentencepiece\n",
            "Successfully installed sentencepiece-0.1.99\n",
            "\u001b[2K     \u001b[90m━━━━━━━━━━━━━━━━━━━━━━━━━━━━━━━━━━━━━━━\u001b[0m \u001b[32m492.4/492.4 kB\u001b[0m \u001b[31m7.3 MB/s\u001b[0m eta \u001b[36m0:00:00\u001b[0m\n",
            "\u001b[2K     \u001b[90m━━━━━━━━━━━━━━━━━━━━━━━━━━━━━━━━━━━━━━\u001b[0m \u001b[32m115.3/115.3 kB\u001b[0m \u001b[31m10.0 MB/s\u001b[0m eta \u001b[36m0:00:00\u001b[0m\n",
            "\u001b[2K     \u001b[90m━━━━━━━━━━━━━━━━━━━━━━━━━━━━━━━━━━━━━━━\u001b[0m \u001b[32m194.1/194.1 kB\u001b[0m \u001b[31m9.0 MB/s\u001b[0m eta \u001b[36m0:00:00\u001b[0m\n",
            "\u001b[2K     \u001b[90m━━━━━━━━━━━━━━━━━━━━━━━━━━━━━━━━━━━━━━\u001b[0m \u001b[32m134.8/134.8 kB\u001b[0m \u001b[31m12.3 MB/s\u001b[0m eta \u001b[36m0:00:00\u001b[0m\n",
            "\u001b[?25h"
          ]
        }
      ],
      "source": [
        "!pip install -q transformers\n",
        "!pip install transformers[sentencepiece]\n",
        "!pip install -q datasets"
      ]
    },
    {
      "cell_type": "code",
      "execution_count": 2,
      "metadata": {
        "id": "4Q_BuLKXjMlL"
      },
      "outputs": [],
      "source": [
        "import numpy as np\n",
        "import pandas as pd\n",
        "import os\n",
        "import json\n",
        "from PIL import Image\n",
        "from datasets import Dataset\n",
        "import inspect\n",
        "import transformers\n",
        "import string"
      ]
    },
    {
      "cell_type": "code",
      "execution_count": 3,
      "metadata": {
        "colab": {
          "base_uri": "https://localhost:8080/"
        },
        "id": "C_cS_cwjjMgZ",
        "outputId": "87435bbf-0f19-490c-9a68-35c154d7bfc7"
      },
      "outputs": [
        {
          "name": "stdout",
          "output_type": "stream",
          "text": [
            "Mounted at /content/drive\n"
          ]
        }
      ],
      "source": [
        "from google.colab import drive\n",
        "drive.mount('/content/drive')"
      ]
    },
    {
      "cell_type": "code",
      "execution_count": 4,
      "metadata": {
        "id": "ofiTtxu1jMb0"
      },
      "outputs": [],
      "source": [
        "## main training json path\n",
        "train_path_main = '/content/drive/MyDrive/docVqa_dataset/train/train_v1.0.json'"
      ]
    },
    {
      "cell_type": "code",
      "execution_count": 5,
      "metadata": {
        "id": "-J5RZUwvjMZh"
      },
      "outputs": [],
      "source": [
        "# Open the JSON file\n",
        "with open(train_path_main, 'r') as file:\n",
        "\n",
        "  # Load the contents of the file into a dictionary\n",
        "  data_train = json.load(file)"
      ]
    },
    {
      "cell_type": "code",
      "execution_count": 6,
      "metadata": {
        "colab": {
          "base_uri": "https://localhost:8080/"
        },
        "id": "CZgnytZHjMXB",
        "outputId": "891c7d3a-b9e5-4ed2-c357-0609833d89c6"
      },
      "outputs": [
        {
          "data": {
            "text/plain": [
              "{'questionId': 337,\n",
              " 'question': 'what is the date mentioned in this letter?',\n",
              " 'image': 'documents/xnbl0037_1.png',\n",
              " 'docId': 279,\n",
              " 'ucsf_document_id': 'xnbl0037',\n",
              " 'ucsf_document_page_no': '1',\n",
              " 'answers': ['1/8/93'],\n",
              " 'data_split': 'train'}"
            ]
          },
          "execution_count": 6,
          "metadata": {},
          "output_type": "execute_result"
        }
      ],
      "source": [
        "data_train['data'][0]         ## sample data"
      ]
    },
    {
      "cell_type": "code",
      "execution_count": 7,
      "metadata": {
        "id": "NuwAIj4IjMSj"
      },
      "outputs": [],
      "source": [
        "## Convert 'data' list into dataframe by passing into the dataframe\n",
        "df_train = pd.DataFrame(data_train['data'])"
      ]
    },
    {
      "cell_type": "code",
      "execution_count": 8,
      "metadata": {
        "id": "NBtWXe3E8PwD"
      },
      "outputs": [],
      "source": [
        "## Making subset of the training dataframe\n",
        "df_sub = df_train.iloc[:50]"
      ]
    },
    {
      "cell_type": "code",
      "execution_count": 9,
      "metadata": {
        "id": "p-HUMPPkjMQL"
      },
      "outputs": [],
      "source": [
        "base_train_path = '/content/drive/MyDrive/docVqa_dataset/train'"
      ]
    },
    {
      "cell_type": "code",
      "execution_count": 10,
      "metadata": {
        "colab": {
          "base_uri": "https://localhost:8080/"
        },
        "id": "0Aedm5nMjMNy",
        "outputId": "32867507-7bad-43a5-8a0b-dd77d95e5ff4"
      },
      "outputs": [
        {
          "name": "stderr",
          "output_type": "stream",
          "text": [
            "<ipython-input-10-0e329387f7a0>:6: SettingWithCopyWarning: \n",
            "A value is trying to be set on a copy of a slice from a DataFrame.\n",
            "Try using .loc[row_indexer,col_indexer] = value instead\n",
            "\n",
            "See the caveats in the documentation: https://pandas.pydata.org/pandas-docs/stable/user_guide/indexing.html#returning-a-view-versus-a-copy\n",
            "  df_sub['full_path_image'] = df_sub['image'].apply(join_paths)\n"
          ]
        }
      ],
      "source": [
        "# Define a function to join the base path with the image path\n",
        "def join_paths(image_path):\n",
        "    return os.path.join(base_train_path, image_path)\n",
        "\n",
        "# Apply the function to create a new column with the full image path\n",
        "df_sub['full_path_image'] = df_sub['image'].apply(join_paths)"
      ]
    },
    {
      "cell_type": "code",
      "execution_count": 11,
      "metadata": {
        "colab": {
          "base_uri": "https://localhost:8080/",
          "height": 371
        },
        "id": "CcJHNo1lpwqS",
        "outputId": "fb4e81e2-ca72-437c-af65-a0794a035c88"
      },
      "outputs": [
        {
          "data": {
            "text/html": [
              "\n",
              "\n",
              "  <div id=\"df-68136a6e-7667-4d53-b5a1-05a790a8af53\">\n",
              "    <div class=\"colab-df-container\">\n",
              "      <div>\n",
              "<style scoped>\n",
              "    .dataframe tbody tr th:only-of-type {\n",
              "        vertical-align: middle;\n",
              "    }\n",
              "\n",
              "    .dataframe tbody tr th {\n",
              "        vertical-align: top;\n",
              "    }\n",
              "\n",
              "    .dataframe thead th {\n",
              "        text-align: right;\n",
              "    }\n",
              "</style>\n",
              "<table border=\"1\" class=\"dataframe\">\n",
              "  <thead>\n",
              "    <tr style=\"text-align: right;\">\n",
              "      <th></th>\n",
              "      <th>questionId</th>\n",
              "      <th>question</th>\n",
              "      <th>image</th>\n",
              "      <th>docId</th>\n",
              "      <th>ucsf_document_id</th>\n",
              "      <th>ucsf_document_page_no</th>\n",
              "      <th>answers</th>\n",
              "      <th>data_split</th>\n",
              "      <th>full_path_image</th>\n",
              "    </tr>\n",
              "  </thead>\n",
              "  <tbody>\n",
              "    <tr>\n",
              "      <th>0</th>\n",
              "      <td>337</td>\n",
              "      <td>what is the date mentioned in this letter?</td>\n",
              "      <td>documents/xnbl0037_1.png</td>\n",
              "      <td>279</td>\n",
              "      <td>xnbl0037</td>\n",
              "      <td>1</td>\n",
              "      <td>[1/8/93]</td>\n",
              "      <td>train</td>\n",
              "      <td>/content/drive/MyDrive/docVqa_dataset/train/do...</td>\n",
              "    </tr>\n",
              "    <tr>\n",
              "      <th>1</th>\n",
              "      <td>338</td>\n",
              "      <td>what is the contact person name mentioned in l...</td>\n",
              "      <td>documents/xnbl0037_1.png</td>\n",
              "      <td>279</td>\n",
              "      <td>xnbl0037</td>\n",
              "      <td>1</td>\n",
              "      <td>[P. Carter, p. carter]</td>\n",
              "      <td>train</td>\n",
              "      <td>/content/drive/MyDrive/docVqa_dataset/train/do...</td>\n",
              "    </tr>\n",
              "    <tr>\n",
              "      <th>2</th>\n",
              "      <td>339</td>\n",
              "      <td>Which corporation's letterhead is this?</td>\n",
              "      <td>documents/mxcj0037_1.png</td>\n",
              "      <td>280</td>\n",
              "      <td>mxcj0037</td>\n",
              "      <td>1</td>\n",
              "      <td>[Brown &amp; Williamson Tobacco Corporation]</td>\n",
              "      <td>train</td>\n",
              "      <td>/content/drive/MyDrive/docVqa_dataset/train/do...</td>\n",
              "    </tr>\n",
              "    <tr>\n",
              "      <th>3</th>\n",
              "      <td>340</td>\n",
              "      <td>Who is in  cc in this letter?</td>\n",
              "      <td>documents/mxcj0037_1.png</td>\n",
              "      <td>280</td>\n",
              "      <td>mxcj0037</td>\n",
              "      <td>1</td>\n",
              "      <td>[T.F. Riehl]</td>\n",
              "      <td>train</td>\n",
              "      <td>/content/drive/MyDrive/docVqa_dataset/train/do...</td>\n",
              "    </tr>\n",
              "    <tr>\n",
              "      <th>4</th>\n",
              "      <td>341</td>\n",
              "      <td>what is the subject of  this letter?</td>\n",
              "      <td>documents/mxcj0037_1.png</td>\n",
              "      <td>280</td>\n",
              "      <td>mxcj0037</td>\n",
              "      <td>1</td>\n",
              "      <td>[Review of existing Brainstorming Ideas/483]</td>\n",
              "      <td>train</td>\n",
              "      <td>/content/drive/MyDrive/docVqa_dataset/train/do...</td>\n",
              "    </tr>\n",
              "  </tbody>\n",
              "</table>\n",
              "</div>\n",
              "      <button class=\"colab-df-convert\" onclick=\"convertToInteractive('df-68136a6e-7667-4d53-b5a1-05a790a8af53')\"\n",
              "              title=\"Convert this dataframe to an interactive table.\"\n",
              "              style=\"display:none;\">\n",
              "\n",
              "  <svg xmlns=\"http://www.w3.org/2000/svg\" height=\"24px\"viewBox=\"0 0 24 24\"\n",
              "       width=\"24px\">\n",
              "    <path d=\"M0 0h24v24H0V0z\" fill=\"none\"/>\n",
              "    <path d=\"M18.56 5.44l.94 2.06.94-2.06 2.06-.94-2.06-.94-.94-2.06-.94 2.06-2.06.94zm-11 1L8.5 8.5l.94-2.06 2.06-.94-2.06-.94L8.5 2.5l-.94 2.06-2.06.94zm10 10l.94 2.06.94-2.06 2.06-.94-2.06-.94-.94-2.06-.94 2.06-2.06.94z\"/><path d=\"M17.41 7.96l-1.37-1.37c-.4-.4-.92-.59-1.43-.59-.52 0-1.04.2-1.43.59L10.3 9.45l-7.72 7.72c-.78.78-.78 2.05 0 2.83L4 21.41c.39.39.9.59 1.41.59.51 0 1.02-.2 1.41-.59l7.78-7.78 2.81-2.81c.8-.78.8-2.07 0-2.86zM5.41 20L4 18.59l7.72-7.72 1.47 1.35L5.41 20z\"/>\n",
              "  </svg>\n",
              "      </button>\n",
              "\n",
              "\n",
              "\n",
              "    <div id=\"df-429beed0-d50e-4dc4-b503-87682466f361\">\n",
              "      <button class=\"colab-df-quickchart\" onclick=\"quickchart('df-429beed0-d50e-4dc4-b503-87682466f361')\"\n",
              "              title=\"Suggest charts.\"\n",
              "              style=\"display:none;\">\n",
              "\n",
              "<svg xmlns=\"http://www.w3.org/2000/svg\" height=\"24px\"viewBox=\"0 0 24 24\"\n",
              "     width=\"24px\">\n",
              "    <g>\n",
              "        <path d=\"M19 3H5c-1.1 0-2 .9-2 2v14c0 1.1.9 2 2 2h14c1.1 0 2-.9 2-2V5c0-1.1-.9-2-2-2zM9 17H7v-7h2v7zm4 0h-2V7h2v10zm4 0h-2v-4h2v4z\"/>\n",
              "    </g>\n",
              "</svg>\n",
              "      </button>\n",
              "    </div>\n",
              "\n",
              "<style>\n",
              "  .colab-df-quickchart {\n",
              "    background-color: #E8F0FE;\n",
              "    border: none;\n",
              "    border-radius: 50%;\n",
              "    cursor: pointer;\n",
              "    display: none;\n",
              "    fill: #1967D2;\n",
              "    height: 32px;\n",
              "    padding: 0 0 0 0;\n",
              "    width: 32px;\n",
              "  }\n",
              "\n",
              "  .colab-df-quickchart:hover {\n",
              "    background-color: #E2EBFA;\n",
              "    box-shadow: 0px 1px 2px rgba(60, 64, 67, 0.3), 0px 1px 3px 1px rgba(60, 64, 67, 0.15);\n",
              "    fill: #174EA6;\n",
              "  }\n",
              "\n",
              "  [theme=dark] .colab-df-quickchart {\n",
              "    background-color: #3B4455;\n",
              "    fill: #D2E3FC;\n",
              "  }\n",
              "\n",
              "  [theme=dark] .colab-df-quickchart:hover {\n",
              "    background-color: #434B5C;\n",
              "    box-shadow: 0px 1px 3px 1px rgba(0, 0, 0, 0.15);\n",
              "    filter: drop-shadow(0px 1px 2px rgba(0, 0, 0, 0.3));\n",
              "    fill: #FFFFFF;\n",
              "  }\n",
              "</style>\n",
              "\n",
              "    <script>\n",
              "      async function quickchart(key) {\n",
              "        const containerElement = document.querySelector('#' + key);\n",
              "        const charts = await google.colab.kernel.invokeFunction(\n",
              "            'suggestCharts', [key], {});\n",
              "      }\n",
              "    </script>\n",
              "\n",
              "      <script>\n",
              "\n",
              "function displayQuickchartButton(domScope) {\n",
              "  let quickchartButtonEl =\n",
              "    domScope.querySelector('#df-429beed0-d50e-4dc4-b503-87682466f361 button.colab-df-quickchart');\n",
              "  quickchartButtonEl.style.display =\n",
              "    google.colab.kernel.accessAllowed ? 'block' : 'none';\n",
              "}\n",
              "\n",
              "        displayQuickchartButton(document);\n",
              "      </script>\n",
              "      <style>\n",
              "    .colab-df-container {\n",
              "      display:flex;\n",
              "      flex-wrap:wrap;\n",
              "      gap: 12px;\n",
              "    }\n",
              "\n",
              "    .colab-df-convert {\n",
              "      background-color: #E8F0FE;\n",
              "      border: none;\n",
              "      border-radius: 50%;\n",
              "      cursor: pointer;\n",
              "      display: none;\n",
              "      fill: #1967D2;\n",
              "      height: 32px;\n",
              "      padding: 0 0 0 0;\n",
              "      width: 32px;\n",
              "    }\n",
              "\n",
              "    .colab-df-convert:hover {\n",
              "      background-color: #E2EBFA;\n",
              "      box-shadow: 0px 1px 2px rgba(60, 64, 67, 0.3), 0px 1px 3px 1px rgba(60, 64, 67, 0.15);\n",
              "      fill: #174EA6;\n",
              "    }\n",
              "\n",
              "    [theme=dark] .colab-df-convert {\n",
              "      background-color: #3B4455;\n",
              "      fill: #D2E3FC;\n",
              "    }\n",
              "\n",
              "    [theme=dark] .colab-df-convert:hover {\n",
              "      background-color: #434B5C;\n",
              "      box-shadow: 0px 1px 3px 1px rgba(0, 0, 0, 0.15);\n",
              "      filter: drop-shadow(0px 1px 2px rgba(0, 0, 0, 0.3));\n",
              "      fill: #FFFFFF;\n",
              "    }\n",
              "  </style>\n",
              "\n",
              "      <script>\n",
              "        const buttonEl =\n",
              "          document.querySelector('#df-68136a6e-7667-4d53-b5a1-05a790a8af53 button.colab-df-convert');\n",
              "        buttonEl.style.display =\n",
              "          google.colab.kernel.accessAllowed ? 'block' : 'none';\n",
              "\n",
              "        async function convertToInteractive(key) {\n",
              "          const element = document.querySelector('#df-68136a6e-7667-4d53-b5a1-05a790a8af53');\n",
              "          const dataTable =\n",
              "            await google.colab.kernel.invokeFunction('convertToInteractive',\n",
              "                                                     [key], {});\n",
              "          if (!dataTable) return;\n",
              "\n",
              "          const docLinkHtml = 'Like what you see? Visit the ' +\n",
              "            '<a target=\"_blank\" href=https://colab.research.google.com/notebooks/data_table.ipynb>data table notebook</a>'\n",
              "            + ' to learn more about interactive tables.';\n",
              "          element.innerHTML = '';\n",
              "          dataTable['output_type'] = 'display_data';\n",
              "          await google.colab.output.renderOutput(dataTable, element);\n",
              "          const docLink = document.createElement('div');\n",
              "          docLink.innerHTML = docLinkHtml;\n",
              "          element.appendChild(docLink);\n",
              "        }\n",
              "      </script>\n",
              "    </div>\n",
              "  </div>\n"
            ],
            "text/plain": [
              "   questionId                                           question  \\\n",
              "0         337         what is the date mentioned in this letter?   \n",
              "1         338  what is the contact person name mentioned in l...   \n",
              "2         339            Which corporation's letterhead is this?   \n",
              "3         340                      Who is in  cc in this letter?   \n",
              "4         341               what is the subject of  this letter?   \n",
              "\n",
              "                      image  docId ucsf_document_id ucsf_document_page_no  \\\n",
              "0  documents/xnbl0037_1.png    279         xnbl0037                     1   \n",
              "1  documents/xnbl0037_1.png    279         xnbl0037                     1   \n",
              "2  documents/mxcj0037_1.png    280         mxcj0037                     1   \n",
              "3  documents/mxcj0037_1.png    280         mxcj0037                     1   \n",
              "4  documents/mxcj0037_1.png    280         mxcj0037                     1   \n",
              "\n",
              "                                        answers data_split  \\\n",
              "0                                      [1/8/93]      train   \n",
              "1                        [P. Carter, p. carter]      train   \n",
              "2      [Brown & Williamson Tobacco Corporation]      train   \n",
              "3                                  [T.F. Riehl]      train   \n",
              "4  [Review of existing Brainstorming Ideas/483]      train   \n",
              "\n",
              "                                     full_path_image  \n",
              "0  /content/drive/MyDrive/docVqa_dataset/train/do...  \n",
              "1  /content/drive/MyDrive/docVqa_dataset/train/do...  \n",
              "2  /content/drive/MyDrive/docVqa_dataset/train/do...  \n",
              "3  /content/drive/MyDrive/docVqa_dataset/train/do...  \n",
              "4  /content/drive/MyDrive/docVqa_dataset/train/do...  "
            ]
          },
          "execution_count": 11,
          "metadata": {},
          "output_type": "execute_result"
        }
      ],
      "source": [
        "df_sub.head()"
      ]
    },
    {
      "cell_type": "code",
      "execution_count": 12,
      "metadata": {
        "id": "jIvQTHYwjMLs"
      },
      "outputs": [],
      "source": [
        "# ## Checking list of dirs and files in the main train folder\n",
        "# dir_list = os.listdir(base_train_path)    ## train dir contains two sub dir and one json file\n",
        "# dir_list, dir_list[1]"
      ]
    },
    {
      "cell_type": "code",
      "execution_count": 13,
      "metadata": {
        "id": "g3KRgeHTiThi"
      },
      "outputs": [],
      "source": [
        "# ocr_base_dir = os.path.join(base_train_path, dir_list[1])\n",
        "# ocr_base_dir"
      ]
    },
    {
      "cell_type": "code",
      "execution_count": 14,
      "metadata": {
        "id": "u1YDvCIunrfV"
      },
      "outputs": [],
      "source": [
        "# df_train['ocr_path'] = df_train.apply(lambda row: ocr_base_dir + '/' + row['ucsf_document_id'] + '_' + row['ucsf_document_page_no'] + '.json', axis=1)"
      ]
    },
    {
      "cell_type": "code",
      "execution_count": 15,
      "metadata": {
        "id": "4-W8EE7io1Br"
      },
      "outputs": [],
      "source": [
        "# df_train['ocr_path'][0]"
      ]
    },
    {
      "cell_type": "code",
      "execution_count": 16,
      "metadata": {
        "id": "ghGDo3A-pFpv"
      },
      "outputs": [],
      "source": [
        "# df_train['ocr_path'][1]"
      ]
    },
    {
      "cell_type": "code",
      "execution_count": 17,
      "metadata": {
        "id": "J2LkhIUmj4EU"
      },
      "outputs": [],
      "source": [
        "# df_train.head()"
      ]
    },
    {
      "cell_type": "code",
      "execution_count": 18,
      "metadata": {
        "id": "C2nl5UCrwatE"
      },
      "outputs": [],
      "source": [
        "def extract_ocr_info(df, base_train_dir):\n",
        "\n",
        "  dir_list = os.listdir(base_train_path)\n",
        "  ocr_base_dir = os.path.join(base_train_path, dir_list[1])\n",
        "\n",
        "  # Create empty lists for bounding boxes and word lists\n",
        "  bbox_list = []\n",
        "  word_list = []\n",
        "\n",
        "  # Iterate over each row in the DataFrame\n",
        "  for _, row in df.iterrows():\n",
        "\n",
        "    # Construct the ocr_path for the row\n",
        "    ocr_path = os.path.join(ocr_base_dir, row['ucsf_document_id'] + '_' + row['ucsf_document_page_no'] + '.json')\n",
        "\n",
        "    # Open the json file and load the data\n",
        "    with open(ocr_path, 'r') as f:\n",
        "      ocr_json = json.load(f)\n",
        "\n",
        "    # Extract the bounding boxes and word lists from the json data\n",
        "    bbox_row = []\n",
        "    word_row = []\n",
        "    for i in ocr_json['recognitionResults'][0]['lines']:\n",
        "      for j in i['words']:\n",
        "        bbox_row.append(j['boundingBox'])\n",
        "        word_row.append(j['text'])\n",
        "\n",
        "    # Append the bbox and word lists to the global lists\n",
        "    bbox_list.append(bbox_row)\n",
        "    word_list.append(word_row)\n",
        "  # Create new columns in the DataFrame to store the bbox and words lists\n",
        "  df['bounding_boxes'] = bbox_list\n",
        "  df['word_list'] = word_list\n",
        "\n",
        "  df.drop(['questionId', 'image','ucsf_document_id', 'ucsf_document_page_no'], axis=1, inplace=True)\n",
        "\n",
        "  # Return the updated DataFrame\n",
        "  return df\n"
      ]
    },
    {
      "cell_type": "code",
      "execution_count": 19,
      "metadata": {
        "colab": {
          "base_uri": "https://localhost:8080/"
        },
        "id": "oyxzDW-o50OM",
        "outputId": "75721348-5f0f-44f2-a7c6-61407e16fb96"
      },
      "outputs": [
        {
          "name": "stderr",
          "output_type": "stream",
          "text": [
            "<ipython-input-18-e3b5e856659a>:32: SettingWithCopyWarning: \n",
            "A value is trying to be set on a copy of a slice from a DataFrame.\n",
            "Try using .loc[row_indexer,col_indexer] = value instead\n",
            "\n",
            "See the caveats in the documentation: https://pandas.pydata.org/pandas-docs/stable/user_guide/indexing.html#returning-a-view-versus-a-copy\n",
            "  df['bounding_boxes'] = bbox_list\n",
            "<ipython-input-18-e3b5e856659a>:33: SettingWithCopyWarning: \n",
            "A value is trying to be set on a copy of a slice from a DataFrame.\n",
            "Try using .loc[row_indexer,col_indexer] = value instead\n",
            "\n",
            "See the caveats in the documentation: https://pandas.pydata.org/pandas-docs/stable/user_guide/indexing.html#returning-a-view-versus-a-copy\n",
            "  df['word_list'] = word_list\n",
            "<ipython-input-18-e3b5e856659a>:35: SettingWithCopyWarning: \n",
            "A value is trying to be set on a copy of a slice from a DataFrame\n",
            "\n",
            "See the caveats in the documentation: https://pandas.pydata.org/pandas-docs/stable/user_guide/indexing.html#returning-a-view-versus-a-copy\n",
            "  df.drop(['questionId', 'image','ucsf_document_id', 'ucsf_document_page_no'], axis=1, inplace=True)\n"
          ]
        }
      ],
      "source": [
        "df_sub = extract_ocr_info(df_sub, base_train_path)"
      ]
    },
    {
      "cell_type": "code",
      "execution_count": 20,
      "metadata": {
        "colab": {
          "base_uri": "https://localhost:8080/",
          "height": 337
        },
        "id": "08OTao2fiTRC",
        "outputId": "fb6e0d7a-6c21-4a77-f67d-b707469a4e4b"
      },
      "outputs": [
        {
          "data": {
            "text/html": [
              "\n",
              "\n",
              "  <div id=\"df-a5d22802-06f3-42ac-b30b-53281a865900\">\n",
              "    <div class=\"colab-df-container\">\n",
              "      <div>\n",
              "<style scoped>\n",
              "    .dataframe tbody tr th:only-of-type {\n",
              "        vertical-align: middle;\n",
              "    }\n",
              "\n",
              "    .dataframe tbody tr th {\n",
              "        vertical-align: top;\n",
              "    }\n",
              "\n",
              "    .dataframe thead th {\n",
              "        text-align: right;\n",
              "    }\n",
              "</style>\n",
              "<table border=\"1\" class=\"dataframe\">\n",
              "  <thead>\n",
              "    <tr style=\"text-align: right;\">\n",
              "      <th></th>\n",
              "      <th>question</th>\n",
              "      <th>docId</th>\n",
              "      <th>answers</th>\n",
              "      <th>data_split</th>\n",
              "      <th>full_path_image</th>\n",
              "      <th>bounding_boxes</th>\n",
              "      <th>word_list</th>\n",
              "    </tr>\n",
              "  </thead>\n",
              "  <tbody>\n",
              "    <tr>\n",
              "      <th>0</th>\n",
              "      <td>what is the date mentioned in this letter?</td>\n",
              "      <td>279</td>\n",
              "      <td>[1/8/93]</td>\n",
              "      <td>train</td>\n",
              "      <td>/content/drive/MyDrive/docVqa_dataset/train/do...</td>\n",
              "      <td>[[586, 30, 993, 36, 994, 119, 584, 131], [1080...</td>\n",
              "      <td>[Confidential, .., .., RJRT, PR, APPROVAL, DAT...</td>\n",
              "    </tr>\n",
              "    <tr>\n",
              "      <th>1</th>\n",
              "      <td>what is the contact person name mentioned in l...</td>\n",
              "      <td>279</td>\n",
              "      <td>[P. Carter, p. carter]</td>\n",
              "      <td>train</td>\n",
              "      <td>/content/drive/MyDrive/docVqa_dataset/train/do...</td>\n",
              "      <td>[[586, 30, 993, 36, 994, 119, 584, 131], [1080...</td>\n",
              "      <td>[Confidential, .., .., RJRT, PR, APPROVAL, DAT...</td>\n",
              "    </tr>\n",
              "    <tr>\n",
              "      <th>2</th>\n",
              "      <td>Which corporation's letterhead is this?</td>\n",
              "      <td>280</td>\n",
              "      <td>[Brown &amp; Williamson Tobacco Corporation]</td>\n",
              "      <td>train</td>\n",
              "      <td>/content/drive/MyDrive/docVqa_dataset/train/do...</td>\n",
              "      <td>[[733, 196, 789, 193, 791, 218, 734, 219], [47...</td>\n",
              "      <td>[B&amp;W, BROWN, &amp;, WILLIAMSON, TOBACCO, CORPORATI...</td>\n",
              "    </tr>\n",
              "    <tr>\n",
              "      <th>3</th>\n",
              "      <td>Who is in  cc in this letter?</td>\n",
              "      <td>280</td>\n",
              "      <td>[T.F. Riehl]</td>\n",
              "      <td>train</td>\n",
              "      <td>/content/drive/MyDrive/docVqa_dataset/train/do...</td>\n",
              "      <td>[[733, 196, 789, 193, 791, 218, 734, 219], [47...</td>\n",
              "      <td>[B&amp;W, BROWN, &amp;, WILLIAMSON, TOBACCO, CORPORATI...</td>\n",
              "    </tr>\n",
              "    <tr>\n",
              "      <th>4</th>\n",
              "      <td>what is the subject of  this letter?</td>\n",
              "      <td>280</td>\n",
              "      <td>[Review of existing Brainstorming Ideas/483]</td>\n",
              "      <td>train</td>\n",
              "      <td>/content/drive/MyDrive/docVqa_dataset/train/do...</td>\n",
              "      <td>[[733, 196, 789, 193, 791, 218, 734, 219], [47...</td>\n",
              "      <td>[B&amp;W, BROWN, &amp;, WILLIAMSON, TOBACCO, CORPORATI...</td>\n",
              "    </tr>\n",
              "  </tbody>\n",
              "</table>\n",
              "</div>\n",
              "      <button class=\"colab-df-convert\" onclick=\"convertToInteractive('df-a5d22802-06f3-42ac-b30b-53281a865900')\"\n",
              "              title=\"Convert this dataframe to an interactive table.\"\n",
              "              style=\"display:none;\">\n",
              "\n",
              "  <svg xmlns=\"http://www.w3.org/2000/svg\" height=\"24px\"viewBox=\"0 0 24 24\"\n",
              "       width=\"24px\">\n",
              "    <path d=\"M0 0h24v24H0V0z\" fill=\"none\"/>\n",
              "    <path d=\"M18.56 5.44l.94 2.06.94-2.06 2.06-.94-2.06-.94-.94-2.06-.94 2.06-2.06.94zm-11 1L8.5 8.5l.94-2.06 2.06-.94-2.06-.94L8.5 2.5l-.94 2.06-2.06.94zm10 10l.94 2.06.94-2.06 2.06-.94-2.06-.94-.94-2.06-.94 2.06-2.06.94z\"/><path d=\"M17.41 7.96l-1.37-1.37c-.4-.4-.92-.59-1.43-.59-.52 0-1.04.2-1.43.59L10.3 9.45l-7.72 7.72c-.78.78-.78 2.05 0 2.83L4 21.41c.39.39.9.59 1.41.59.51 0 1.02-.2 1.41-.59l7.78-7.78 2.81-2.81c.8-.78.8-2.07 0-2.86zM5.41 20L4 18.59l7.72-7.72 1.47 1.35L5.41 20z\"/>\n",
              "  </svg>\n",
              "      </button>\n",
              "\n",
              "\n",
              "\n",
              "    <div id=\"df-ae9ca93e-44f1-4735-a425-fed43af487e7\">\n",
              "      <button class=\"colab-df-quickchart\" onclick=\"quickchart('df-ae9ca93e-44f1-4735-a425-fed43af487e7')\"\n",
              "              title=\"Suggest charts.\"\n",
              "              style=\"display:none;\">\n",
              "\n",
              "<svg xmlns=\"http://www.w3.org/2000/svg\" height=\"24px\"viewBox=\"0 0 24 24\"\n",
              "     width=\"24px\">\n",
              "    <g>\n",
              "        <path d=\"M19 3H5c-1.1 0-2 .9-2 2v14c0 1.1.9 2 2 2h14c1.1 0 2-.9 2-2V5c0-1.1-.9-2-2-2zM9 17H7v-7h2v7zm4 0h-2V7h2v10zm4 0h-2v-4h2v4z\"/>\n",
              "    </g>\n",
              "</svg>\n",
              "      </button>\n",
              "    </div>\n",
              "\n",
              "<style>\n",
              "  .colab-df-quickchart {\n",
              "    background-color: #E8F0FE;\n",
              "    border: none;\n",
              "    border-radius: 50%;\n",
              "    cursor: pointer;\n",
              "    display: none;\n",
              "    fill: #1967D2;\n",
              "    height: 32px;\n",
              "    padding: 0 0 0 0;\n",
              "    width: 32px;\n",
              "  }\n",
              "\n",
              "  .colab-df-quickchart:hover {\n",
              "    background-color: #E2EBFA;\n",
              "    box-shadow: 0px 1px 2px rgba(60, 64, 67, 0.3), 0px 1px 3px 1px rgba(60, 64, 67, 0.15);\n",
              "    fill: #174EA6;\n",
              "  }\n",
              "\n",
              "  [theme=dark] .colab-df-quickchart {\n",
              "    background-color: #3B4455;\n",
              "    fill: #D2E3FC;\n",
              "  }\n",
              "\n",
              "  [theme=dark] .colab-df-quickchart:hover {\n",
              "    background-color: #434B5C;\n",
              "    box-shadow: 0px 1px 3px 1px rgba(0, 0, 0, 0.15);\n",
              "    filter: drop-shadow(0px 1px 2px rgba(0, 0, 0, 0.3));\n",
              "    fill: #FFFFFF;\n",
              "  }\n",
              "</style>\n",
              "\n",
              "    <script>\n",
              "      async function quickchart(key) {\n",
              "        const containerElement = document.querySelector('#' + key);\n",
              "        const charts = await google.colab.kernel.invokeFunction(\n",
              "            'suggestCharts', [key], {});\n",
              "      }\n",
              "    </script>\n",
              "\n",
              "      <script>\n",
              "\n",
              "function displayQuickchartButton(domScope) {\n",
              "  let quickchartButtonEl =\n",
              "    domScope.querySelector('#df-ae9ca93e-44f1-4735-a425-fed43af487e7 button.colab-df-quickchart');\n",
              "  quickchartButtonEl.style.display =\n",
              "    google.colab.kernel.accessAllowed ? 'block' : 'none';\n",
              "}\n",
              "\n",
              "        displayQuickchartButton(document);\n",
              "      </script>\n",
              "      <style>\n",
              "    .colab-df-container {\n",
              "      display:flex;\n",
              "      flex-wrap:wrap;\n",
              "      gap: 12px;\n",
              "    }\n",
              "\n",
              "    .colab-df-convert {\n",
              "      background-color: #E8F0FE;\n",
              "      border: none;\n",
              "      border-radius: 50%;\n",
              "      cursor: pointer;\n",
              "      display: none;\n",
              "      fill: #1967D2;\n",
              "      height: 32px;\n",
              "      padding: 0 0 0 0;\n",
              "      width: 32px;\n",
              "    }\n",
              "\n",
              "    .colab-df-convert:hover {\n",
              "      background-color: #E2EBFA;\n",
              "      box-shadow: 0px 1px 2px rgba(60, 64, 67, 0.3), 0px 1px 3px 1px rgba(60, 64, 67, 0.15);\n",
              "      fill: #174EA6;\n",
              "    }\n",
              "\n",
              "    [theme=dark] .colab-df-convert {\n",
              "      background-color: #3B4455;\n",
              "      fill: #D2E3FC;\n",
              "    }\n",
              "\n",
              "    [theme=dark] .colab-df-convert:hover {\n",
              "      background-color: #434B5C;\n",
              "      box-shadow: 0px 1px 3px 1px rgba(0, 0, 0, 0.15);\n",
              "      filter: drop-shadow(0px 1px 2px rgba(0, 0, 0, 0.3));\n",
              "      fill: #FFFFFF;\n",
              "    }\n",
              "  </style>\n",
              "\n",
              "      <script>\n",
              "        const buttonEl =\n",
              "          document.querySelector('#df-a5d22802-06f3-42ac-b30b-53281a865900 button.colab-df-convert');\n",
              "        buttonEl.style.display =\n",
              "          google.colab.kernel.accessAllowed ? 'block' : 'none';\n",
              "\n",
              "        async function convertToInteractive(key) {\n",
              "          const element = document.querySelector('#df-a5d22802-06f3-42ac-b30b-53281a865900');\n",
              "          const dataTable =\n",
              "            await google.colab.kernel.invokeFunction('convertToInteractive',\n",
              "                                                     [key], {});\n",
              "          if (!dataTable) return;\n",
              "\n",
              "          const docLinkHtml = 'Like what you see? Visit the ' +\n",
              "            '<a target=\"_blank\" href=https://colab.research.google.com/notebooks/data_table.ipynb>data table notebook</a>'\n",
              "            + ' to learn more about interactive tables.';\n",
              "          element.innerHTML = '';\n",
              "          dataTable['output_type'] = 'display_data';\n",
              "          await google.colab.output.renderOutput(dataTable, element);\n",
              "          const docLink = document.createElement('div');\n",
              "          docLink.innerHTML = docLinkHtml;\n",
              "          element.appendChild(docLink);\n",
              "        }\n",
              "      </script>\n",
              "    </div>\n",
              "  </div>\n"
            ],
            "text/plain": [
              "                                            question  docId  \\\n",
              "0         what is the date mentioned in this letter?    279   \n",
              "1  what is the contact person name mentioned in l...    279   \n",
              "2            Which corporation's letterhead is this?    280   \n",
              "3                      Who is in  cc in this letter?    280   \n",
              "4               what is the subject of  this letter?    280   \n",
              "\n",
              "                                        answers data_split  \\\n",
              "0                                      [1/8/93]      train   \n",
              "1                        [P. Carter, p. carter]      train   \n",
              "2      [Brown & Williamson Tobacco Corporation]      train   \n",
              "3                                  [T.F. Riehl]      train   \n",
              "4  [Review of existing Brainstorming Ideas/483]      train   \n",
              "\n",
              "                                     full_path_image  \\\n",
              "0  /content/drive/MyDrive/docVqa_dataset/train/do...   \n",
              "1  /content/drive/MyDrive/docVqa_dataset/train/do...   \n",
              "2  /content/drive/MyDrive/docVqa_dataset/train/do...   \n",
              "3  /content/drive/MyDrive/docVqa_dataset/train/do...   \n",
              "4  /content/drive/MyDrive/docVqa_dataset/train/do...   \n",
              "\n",
              "                                      bounding_boxes  \\\n",
              "0  [[586, 30, 993, 36, 994, 119, 584, 131], [1080...   \n",
              "1  [[586, 30, 993, 36, 994, 119, 584, 131], [1080...   \n",
              "2  [[733, 196, 789, 193, 791, 218, 734, 219], [47...   \n",
              "3  [[733, 196, 789, 193, 791, 218, 734, 219], [47...   \n",
              "4  [[733, 196, 789, 193, 791, 218, 734, 219], [47...   \n",
              "\n",
              "                                           word_list  \n",
              "0  [Confidential, .., .., RJRT, PR, APPROVAL, DAT...  \n",
              "1  [Confidential, .., .., RJRT, PR, APPROVAL, DAT...  \n",
              "2  [B&W, BROWN, &, WILLIAMSON, TOBACCO, CORPORATI...  \n",
              "3  [B&W, BROWN, &, WILLIAMSON, TOBACCO, CORPORATI...  \n",
              "4  [B&W, BROWN, &, WILLIAMSON, TOBACCO, CORPORATI...  "
            ]
          },
          "execution_count": 20,
          "metadata": {},
          "output_type": "execute_result"
        }
      ],
      "source": [
        "df_sub.head()"
      ]
    },
    {
      "cell_type": "code",
      "execution_count": 21,
      "metadata": {
        "id": "3swuomN3NQM_"
      },
      "outputs": [],
      "source": [
        "# # Save the DataFrame as a CSV file\n",
        "# df_sub.to_csv('data_sub.csv', index=False)"
      ]
    },
    {
      "cell_type": "markdown",
      "metadata": {
        "id": "3sY4b14vKVIe"
      },
      "source": [
        "## Converting dataframe sub to huggingface dataset format"
      ]
    },
    {
      "cell_type": "code",
      "execution_count": 22,
      "metadata": {
        "id": "pmUys5TVKRR6"
      },
      "outputs": [],
      "source": [
        "## Convert dataframe into dataset object\n",
        "hfdataset_sub = Dataset.from_pandas(df_sub)"
      ]
    },
    {
      "cell_type": "code",
      "execution_count": 23,
      "metadata": {
        "colab": {
          "base_uri": "https://localhost:8080/"
        },
        "id": "BMhTF5pqKUXm",
        "outputId": "dc7f0ac5-5b00-4465-dd36-a98fcf33283b"
      },
      "outputs": [
        {
          "data": {
            "text/plain": [
              "Dataset({\n",
              "    features: ['question', 'docId', 'answers', 'data_split', 'full_path_image', 'bounding_boxes', 'word_list'],\n",
              "    num_rows: 50\n",
              "})"
            ]
          },
          "execution_count": 23,
          "metadata": {},
          "output_type": "execute_result"
        }
      ],
      "source": [
        "hfdataset_sub"
      ]
    },
    {
      "cell_type": "code",
      "execution_count": 24,
      "metadata": {
        "id": "zWULCL02Rkz4"
      },
      "outputs": [],
      "source": [
        "## Custom function to identify indexing and collect bbox values\n",
        "\n",
        "def get_info(hfexample):\n",
        "\n",
        "  words = hfexample[\"word_list\"]\n",
        "  bbox = hfexample[\"bounding_boxes\"]\n",
        "  ans = hfexample[\"answers\"]\n",
        "\n",
        "  ###converting the words list to a single string\n",
        "  sentence = \" \".join(words)\n",
        "\n",
        "  ###Removing all the punc from the string\n",
        "  for punctuation in string.punctuation:\n",
        "    sentence = sentence.replace(punctuation, '')\n",
        "\n",
        "  ###Removing all the punc from the output string\n",
        "  ans_sentence = \"\"\n",
        "  for element in ans:\n",
        "    for punctuation in string.punctuation:\n",
        "      element = element.replace(punctuation, '')\n",
        "    ans_sentence = ans_sentence + element + \" \"\n",
        "\n",
        "  ###converting the strings to list\n",
        "  sentence = list(sentence.split(\" \"))\n",
        "  answer = list(ans_sentence.split(\" \"))\n",
        "\n",
        "  ###Finding the index of the output words in the main string's words.\n",
        "  answer_index = []\n",
        "  for word in answer:\n",
        "    if word:\n",
        "      try:\n",
        "        index = sentence.index(word)\n",
        "        answer_index.append(index)\n",
        "      except ValueError:\n",
        "        pass\n",
        "\n",
        "  ###Finding the bb_values of the output words.\n",
        "  bb_values = []\n",
        "  for index in answer_index:\n",
        "    bb_values.append(bbox[index])\n",
        "\n",
        "  # Creating the info dictionary\n",
        "  info = {\n",
        "      \"actual_ans\": [word for word in ans if word],\n",
        "      \"answer_index\": answer_index,\n",
        "      \"bbox_values\": bb_values\n",
        "  }\n",
        "\n",
        "  # Add the info dictionary to the example\n",
        "  hfexample[\"detail_info\"] = info\n",
        "\n",
        "  return hfexample\n"
      ]
    },
    {
      "cell_type": "code",
      "execution_count": 25,
      "metadata": {
        "colab": {
          "base_uri": "https://localhost:8080/",
          "height": 49,
          "referenced_widgets": [
            "4b1d1ef6b7154552937393e65f68f28c",
            "c49ec9a489244567b3a7e669b3661386",
            "395e466992174aebbc24c3a40d537dff",
            "c62adaf38f494753b80c97521c0224b1",
            "791cfa44f7774cc2aa6846c7214a7d00",
            "4f9b6b254f2f452397417bbe6417484c",
            "bc08dc2f56964235b84e9cdfa3f28ba5",
            "a7586f0531954904b92b62f205c5d73b",
            "50d048934d4b454baa9fb7c3252441fd",
            "140dd51627e049c9acf6d192cf3d0f2e",
            "726d09da4c3949fe9735a121a9e70940"
          ]
        },
        "id": "x9THpjNaRkta",
        "outputId": "821912d6-7ec1-4736-ed1b-5db25e8226bc"
      },
      "outputs": [
        {
          "data": {
            "application/vnd.jupyter.widget-view+json": {
              "model_id": "4b1d1ef6b7154552937393e65f68f28c",
              "version_major": 2,
              "version_minor": 0
            },
            "text/plain": [
              "Map:   0%|          | 0/50 [00:00<?, ? examples/s]"
            ]
          },
          "metadata": {},
          "output_type": "display_data"
        }
      ],
      "source": [
        "# Apply the custom function to the dataset using map()\n",
        "hfdataset_sub_info = hfdataset_sub.map(get_info)"
      ]
    },
    {
      "cell_type": "code",
      "execution_count": 26,
      "metadata": {
        "colab": {
          "base_uri": "https://localhost:8080/"
        },
        "id": "I7EF7EsZRkqx",
        "outputId": "2f740bf9-8b1f-4142-d85f-bfdd6fe4ea06"
      },
      "outputs": [
        {
          "data": {
            "text/plain": [
              "Dataset({\n",
              "    features: ['question', 'docId', 'answers', 'data_split', 'full_path_image', 'bounding_boxes', 'word_list', 'detail_info'],\n",
              "    num_rows: 50\n",
              "})"
            ]
          },
          "execution_count": 26,
          "metadata": {},
          "output_type": "execute_result"
        }
      ],
      "source": [
        "# Print the modified dataset\n",
        "hfdataset_sub_info"
      ]
    },
    {
      "cell_type": "markdown",
      "metadata": {
        "id": "Ysiqi3xhJkI3"
      },
      "source": [
        "#### Sample Data testing"
      ]
    },
    {
      "cell_type": "code",
      "execution_count": 27,
      "metadata": {
        "id": "ZP_KbCnwXwMS"
      },
      "outputs": [],
      "source": [
        "def sampleDetailschecking(k):\n",
        "  print(hfdataset_sub_info[k])\n",
        "  print('*****************************************')\n",
        "  print(hfdataset_sub_info[k]['question'])\n",
        "  print('*****************************************')\n",
        "  print(hfdataset_sub_info[k]['answers'])\n",
        "  print('*****************************************')\n",
        "  print(hfdataset_sub_info[k]['bounding_boxes'])\n",
        "  print('*****************************************')\n",
        "  print(hfdataset_sub_info[k]['word_list'])\n",
        "  print('*****************************************')\n",
        "  print(hfdataset_sub_info[k]['detail_info'])\n"
      ]
    },
    {
      "cell_type": "code",
      "execution_count": 28,
      "metadata": {
        "colab": {
          "base_uri": "https://localhost:8080/"
        },
        "id": "bnxyqXDCYwIZ",
        "outputId": "f51009b5-b106-41a2-bc79-e25b41529023"
      },
      "outputs": [
        {
          "name": "stdout",
          "output_type": "stream",
          "text": [
            "{'question': 'According to the listed requirements , what must be the age group of female smokers?', 'docId': 319, 'answers': ['between the ages of 18 and 55'], 'data_split': 'train', 'full_path_image': '/content/drive/MyDrive/docVqa_dataset/train/documents/fxxj0037_2.png', 'bounding_boxes': [[214, 177, 364, 174, 363, 209, 216, 209], [217, 260, 274, 261, 275, 293, 219, 292], [281, 261, 354, 261, 355, 293, 282, 293], [361, 261, 449, 262, 450, 294, 362, 293], [456, 262, 519, 263, 519, 294, 456, 294], [525, 263, 658, 264, 658, 295, 526, 294], [664, 264, 700, 264, 700, 296, 665, 295], [707, 264, 774, 264, 774, 296, 707, 296], [780, 264, 823, 265, 822, 296, 780, 296], [829, 265, 854, 265, 854, 297, 829, 296], [861, 265, 920, 265, 919, 297, 860, 297], [926, 265, 1021, 265, 1020, 298, 925, 297], [1027, 265, 1147, 266, 1146, 298, 1026, 298], [1154, 266, 1181, 266, 1180, 299, 1153, 298], [1188, 266, 1291, 266, 1289, 299, 1186, 299], [216, 301, 418, 302, 418, 334, 216, 333], [424, 302, 452, 302, 452, 335, 424, 334], [458, 302, 573, 303, 573, 336, 458, 335], [580, 303, 767, 304, 766, 337, 579, 336], [773, 304, 837, 304, 836, 338, 773, 337], [843, 304, 990, 305, 989, 339, 843, 338], [996, 305, 1134, 306, 1134, 341, 996, 339], [1140, 306, 1202, 306, 1202, 341, 1140, 341], [1208, 306, 1349, 307, 1349, 343, 1208, 341], [1355, 307, 1442, 308, 1442, 344, 1355, 343], [217, 341, 285, 340, 287, 375, 219, 375], [292, 340, 347, 340, 348, 375, 293, 375], [353, 340, 454, 340, 456, 376, 355, 375], [461, 340, 505, 340, 506, 376, 462, 376], [511, 340, 581, 342, 583, 376, 513, 376], [588, 342, 641, 343, 642, 376, 589, 376], [214, 423, 260, 423, 259, 460, 214, 460], [267, 423, 420, 424, 419, 461, 267, 460], [427, 424, 490, 425, 489, 461, 426, 461], [498, 425, 611, 426, 610, 462, 496, 461], [619, 426, 655, 426, 654, 462, 617, 462], [662, 426, 703, 426, 702, 462, 661, 462], [711, 427, 834, 428, 833, 463, 709, 462], [842, 428, 1021, 430, 1019, 465, 840, 463], [266, 505, 376, 508, 376, 543, 266, 540], [383, 508, 488, 510, 488, 545, 383, 543], [495, 510, 605, 511, 605, 546, 495, 545], [612, 511, 652, 512, 652, 546, 612, 546], [659, 512, 717, 512, 718, 546, 659, 546], [724, 512, 755, 512, 755, 546, 725, 546], [762, 512, 792, 512, 792, 546, 762, 546], [799, 512, 846, 512, 846, 545, 799, 546], [853, 512, 888, 511, 888, 545, 853, 545], [267, 589, 365, 591, 364, 625, 267, 625], [372, 591, 448, 592, 448, 625, 371, 625], [455, 592, 546, 594, 546, 626, 455, 625], [553, 594, 658, 595, 658, 626, 553, 626], [665, 595, 696, 595, 695, 627, 665, 627], [703, 595, 796, 596, 795, 627, 702, 627], [805, 596, 959, 597, 958, 628, 805, 627], [966, 597, 1013, 597, 1012, 629, 965, 629], [1020, 597, 1104, 597, 1103, 630, 1019, 629], [1111, 597, 1162, 597, 1161, 630, 1110, 630], [1174, 597, 1283, 597, 1282, 631, 1173, 630], [1290, 597, 1337, 597, 1336, 632, 1289, 631], [1344, 597, 1407, 596, 1406, 632, 1343, 632], [263, 631, 311, 632, 312, 664, 264, 662], [325, 632, 429, 634, 429, 668, 326, 664], [435, 634, 563, 636, 562, 669, 435, 668], [263, 713, 337, 714, 336, 746, 262, 746], [343, 714, 510, 715, 510, 748, 343, 746], [517, 715, 545, 716, 545, 748, 516, 748], [551, 716, 642, 716, 643, 749, 551, 748], [649, 716, 725, 715, 725, 750, 649, 749], [731, 715, 755, 715, 756, 751, 732, 751], [762, 715, 825, 715, 825, 752, 762, 751], [831, 714, 870, 714, 871, 753, 832, 752], [877, 714, 944, 713, 945, 754, 877, 753], [261, 793, 368, 795, 369, 829, 261, 826], [375, 795, 398, 795, 399, 830, 375, 829], [405, 795, 469, 796, 470, 831, 405, 830], [475, 796, 516, 796, 517, 832, 476, 831], [522, 797, 584, 797, 586, 832, 523, 832], [591, 797, 619, 797, 620, 832, 592, 832], [625, 797, 783, 798, 785, 832, 626, 832], [790, 798, 867, 798, 869, 830, 792, 832], [200, 916, 408, 917, 407, 955, 201, 951], [202, 1000, 258, 1001, 259, 1035, 202, 1035], [265, 1001, 338, 1002, 338, 1036, 266, 1035], [344, 1002, 433, 1004, 433, 1038, 345, 1037], [440, 1004, 501, 1005, 501, 1038, 440, 1038], [508, 1005, 566, 1005, 567, 1039, 508, 1039], [573, 1006, 630, 1006, 630, 1040, 574, 1039], [637, 1006, 678, 1007, 678, 1040, 637, 1040], [684, 1007, 773, 1008, 773, 1041, 685, 1041], [780, 1008, 884, 1009, 884, 1042, 780, 1041], [891, 1009, 936, 1009, 936, 1043, 891, 1042], [943, 1009, 1038, 1010, 1038, 1044, 943, 1043], [1045, 1010, 1095, 1010, 1094, 1044, 1045, 1044], [1101, 1010, 1208, 1010, 1208, 1045, 1101, 1044], [1215, 1010, 1278, 1010, 1278, 1045, 1214, 1045], [1285, 1010, 1328, 1011, 1328, 1045, 1285, 1045], [1335, 1011, 1412, 1011, 1411, 1046, 1334, 1045], [199, 1044, 245, 1045, 244, 1076, 198, 1075], [251, 1045, 352, 1046, 352, 1078, 250, 1076], [358, 1046, 386, 1046, 386, 1079, 358, 1078], [392, 1046, 477, 1047, 477, 1081, 392, 1079], [483, 1047, 525, 1047, 525, 1082, 483, 1081], [531, 1047, 559, 1047, 559, 1082, 531, 1082], [565, 1047, 607, 1048, 606, 1083, 565, 1082], [613, 1048, 700, 1048, 700, 1084, 612, 1083], [706, 1048, 766, 1049, 766, 1085, 706, 1084], [772, 1049, 835, 1049, 835, 1085, 772, 1085], [841, 1050, 927, 1050, 927, 1086, 841, 1085], [932, 1050, 974, 1051, 975, 1086, 933, 1086], [980, 1051, 1064, 1051, 1064, 1086, 981, 1086], [1070, 1052, 1115, 1052, 1116, 1086, 1070, 1086], [1121, 1052, 1229, 1053, 1229, 1086, 1122, 1086], [1235, 1053, 1262, 1053, 1263, 1086, 1235, 1086], [1268, 1053, 1338, 1054, 1339, 1085, 1269, 1086], [1344, 1054, 1370, 1054, 1371, 1085, 1345, 1085], [200, 1086, 262, 1087, 262, 1121, 199, 1120], [269, 1087, 402, 1087, 402, 1123, 268, 1121], [409, 1087, 443, 1088, 442, 1124, 409, 1123], [449, 1088, 489, 1088, 489, 1124, 449, 1124], [496, 1088, 648, 1089, 647, 1126, 496, 1124], [654, 1089, 703, 1089, 703, 1126, 654, 1126], [710, 1089, 855, 1091, 855, 1128, 710, 1127], [861, 1091, 997, 1092, 997, 1129, 861, 1128], [1004, 1092, 1109, 1093, 1109, 1130, 1004, 1129], [1115, 1093, 1156, 1094, 1155, 1130, 1115, 1130], [1162, 1094, 1229, 1095, 1229, 1131, 1162, 1130], [1236, 1095, 1323, 1096, 1323, 1131, 1236, 1131], [1329, 1096, 1416, 1097, 1416, 1132, 1329, 1131], [198, 1128, 334, 1128, 333, 1168, 198, 1169], [342, 1128, 394, 1128, 393, 1167, 341, 1168], [402, 1128, 464, 1129, 463, 1167, 401, 1167], [472, 1129, 592, 1130, 590, 1168, 471, 1167], [600, 1130, 624, 1131, 623, 1168, 599, 1168], [632, 1131, 676, 1131, 674, 1169, 631, 1168], [684, 1131, 776, 1133, 775, 1171, 683, 1169], [194, 1252, 243, 1254, 243, 1285, 194, 1284], [249, 1254, 325, 1255, 326, 1285, 249, 1285], [332, 1256, 410, 1256, 410, 1286, 332, 1285], [416, 1256, 520, 1256, 521, 1286, 417, 1286], [527, 1256, 649, 1254, 650, 1286, 527, 1286], [249, 1330, 325, 1333, 324, 1366, 248, 1366], [332, 1333, 491, 1339, 491, 1369, 331, 1366], [249, 1371, 331, 1373, 330, 1404, 248, 1404], [337, 1373, 365, 1374, 364, 1405, 336, 1404], [372, 1374, 514, 1377, 513, 1409, 370, 1405], [247, 1412, 391, 1415, 392, 1446, 247, 1449], [398, 1415, 425, 1415, 425, 1446, 399, 1446], [432, 1415, 518, 1415, 520, 1447, 433, 1446], [526, 1415, 605, 1413, 606, 1449, 527, 1447], [243, 1453, 350, 1456, 350, 1487, 242, 1486], [356, 1456, 382, 1457, 382, 1487, 356, 1487], [389, 1457, 487, 1459, 488, 1486, 389, 1487], [242, 1492, 422, 1498, 421, 1530, 242, 1525], [243, 1536, 400, 1538, 398, 1570, 241, 1568], [406, 1538, 445, 1539, 444, 1570, 405, 1570], [451, 1539, 625, 1541, 624, 1574, 450, 1570], [239, 1575, 299, 1576, 298, 1607, 238, 1608], [308, 1576, 396, 1577, 395, 1608, 307, 1608], [402, 1578, 490, 1580, 489, 1610, 401, 1608], [242, 1611, 318, 1616, 318, 1647, 242, 1644], [325, 1617, 514, 1621, 514, 1650, 325, 1647], [242, 1656, 331, 1661, 331, 1690, 241, 1687], [337, 1661, 402, 1663, 402, 1689, 337, 1690], [240, 1695, 374, 1702, 373, 1734, 238, 1728], [1602, 1690, 1592, 1986, 1549, 1981, 1562, 1689], [390, 2155, 502, 2156, 502, 2192, 389, 2191], [509, 2156, 1313, 2152, 1314, 2191, 509, 2192]], 'word_list': ['METHOD', 'Two', 'focus', 'groups', 'were', 'conducted', 'on', 'April', '9th', 'at', 'First', 'Market', 'Research', 'in', 'Boston,', 'Massachusetts.', 'In', 'addition,', 'approximately', 'forty', 'one-on-one', 'interviews', 'were', 'completed', 'during', 'April', '10th', 'through', 'the', 'April', '12th', 'The', 'participants', 'were', 'screened', 'for', 'the', 'following', 'requirements:', 'Females', 'smokers', 'between', 'the', 'ages', 'of', '18', 'and', '55', 'Current', 'brand', '85mm,', '100mm,', 'or', '120mm', 'nonmenthol', 'full', 'flavor,', 'low', 'delivery,', 'and', 'ultra', 'low', 'delivery', 'cigarettes', 'Daily', 'consumption', 'of', 'regular', 'brand', 'at', 'least', '1/2', 'pack', 'Smoked', 'at', 'least', '1/2', 'pack', 'of', 'nonmenthol', 'VSSS', 'PROCEDURE', 'Two', 'focus', 'groups', 'were', 'held', 'with', 'ten', 'female', 'smokers', 'per', 'group.', 'The', 'smokers', 'were', 'not', 'given', 'any', 'product', 'to', 'smoke', 'but', 'in', 'the', 'groups', 'they', 'were', 'shown', 'the', 'carton', 'and', 'package', 'in', 'order', 'to', 'elicit', 'comments', 'on', 'the', 'packaging.', 'The', 'one-on-one', 'interviews', 'covered', 'the', 'same', 'topics,', 'except', 'packaging,', 'that', 'were', 'discussed', 'in', 'the', 'groups.', 'The', 'major', 'topics', 'covered', 'included:', 'Initial', 'introduction', 'Recall', 'of', 'advertising', 'Continuing', 'to', 'smoke', 'VSSS', 'Purpose', 'of', 'product', 'Likes/dislikes', 'Suggestions', 'for', 'improvement', 'Low', 'visible', 'smoke', 'VSSS', 'circumference', 'Smoke', 'odor', 'Packaging', '2022156002', 'Source:', 'https://www.industrydocuments.ucsf.edu/docs/fxxj0037'], 'detail_info': {'actual_ans': ['between the ages of 18 and 55'], 'answer_index': [41, 28, 43, 44, 45, 46, 47], 'bbox_values': [[495, 510, 605, 511, 605, 546, 495, 545], [461, 340, 505, 340, 506, 376, 462, 376], [659, 512, 717, 512, 718, 546, 659, 546], [724, 512, 755, 512, 755, 546, 725, 546], [762, 512, 792, 512, 792, 546, 762, 546], [799, 512, 846, 512, 846, 545, 799, 546], [853, 512, 888, 511, 888, 545, 853, 545]]}}\n",
            "*****************************************\n",
            "According to the listed requirements , what must be the age group of female smokers?\n",
            "*****************************************\n",
            "['between the ages of 18 and 55']\n",
            "*****************************************\n",
            "[[214, 177, 364, 174, 363, 209, 216, 209], [217, 260, 274, 261, 275, 293, 219, 292], [281, 261, 354, 261, 355, 293, 282, 293], [361, 261, 449, 262, 450, 294, 362, 293], [456, 262, 519, 263, 519, 294, 456, 294], [525, 263, 658, 264, 658, 295, 526, 294], [664, 264, 700, 264, 700, 296, 665, 295], [707, 264, 774, 264, 774, 296, 707, 296], [780, 264, 823, 265, 822, 296, 780, 296], [829, 265, 854, 265, 854, 297, 829, 296], [861, 265, 920, 265, 919, 297, 860, 297], [926, 265, 1021, 265, 1020, 298, 925, 297], [1027, 265, 1147, 266, 1146, 298, 1026, 298], [1154, 266, 1181, 266, 1180, 299, 1153, 298], [1188, 266, 1291, 266, 1289, 299, 1186, 299], [216, 301, 418, 302, 418, 334, 216, 333], [424, 302, 452, 302, 452, 335, 424, 334], [458, 302, 573, 303, 573, 336, 458, 335], [580, 303, 767, 304, 766, 337, 579, 336], [773, 304, 837, 304, 836, 338, 773, 337], [843, 304, 990, 305, 989, 339, 843, 338], [996, 305, 1134, 306, 1134, 341, 996, 339], [1140, 306, 1202, 306, 1202, 341, 1140, 341], [1208, 306, 1349, 307, 1349, 343, 1208, 341], [1355, 307, 1442, 308, 1442, 344, 1355, 343], [217, 341, 285, 340, 287, 375, 219, 375], [292, 340, 347, 340, 348, 375, 293, 375], [353, 340, 454, 340, 456, 376, 355, 375], [461, 340, 505, 340, 506, 376, 462, 376], [511, 340, 581, 342, 583, 376, 513, 376], [588, 342, 641, 343, 642, 376, 589, 376], [214, 423, 260, 423, 259, 460, 214, 460], [267, 423, 420, 424, 419, 461, 267, 460], [427, 424, 490, 425, 489, 461, 426, 461], [498, 425, 611, 426, 610, 462, 496, 461], [619, 426, 655, 426, 654, 462, 617, 462], [662, 426, 703, 426, 702, 462, 661, 462], [711, 427, 834, 428, 833, 463, 709, 462], [842, 428, 1021, 430, 1019, 465, 840, 463], [266, 505, 376, 508, 376, 543, 266, 540], [383, 508, 488, 510, 488, 545, 383, 543], [495, 510, 605, 511, 605, 546, 495, 545], [612, 511, 652, 512, 652, 546, 612, 546], [659, 512, 717, 512, 718, 546, 659, 546], [724, 512, 755, 512, 755, 546, 725, 546], [762, 512, 792, 512, 792, 546, 762, 546], [799, 512, 846, 512, 846, 545, 799, 546], [853, 512, 888, 511, 888, 545, 853, 545], [267, 589, 365, 591, 364, 625, 267, 625], [372, 591, 448, 592, 448, 625, 371, 625], [455, 592, 546, 594, 546, 626, 455, 625], [553, 594, 658, 595, 658, 626, 553, 626], [665, 595, 696, 595, 695, 627, 665, 627], [703, 595, 796, 596, 795, 627, 702, 627], [805, 596, 959, 597, 958, 628, 805, 627], [966, 597, 1013, 597, 1012, 629, 965, 629], [1020, 597, 1104, 597, 1103, 630, 1019, 629], [1111, 597, 1162, 597, 1161, 630, 1110, 630], [1174, 597, 1283, 597, 1282, 631, 1173, 630], [1290, 597, 1337, 597, 1336, 632, 1289, 631], [1344, 597, 1407, 596, 1406, 632, 1343, 632], [263, 631, 311, 632, 312, 664, 264, 662], [325, 632, 429, 634, 429, 668, 326, 664], [435, 634, 563, 636, 562, 669, 435, 668], [263, 713, 337, 714, 336, 746, 262, 746], [343, 714, 510, 715, 510, 748, 343, 746], [517, 715, 545, 716, 545, 748, 516, 748], [551, 716, 642, 716, 643, 749, 551, 748], [649, 716, 725, 715, 725, 750, 649, 749], [731, 715, 755, 715, 756, 751, 732, 751], [762, 715, 825, 715, 825, 752, 762, 751], [831, 714, 870, 714, 871, 753, 832, 752], [877, 714, 944, 713, 945, 754, 877, 753], [261, 793, 368, 795, 369, 829, 261, 826], [375, 795, 398, 795, 399, 830, 375, 829], [405, 795, 469, 796, 470, 831, 405, 830], [475, 796, 516, 796, 517, 832, 476, 831], [522, 797, 584, 797, 586, 832, 523, 832], [591, 797, 619, 797, 620, 832, 592, 832], [625, 797, 783, 798, 785, 832, 626, 832], [790, 798, 867, 798, 869, 830, 792, 832], [200, 916, 408, 917, 407, 955, 201, 951], [202, 1000, 258, 1001, 259, 1035, 202, 1035], [265, 1001, 338, 1002, 338, 1036, 266, 1035], [344, 1002, 433, 1004, 433, 1038, 345, 1037], [440, 1004, 501, 1005, 501, 1038, 440, 1038], [508, 1005, 566, 1005, 567, 1039, 508, 1039], [573, 1006, 630, 1006, 630, 1040, 574, 1039], [637, 1006, 678, 1007, 678, 1040, 637, 1040], [684, 1007, 773, 1008, 773, 1041, 685, 1041], [780, 1008, 884, 1009, 884, 1042, 780, 1041], [891, 1009, 936, 1009, 936, 1043, 891, 1042], [943, 1009, 1038, 1010, 1038, 1044, 943, 1043], [1045, 1010, 1095, 1010, 1094, 1044, 1045, 1044], [1101, 1010, 1208, 1010, 1208, 1045, 1101, 1044], [1215, 1010, 1278, 1010, 1278, 1045, 1214, 1045], [1285, 1010, 1328, 1011, 1328, 1045, 1285, 1045], [1335, 1011, 1412, 1011, 1411, 1046, 1334, 1045], [199, 1044, 245, 1045, 244, 1076, 198, 1075], [251, 1045, 352, 1046, 352, 1078, 250, 1076], [358, 1046, 386, 1046, 386, 1079, 358, 1078], [392, 1046, 477, 1047, 477, 1081, 392, 1079], [483, 1047, 525, 1047, 525, 1082, 483, 1081], [531, 1047, 559, 1047, 559, 1082, 531, 1082], [565, 1047, 607, 1048, 606, 1083, 565, 1082], [613, 1048, 700, 1048, 700, 1084, 612, 1083], [706, 1048, 766, 1049, 766, 1085, 706, 1084], [772, 1049, 835, 1049, 835, 1085, 772, 1085], [841, 1050, 927, 1050, 927, 1086, 841, 1085], [932, 1050, 974, 1051, 975, 1086, 933, 1086], [980, 1051, 1064, 1051, 1064, 1086, 981, 1086], [1070, 1052, 1115, 1052, 1116, 1086, 1070, 1086], [1121, 1052, 1229, 1053, 1229, 1086, 1122, 1086], [1235, 1053, 1262, 1053, 1263, 1086, 1235, 1086], [1268, 1053, 1338, 1054, 1339, 1085, 1269, 1086], [1344, 1054, 1370, 1054, 1371, 1085, 1345, 1085], [200, 1086, 262, 1087, 262, 1121, 199, 1120], [269, 1087, 402, 1087, 402, 1123, 268, 1121], [409, 1087, 443, 1088, 442, 1124, 409, 1123], [449, 1088, 489, 1088, 489, 1124, 449, 1124], [496, 1088, 648, 1089, 647, 1126, 496, 1124], [654, 1089, 703, 1089, 703, 1126, 654, 1126], [710, 1089, 855, 1091, 855, 1128, 710, 1127], [861, 1091, 997, 1092, 997, 1129, 861, 1128], [1004, 1092, 1109, 1093, 1109, 1130, 1004, 1129], [1115, 1093, 1156, 1094, 1155, 1130, 1115, 1130], [1162, 1094, 1229, 1095, 1229, 1131, 1162, 1130], [1236, 1095, 1323, 1096, 1323, 1131, 1236, 1131], [1329, 1096, 1416, 1097, 1416, 1132, 1329, 1131], [198, 1128, 334, 1128, 333, 1168, 198, 1169], [342, 1128, 394, 1128, 393, 1167, 341, 1168], [402, 1128, 464, 1129, 463, 1167, 401, 1167], [472, 1129, 592, 1130, 590, 1168, 471, 1167], [600, 1130, 624, 1131, 623, 1168, 599, 1168], [632, 1131, 676, 1131, 674, 1169, 631, 1168], [684, 1131, 776, 1133, 775, 1171, 683, 1169], [194, 1252, 243, 1254, 243, 1285, 194, 1284], [249, 1254, 325, 1255, 326, 1285, 249, 1285], [332, 1256, 410, 1256, 410, 1286, 332, 1285], [416, 1256, 520, 1256, 521, 1286, 417, 1286], [527, 1256, 649, 1254, 650, 1286, 527, 1286], [249, 1330, 325, 1333, 324, 1366, 248, 1366], [332, 1333, 491, 1339, 491, 1369, 331, 1366], [249, 1371, 331, 1373, 330, 1404, 248, 1404], [337, 1373, 365, 1374, 364, 1405, 336, 1404], [372, 1374, 514, 1377, 513, 1409, 370, 1405], [247, 1412, 391, 1415, 392, 1446, 247, 1449], [398, 1415, 425, 1415, 425, 1446, 399, 1446], [432, 1415, 518, 1415, 520, 1447, 433, 1446], [526, 1415, 605, 1413, 606, 1449, 527, 1447], [243, 1453, 350, 1456, 350, 1487, 242, 1486], [356, 1456, 382, 1457, 382, 1487, 356, 1487], [389, 1457, 487, 1459, 488, 1486, 389, 1487], [242, 1492, 422, 1498, 421, 1530, 242, 1525], [243, 1536, 400, 1538, 398, 1570, 241, 1568], [406, 1538, 445, 1539, 444, 1570, 405, 1570], [451, 1539, 625, 1541, 624, 1574, 450, 1570], [239, 1575, 299, 1576, 298, 1607, 238, 1608], [308, 1576, 396, 1577, 395, 1608, 307, 1608], [402, 1578, 490, 1580, 489, 1610, 401, 1608], [242, 1611, 318, 1616, 318, 1647, 242, 1644], [325, 1617, 514, 1621, 514, 1650, 325, 1647], [242, 1656, 331, 1661, 331, 1690, 241, 1687], [337, 1661, 402, 1663, 402, 1689, 337, 1690], [240, 1695, 374, 1702, 373, 1734, 238, 1728], [1602, 1690, 1592, 1986, 1549, 1981, 1562, 1689], [390, 2155, 502, 2156, 502, 2192, 389, 2191], [509, 2156, 1313, 2152, 1314, 2191, 509, 2192]]\n",
            "*****************************************\n",
            "['METHOD', 'Two', 'focus', 'groups', 'were', 'conducted', 'on', 'April', '9th', 'at', 'First', 'Market', 'Research', 'in', 'Boston,', 'Massachusetts.', 'In', 'addition,', 'approximately', 'forty', 'one-on-one', 'interviews', 'were', 'completed', 'during', 'April', '10th', 'through', 'the', 'April', '12th', 'The', 'participants', 'were', 'screened', 'for', 'the', 'following', 'requirements:', 'Females', 'smokers', 'between', 'the', 'ages', 'of', '18', 'and', '55', 'Current', 'brand', '85mm,', '100mm,', 'or', '120mm', 'nonmenthol', 'full', 'flavor,', 'low', 'delivery,', 'and', 'ultra', 'low', 'delivery', 'cigarettes', 'Daily', 'consumption', 'of', 'regular', 'brand', 'at', 'least', '1/2', 'pack', 'Smoked', 'at', 'least', '1/2', 'pack', 'of', 'nonmenthol', 'VSSS', 'PROCEDURE', 'Two', 'focus', 'groups', 'were', 'held', 'with', 'ten', 'female', 'smokers', 'per', 'group.', 'The', 'smokers', 'were', 'not', 'given', 'any', 'product', 'to', 'smoke', 'but', 'in', 'the', 'groups', 'they', 'were', 'shown', 'the', 'carton', 'and', 'package', 'in', 'order', 'to', 'elicit', 'comments', 'on', 'the', 'packaging.', 'The', 'one-on-one', 'interviews', 'covered', 'the', 'same', 'topics,', 'except', 'packaging,', 'that', 'were', 'discussed', 'in', 'the', 'groups.', 'The', 'major', 'topics', 'covered', 'included:', 'Initial', 'introduction', 'Recall', 'of', 'advertising', 'Continuing', 'to', 'smoke', 'VSSS', 'Purpose', 'of', 'product', 'Likes/dislikes', 'Suggestions', 'for', 'improvement', 'Low', 'visible', 'smoke', 'VSSS', 'circumference', 'Smoke', 'odor', 'Packaging', '2022156002', 'Source:', 'https://www.industrydocuments.ucsf.edu/docs/fxxj0037']\n",
            "*****************************************\n",
            "{'actual_ans': ['between the ages of 18 and 55'], 'answer_index': [41, 28, 43, 44, 45, 46, 47], 'bbox_values': [[495, 510, 605, 511, 605, 546, 495, 545], [461, 340, 505, 340, 506, 376, 462, 376], [659, 512, 717, 512, 718, 546, 659, 546], [724, 512, 755, 512, 755, 546, 725, 546], [762, 512, 792, 512, 792, 546, 762, 546], [799, 512, 846, 512, 846, 545, 799, 546], [853, 512, 888, 511, 888, 545, 853, 545]]}\n"
          ]
        }
      ],
      "source": [
        "sampleDetailschecking(49)"
      ]
    },
    {
      "cell_type": "code",
      "execution_count": null,
      "metadata": {
        "id": "48x2IdRHjLl0"
      },
      "outputs": [],
      "source": []
    }
  ],
  "metadata": {
    "colab": {
      "provenance": []
    },
    "kernelspec": {
      "display_name": "Python 3",
      "name": "python3"
    },
    "language_info": {
      "name": "python"
    },
    "widgets": {
      "application/vnd.jupyter.widget-state+json": {
        "140dd51627e049c9acf6d192cf3d0f2e": {
          "model_module": "@jupyter-widgets/base",
          "model_module_version": "1.2.0",
          "model_name": "LayoutModel",
          "state": {
            "_model_module": "@jupyter-widgets/base",
            "_model_module_version": "1.2.0",
            "_model_name": "LayoutModel",
            "_view_count": null,
            "_view_module": "@jupyter-widgets/base",
            "_view_module_version": "1.2.0",
            "_view_name": "LayoutView",
            "align_content": null,
            "align_items": null,
            "align_self": null,
            "border": null,
            "bottom": null,
            "display": null,
            "flex": null,
            "flex_flow": null,
            "grid_area": null,
            "grid_auto_columns": null,
            "grid_auto_flow": null,
            "grid_auto_rows": null,
            "grid_column": null,
            "grid_gap": null,
            "grid_row": null,
            "grid_template_areas": null,
            "grid_template_columns": null,
            "grid_template_rows": null,
            "height": null,
            "justify_content": null,
            "justify_items": null,
            "left": null,
            "margin": null,
            "max_height": null,
            "max_width": null,
            "min_height": null,
            "min_width": null,
            "object_fit": null,
            "object_position": null,
            "order": null,
            "overflow": null,
            "overflow_x": null,
            "overflow_y": null,
            "padding": null,
            "right": null,
            "top": null,
            "visibility": null,
            "width": null
          }
        },
        "395e466992174aebbc24c3a40d537dff": {
          "model_module": "@jupyter-widgets/controls",
          "model_module_version": "1.5.0",
          "model_name": "FloatProgressModel",
          "state": {
            "_dom_classes": [],
            "_model_module": "@jupyter-widgets/controls",
            "_model_module_version": "1.5.0",
            "_model_name": "FloatProgressModel",
            "_view_count": null,
            "_view_module": "@jupyter-widgets/controls",
            "_view_module_version": "1.5.0",
            "_view_name": "ProgressView",
            "bar_style": "success",
            "description": "",
            "description_tooltip": null,
            "layout": "IPY_MODEL_a7586f0531954904b92b62f205c5d73b",
            "max": 50,
            "min": 0,
            "orientation": "horizontal",
            "style": "IPY_MODEL_50d048934d4b454baa9fb7c3252441fd",
            "value": 50
          }
        },
        "4b1d1ef6b7154552937393e65f68f28c": {
          "model_module": "@jupyter-widgets/controls",
          "model_module_version": "1.5.0",
          "model_name": "HBoxModel",
          "state": {
            "_dom_classes": [],
            "_model_module": "@jupyter-widgets/controls",
            "_model_module_version": "1.5.0",
            "_model_name": "HBoxModel",
            "_view_count": null,
            "_view_module": "@jupyter-widgets/controls",
            "_view_module_version": "1.5.0",
            "_view_name": "HBoxView",
            "box_style": "",
            "children": [
              "IPY_MODEL_c49ec9a489244567b3a7e669b3661386",
              "IPY_MODEL_395e466992174aebbc24c3a40d537dff",
              "IPY_MODEL_c62adaf38f494753b80c97521c0224b1"
            ],
            "layout": "IPY_MODEL_791cfa44f7774cc2aa6846c7214a7d00"
          }
        },
        "4f9b6b254f2f452397417bbe6417484c": {
          "model_module": "@jupyter-widgets/base",
          "model_module_version": "1.2.0",
          "model_name": "LayoutModel",
          "state": {
            "_model_module": "@jupyter-widgets/base",
            "_model_module_version": "1.2.0",
            "_model_name": "LayoutModel",
            "_view_count": null,
            "_view_module": "@jupyter-widgets/base",
            "_view_module_version": "1.2.0",
            "_view_name": "LayoutView",
            "align_content": null,
            "align_items": null,
            "align_self": null,
            "border": null,
            "bottom": null,
            "display": null,
            "flex": null,
            "flex_flow": null,
            "grid_area": null,
            "grid_auto_columns": null,
            "grid_auto_flow": null,
            "grid_auto_rows": null,
            "grid_column": null,
            "grid_gap": null,
            "grid_row": null,
            "grid_template_areas": null,
            "grid_template_columns": null,
            "grid_template_rows": null,
            "height": null,
            "justify_content": null,
            "justify_items": null,
            "left": null,
            "margin": null,
            "max_height": null,
            "max_width": null,
            "min_height": null,
            "min_width": null,
            "object_fit": null,
            "object_position": null,
            "order": null,
            "overflow": null,
            "overflow_x": null,
            "overflow_y": null,
            "padding": null,
            "right": null,
            "top": null,
            "visibility": null,
            "width": null
          }
        },
        "50d048934d4b454baa9fb7c3252441fd": {
          "model_module": "@jupyter-widgets/controls",
          "model_module_version": "1.5.0",
          "model_name": "ProgressStyleModel",
          "state": {
            "_model_module": "@jupyter-widgets/controls",
            "_model_module_version": "1.5.0",
            "_model_name": "ProgressStyleModel",
            "_view_count": null,
            "_view_module": "@jupyter-widgets/base",
            "_view_module_version": "1.2.0",
            "_view_name": "StyleView",
            "bar_color": null,
            "description_width": ""
          }
        },
        "726d09da4c3949fe9735a121a9e70940": {
          "model_module": "@jupyter-widgets/controls",
          "model_module_version": "1.5.0",
          "model_name": "DescriptionStyleModel",
          "state": {
            "_model_module": "@jupyter-widgets/controls",
            "_model_module_version": "1.5.0",
            "_model_name": "DescriptionStyleModel",
            "_view_count": null,
            "_view_module": "@jupyter-widgets/base",
            "_view_module_version": "1.2.0",
            "_view_name": "StyleView",
            "description_width": ""
          }
        },
        "791cfa44f7774cc2aa6846c7214a7d00": {
          "model_module": "@jupyter-widgets/base",
          "model_module_version": "1.2.0",
          "model_name": "LayoutModel",
          "state": {
            "_model_module": "@jupyter-widgets/base",
            "_model_module_version": "1.2.0",
            "_model_name": "LayoutModel",
            "_view_count": null,
            "_view_module": "@jupyter-widgets/base",
            "_view_module_version": "1.2.0",
            "_view_name": "LayoutView",
            "align_content": null,
            "align_items": null,
            "align_self": null,
            "border": null,
            "bottom": null,
            "display": null,
            "flex": null,
            "flex_flow": null,
            "grid_area": null,
            "grid_auto_columns": null,
            "grid_auto_flow": null,
            "grid_auto_rows": null,
            "grid_column": null,
            "grid_gap": null,
            "grid_row": null,
            "grid_template_areas": null,
            "grid_template_columns": null,
            "grid_template_rows": null,
            "height": null,
            "justify_content": null,
            "justify_items": null,
            "left": null,
            "margin": null,
            "max_height": null,
            "max_width": null,
            "min_height": null,
            "min_width": null,
            "object_fit": null,
            "object_position": null,
            "order": null,
            "overflow": null,
            "overflow_x": null,
            "overflow_y": null,
            "padding": null,
            "right": null,
            "top": null,
            "visibility": null,
            "width": null
          }
        },
        "a7586f0531954904b92b62f205c5d73b": {
          "model_module": "@jupyter-widgets/base",
          "model_module_version": "1.2.0",
          "model_name": "LayoutModel",
          "state": {
            "_model_module": "@jupyter-widgets/base",
            "_model_module_version": "1.2.0",
            "_model_name": "LayoutModel",
            "_view_count": null,
            "_view_module": "@jupyter-widgets/base",
            "_view_module_version": "1.2.0",
            "_view_name": "LayoutView",
            "align_content": null,
            "align_items": null,
            "align_self": null,
            "border": null,
            "bottom": null,
            "display": null,
            "flex": null,
            "flex_flow": null,
            "grid_area": null,
            "grid_auto_columns": null,
            "grid_auto_flow": null,
            "grid_auto_rows": null,
            "grid_column": null,
            "grid_gap": null,
            "grid_row": null,
            "grid_template_areas": null,
            "grid_template_columns": null,
            "grid_template_rows": null,
            "height": null,
            "justify_content": null,
            "justify_items": null,
            "left": null,
            "margin": null,
            "max_height": null,
            "max_width": null,
            "min_height": null,
            "min_width": null,
            "object_fit": null,
            "object_position": null,
            "order": null,
            "overflow": null,
            "overflow_x": null,
            "overflow_y": null,
            "padding": null,
            "right": null,
            "top": null,
            "visibility": null,
            "width": null
          }
        },
        "bc08dc2f56964235b84e9cdfa3f28ba5": {
          "model_module": "@jupyter-widgets/controls",
          "model_module_version": "1.5.0",
          "model_name": "DescriptionStyleModel",
          "state": {
            "_model_module": "@jupyter-widgets/controls",
            "_model_module_version": "1.5.0",
            "_model_name": "DescriptionStyleModel",
            "_view_count": null,
            "_view_module": "@jupyter-widgets/base",
            "_view_module_version": "1.2.0",
            "_view_name": "StyleView",
            "description_width": ""
          }
        },
        "c49ec9a489244567b3a7e669b3661386": {
          "model_module": "@jupyter-widgets/controls",
          "model_module_version": "1.5.0",
          "model_name": "HTMLModel",
          "state": {
            "_dom_classes": [],
            "_model_module": "@jupyter-widgets/controls",
            "_model_module_version": "1.5.0",
            "_model_name": "HTMLModel",
            "_view_count": null,
            "_view_module": "@jupyter-widgets/controls",
            "_view_module_version": "1.5.0",
            "_view_name": "HTMLView",
            "description": "",
            "description_tooltip": null,
            "layout": "IPY_MODEL_4f9b6b254f2f452397417bbe6417484c",
            "placeholder": "​",
            "style": "IPY_MODEL_bc08dc2f56964235b84e9cdfa3f28ba5",
            "value": "Map: 100%"
          }
        },
        "c62adaf38f494753b80c97521c0224b1": {
          "model_module": "@jupyter-widgets/controls",
          "model_module_version": "1.5.0",
          "model_name": "HTMLModel",
          "state": {
            "_dom_classes": [],
            "_model_module": "@jupyter-widgets/controls",
            "_model_module_version": "1.5.0",
            "_model_name": "HTMLModel",
            "_view_count": null,
            "_view_module": "@jupyter-widgets/controls",
            "_view_module_version": "1.5.0",
            "_view_name": "HTMLView",
            "description": "",
            "description_tooltip": null,
            "layout": "IPY_MODEL_140dd51627e049c9acf6d192cf3d0f2e",
            "placeholder": "​",
            "style": "IPY_MODEL_726d09da4c3949fe9735a121a9e70940",
            "value": " 50/50 [00:00&lt;00:00, 161.02 examples/s]"
          }
        }
      }
    }
  },
  "nbformat": 4,
  "nbformat_minor": 0
}
