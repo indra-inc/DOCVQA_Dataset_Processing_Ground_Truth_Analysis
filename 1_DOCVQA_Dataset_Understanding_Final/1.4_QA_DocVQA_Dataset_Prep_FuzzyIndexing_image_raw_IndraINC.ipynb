{
  "nbformat": 4,
  "nbformat_minor": 0,
  "metadata": {
    "colab": {
      "provenance": [],
      "machine_shape": "hm"
    },
    "kernelspec": {
      "name": "python3",
      "display_name": "Python 3"
    },
    "language_info": {
      "name": "python"
    },
    "widgets": {
      "application/vnd.jupyter.widget-state+json": {
        "0088d5e927884d83a7790f9991d64190": {
          "model_module": "@jupyter-widgets/controls",
          "model_name": "HBoxModel",
          "model_module_version": "1.5.0",
          "state": {
            "_dom_classes": [],
            "_model_module": "@jupyter-widgets/controls",
            "_model_module_version": "1.5.0",
            "_model_name": "HBoxModel",
            "_view_count": null,
            "_view_module": "@jupyter-widgets/controls",
            "_view_module_version": "1.5.0",
            "_view_name": "HBoxView",
            "box_style": "",
            "children": [
              "IPY_MODEL_19cb5e5d388c4a31bc50a29e6da15bcd",
              "IPY_MODEL_5ad71e1a1aab446fac5543da83231fe6",
              "IPY_MODEL_20d9122a697244289528ef466c669402"
            ],
            "layout": "IPY_MODEL_4a139cb7b75d4df5b1909a45ba2f5261"
          }
        },
        "19cb5e5d388c4a31bc50a29e6da15bcd": {
          "model_module": "@jupyter-widgets/controls",
          "model_name": "HTMLModel",
          "model_module_version": "1.5.0",
          "state": {
            "_dom_classes": [],
            "_model_module": "@jupyter-widgets/controls",
            "_model_module_version": "1.5.0",
            "_model_name": "HTMLModel",
            "_view_count": null,
            "_view_module": "@jupyter-widgets/controls",
            "_view_module_version": "1.5.0",
            "_view_name": "HTMLView",
            "description": "",
            "description_tooltip": null,
            "layout": "IPY_MODEL_2ce6f4c381634e349c93e9efe6b24b72",
            "placeholder": "​",
            "style": "IPY_MODEL_4fc7ba1a8ff54ce0b80f6ff48b39da24",
            "value": "Map: 100%"
          }
        },
        "5ad71e1a1aab446fac5543da83231fe6": {
          "model_module": "@jupyter-widgets/controls",
          "model_name": "FloatProgressModel",
          "model_module_version": "1.5.0",
          "state": {
            "_dom_classes": [],
            "_model_module": "@jupyter-widgets/controls",
            "_model_module_version": "1.5.0",
            "_model_name": "FloatProgressModel",
            "_view_count": null,
            "_view_module": "@jupyter-widgets/controls",
            "_view_module_version": "1.5.0",
            "_view_name": "ProgressView",
            "bar_style": "success",
            "description": "",
            "description_tooltip": null,
            "layout": "IPY_MODEL_bb683b0635814ae696344f36b6bb0485",
            "max": 50,
            "min": 0,
            "orientation": "horizontal",
            "style": "IPY_MODEL_6ed7e88888b24ee3a374c626956a3ac4",
            "value": 50
          }
        },
        "20d9122a697244289528ef466c669402": {
          "model_module": "@jupyter-widgets/controls",
          "model_name": "HTMLModel",
          "model_module_version": "1.5.0",
          "state": {
            "_dom_classes": [],
            "_model_module": "@jupyter-widgets/controls",
            "_model_module_version": "1.5.0",
            "_model_name": "HTMLModel",
            "_view_count": null,
            "_view_module": "@jupyter-widgets/controls",
            "_view_module_version": "1.5.0",
            "_view_name": "HTMLView",
            "description": "",
            "description_tooltip": null,
            "layout": "IPY_MODEL_2ebe425a296b47cb80ac7a06b338f369",
            "placeholder": "​",
            "style": "IPY_MODEL_4a9b0a52dd3a4025b6cb72982c5e79c6",
            "value": " 50/50 [00:08&lt;00:00,  6.32 examples/s]"
          }
        },
        "4a139cb7b75d4df5b1909a45ba2f5261": {
          "model_module": "@jupyter-widgets/base",
          "model_name": "LayoutModel",
          "model_module_version": "1.2.0",
          "state": {
            "_model_module": "@jupyter-widgets/base",
            "_model_module_version": "1.2.0",
            "_model_name": "LayoutModel",
            "_view_count": null,
            "_view_module": "@jupyter-widgets/base",
            "_view_module_version": "1.2.0",
            "_view_name": "LayoutView",
            "align_content": null,
            "align_items": null,
            "align_self": null,
            "border": null,
            "bottom": null,
            "display": null,
            "flex": null,
            "flex_flow": null,
            "grid_area": null,
            "grid_auto_columns": null,
            "grid_auto_flow": null,
            "grid_auto_rows": null,
            "grid_column": null,
            "grid_gap": null,
            "grid_row": null,
            "grid_template_areas": null,
            "grid_template_columns": null,
            "grid_template_rows": null,
            "height": null,
            "justify_content": null,
            "justify_items": null,
            "left": null,
            "margin": null,
            "max_height": null,
            "max_width": null,
            "min_height": null,
            "min_width": null,
            "object_fit": null,
            "object_position": null,
            "order": null,
            "overflow": null,
            "overflow_x": null,
            "overflow_y": null,
            "padding": null,
            "right": null,
            "top": null,
            "visibility": null,
            "width": null
          }
        },
        "2ce6f4c381634e349c93e9efe6b24b72": {
          "model_module": "@jupyter-widgets/base",
          "model_name": "LayoutModel",
          "model_module_version": "1.2.0",
          "state": {
            "_model_module": "@jupyter-widgets/base",
            "_model_module_version": "1.2.0",
            "_model_name": "LayoutModel",
            "_view_count": null,
            "_view_module": "@jupyter-widgets/base",
            "_view_module_version": "1.2.0",
            "_view_name": "LayoutView",
            "align_content": null,
            "align_items": null,
            "align_self": null,
            "border": null,
            "bottom": null,
            "display": null,
            "flex": null,
            "flex_flow": null,
            "grid_area": null,
            "grid_auto_columns": null,
            "grid_auto_flow": null,
            "grid_auto_rows": null,
            "grid_column": null,
            "grid_gap": null,
            "grid_row": null,
            "grid_template_areas": null,
            "grid_template_columns": null,
            "grid_template_rows": null,
            "height": null,
            "justify_content": null,
            "justify_items": null,
            "left": null,
            "margin": null,
            "max_height": null,
            "max_width": null,
            "min_height": null,
            "min_width": null,
            "object_fit": null,
            "object_position": null,
            "order": null,
            "overflow": null,
            "overflow_x": null,
            "overflow_y": null,
            "padding": null,
            "right": null,
            "top": null,
            "visibility": null,
            "width": null
          }
        },
        "4fc7ba1a8ff54ce0b80f6ff48b39da24": {
          "model_module": "@jupyter-widgets/controls",
          "model_name": "DescriptionStyleModel",
          "model_module_version": "1.5.0",
          "state": {
            "_model_module": "@jupyter-widgets/controls",
            "_model_module_version": "1.5.0",
            "_model_name": "DescriptionStyleModel",
            "_view_count": null,
            "_view_module": "@jupyter-widgets/base",
            "_view_module_version": "1.2.0",
            "_view_name": "StyleView",
            "description_width": ""
          }
        },
        "bb683b0635814ae696344f36b6bb0485": {
          "model_module": "@jupyter-widgets/base",
          "model_name": "LayoutModel",
          "model_module_version": "1.2.0",
          "state": {
            "_model_module": "@jupyter-widgets/base",
            "_model_module_version": "1.2.0",
            "_model_name": "LayoutModel",
            "_view_count": null,
            "_view_module": "@jupyter-widgets/base",
            "_view_module_version": "1.2.0",
            "_view_name": "LayoutView",
            "align_content": null,
            "align_items": null,
            "align_self": null,
            "border": null,
            "bottom": null,
            "display": null,
            "flex": null,
            "flex_flow": null,
            "grid_area": null,
            "grid_auto_columns": null,
            "grid_auto_flow": null,
            "grid_auto_rows": null,
            "grid_column": null,
            "grid_gap": null,
            "grid_row": null,
            "grid_template_areas": null,
            "grid_template_columns": null,
            "grid_template_rows": null,
            "height": null,
            "justify_content": null,
            "justify_items": null,
            "left": null,
            "margin": null,
            "max_height": null,
            "max_width": null,
            "min_height": null,
            "min_width": null,
            "object_fit": null,
            "object_position": null,
            "order": null,
            "overflow": null,
            "overflow_x": null,
            "overflow_y": null,
            "padding": null,
            "right": null,
            "top": null,
            "visibility": null,
            "width": null
          }
        },
        "6ed7e88888b24ee3a374c626956a3ac4": {
          "model_module": "@jupyter-widgets/controls",
          "model_name": "ProgressStyleModel",
          "model_module_version": "1.5.0",
          "state": {
            "_model_module": "@jupyter-widgets/controls",
            "_model_module_version": "1.5.0",
            "_model_name": "ProgressStyleModel",
            "_view_count": null,
            "_view_module": "@jupyter-widgets/base",
            "_view_module_version": "1.2.0",
            "_view_name": "StyleView",
            "bar_color": null,
            "description_width": ""
          }
        },
        "2ebe425a296b47cb80ac7a06b338f369": {
          "model_module": "@jupyter-widgets/base",
          "model_name": "LayoutModel",
          "model_module_version": "1.2.0",
          "state": {
            "_model_module": "@jupyter-widgets/base",
            "_model_module_version": "1.2.0",
            "_model_name": "LayoutModel",
            "_view_count": null,
            "_view_module": "@jupyter-widgets/base",
            "_view_module_version": "1.2.0",
            "_view_name": "LayoutView",
            "align_content": null,
            "align_items": null,
            "align_self": null,
            "border": null,
            "bottom": null,
            "display": null,
            "flex": null,
            "flex_flow": null,
            "grid_area": null,
            "grid_auto_columns": null,
            "grid_auto_flow": null,
            "grid_auto_rows": null,
            "grid_column": null,
            "grid_gap": null,
            "grid_row": null,
            "grid_template_areas": null,
            "grid_template_columns": null,
            "grid_template_rows": null,
            "height": null,
            "justify_content": null,
            "justify_items": null,
            "left": null,
            "margin": null,
            "max_height": null,
            "max_width": null,
            "min_height": null,
            "min_width": null,
            "object_fit": null,
            "object_position": null,
            "order": null,
            "overflow": null,
            "overflow_x": null,
            "overflow_y": null,
            "padding": null,
            "right": null,
            "top": null,
            "visibility": null,
            "width": null
          }
        },
        "4a9b0a52dd3a4025b6cb72982c5e79c6": {
          "model_module": "@jupyter-widgets/controls",
          "model_name": "DescriptionStyleModel",
          "model_module_version": "1.5.0",
          "state": {
            "_model_module": "@jupyter-widgets/controls",
            "_model_module_version": "1.5.0",
            "_model_name": "DescriptionStyleModel",
            "_view_count": null,
            "_view_module": "@jupyter-widgets/base",
            "_view_module_version": "1.2.0",
            "_view_name": "StyleView",
            "description_width": ""
          }
        }
      }
    }
  },
  "cells": [
    {
      "cell_type": "markdown",
      "source": [
        "## Notebook Objective and Contents:\n",
        "- In this notebook we have experimented on Fuzzy logic to extract bounding box and start/end endex position value\n",
        "- Removal of whole image path and Read image using Pillow and save it, named a new column 'raw image'\n"
      ],
      "metadata": {
        "id": "F4rUnvMXgsng"
      }
    },
    {
      "cell_type": "code",
      "source": [
        "!pip install -q datasets"
      ],
      "metadata": {
        "id": "bZPHejtjmG55",
        "colab": {
          "base_uri": "https://localhost:8080/"
        },
        "outputId": "8366b47d-31db-408d-a325-0d0cc6079a54"
      },
      "execution_count": 1,
      "outputs": [
        {
          "output_type": "stream",
          "name": "stdout",
          "text": [
            "\u001b[2K     \u001b[90m━━━━━━━━━━━━━━━━━━━━━━━━━━━━━━━━━━━━━━━\u001b[0m \u001b[32m492.4/492.4 kB\u001b[0m \u001b[31m6.8 MB/s\u001b[0m eta \u001b[36m0:00:00\u001b[0m\n",
            "\u001b[2K     \u001b[90m━━━━━━━━━━━━━━━━━━━━━━━━━━━━━━━━━━━━━━\u001b[0m \u001b[32m115.3/115.3 kB\u001b[0m \u001b[31m12.6 MB/s\u001b[0m eta \u001b[36m0:00:00\u001b[0m\n",
            "\u001b[2K     \u001b[90m━━━━━━━━━━━━━━━━━━━━━━━━━━━━━━━━━━━━━━\u001b[0m \u001b[32m194.1/194.1 kB\u001b[0m \u001b[31m19.2 MB/s\u001b[0m eta \u001b[36m0:00:00\u001b[0m\n",
            "\u001b[2K     \u001b[90m━━━━━━━━━━━━━━━━━━━━━━━━━━━━━━━━━━━━━━\u001b[0m \u001b[32m134.8/134.8 kB\u001b[0m \u001b[31m14.9 MB/s\u001b[0m eta \u001b[36m0:00:00\u001b[0m\n",
            "\u001b[2K     \u001b[90m━━━━━━━━━━━━━━━━━━━━━━━━━━━━━━━━━━━━━━\u001b[0m \u001b[32m268.8/268.8 kB\u001b[0m \u001b[31m23.7 MB/s\u001b[0m eta \u001b[36m0:00:00\u001b[0m\n",
            "\u001b[?25h"
          ]
        }
      ]
    },
    {
      "cell_type": "code",
      "source": [
        "!pip install thefuzz"
      ],
      "metadata": {
        "colab": {
          "base_uri": "https://localhost:8080/"
        },
        "id": "BYF1Hv_AmUmJ",
        "outputId": "69aaa729-394f-41db-e253-4c7039d4d8c3"
      },
      "execution_count": 2,
      "outputs": [
        {
          "output_type": "stream",
          "name": "stdout",
          "text": [
            "Collecting thefuzz\n",
            "  Downloading thefuzz-0.19.0-py2.py3-none-any.whl (17 kB)\n",
            "Installing collected packages: thefuzz\n",
            "Successfully installed thefuzz-0.19.0\n"
          ]
        }
      ]
    },
    {
      "cell_type": "code",
      "source": [
        "!pip install python-Levenshtein"
      ],
      "metadata": {
        "colab": {
          "base_uri": "https://localhost:8080/"
        },
        "id": "kcklpRCUmXN9",
        "outputId": "23801f8e-be6e-46d5-a887-83db925ae344"
      },
      "execution_count": 3,
      "outputs": [
        {
          "output_type": "stream",
          "name": "stdout",
          "text": [
            "Collecting python-Levenshtein\n",
            "  Downloading python_Levenshtein-0.21.1-py3-none-any.whl (9.4 kB)\n",
            "Collecting Levenshtein==0.21.1 (from python-Levenshtein)\n",
            "  Downloading Levenshtein-0.21.1-cp310-cp310-manylinux_2_17_x86_64.manylinux2014_x86_64.whl (172 kB)\n",
            "\u001b[2K     \u001b[90m━━━━━━━━━━━━━━━━━━━━━━━━━━━━━━━━━━━━━━━\u001b[0m \u001b[32m172.5/172.5 kB\u001b[0m \u001b[31m3.5 MB/s\u001b[0m eta \u001b[36m0:00:00\u001b[0m\n",
            "\u001b[?25hCollecting rapidfuzz<4.0.0,>=2.3.0 (from Levenshtein==0.21.1->python-Levenshtein)\n",
            "  Downloading rapidfuzz-3.1.2-cp310-cp310-manylinux_2_17_x86_64.manylinux2014_x86_64.whl (3.1 MB)\n",
            "\u001b[2K     \u001b[90m━━━━━━━━━━━━━━━━━━━━━━━━━━━━━━━━━━━━━━━━\u001b[0m \u001b[32m3.1/3.1 MB\u001b[0m \u001b[31m12.5 MB/s\u001b[0m eta \u001b[36m0:00:00\u001b[0m\n",
            "\u001b[?25hInstalling collected packages: rapidfuzz, Levenshtein, python-Levenshtein\n",
            "Successfully installed Levenshtein-0.21.1 python-Levenshtein-0.21.1 rapidfuzz-3.1.2\n"
          ]
        }
      ]
    },
    {
      "cell_type": "code",
      "source": [
        "import numpy as np\n",
        "import pandas as pd\n",
        "import os\n",
        "import json\n",
        "from google.colab import data_table\n",
        "import datasets\n",
        "from datasets import Dataset\n",
        "import json\n",
        "import re\n",
        "import random\n",
        "from PIL import Image\n",
        "from thefuzz import process, fuzz"
      ],
      "metadata": {
        "id": "Dnl0P9oSkCr6"
      },
      "execution_count": 4,
      "outputs": []
    },
    {
      "cell_type": "code",
      "source": [
        "train_path_main = '/content/drive/MyDrive/docVqa_dataset/train/train_v1.0.json'\n",
        "\n",
        "# Open the JSON file\n",
        "with open(train_path_main, 'r') as file:\n",
        "  # Load the contents of the file into a dictionary\n",
        "  data_train = json.load(file)\n",
        "\n",
        "## Convert 'data' list into dataframe by passing into the dataframe\n",
        "df_train = pd.DataFrame(data_train['data'])\n",
        "\n",
        "## Making subset of the training dataframe\n",
        "df_sub_train = df_train.iloc[:50]\n",
        "\n",
        "base_train_path = '/content/drive/MyDrive/docVqa_dataset/train'\n",
        "\n",
        "# Define a function to join the base path with the image path\n",
        "def join_paths(image_path):\n",
        "    return os.path.join(base_train_path, image_path)\n",
        "\n",
        "# Apply the function to create a new column with the full image path\n",
        "df_sub_train['full_path_image'] = df_sub_train['image'].apply(join_paths)\n",
        "\n",
        "\n",
        "def extract_ocr_info(df, base_train_dir):\n",
        "\n",
        "  dir_list = os.listdir(base_train_path)\n",
        "  ocr_base_dir = os.path.join(base_train_path, dir_list[1])\n",
        "\n",
        "  # Create empty lists for bounding boxes and word lists\n",
        "  bbox_list = []\n",
        "  word_list = []\n",
        "\n",
        "  # Iterate over each row in the DataFrame\n",
        "  for _, row in df.iterrows():\n",
        "\n",
        "    # Construct the ocr_path for the row\n",
        "    ocr_path = os.path.join(ocr_base_dir, row['ucsf_document_id'] + '_' + row['ucsf_document_page_no'] + '.json')\n",
        "\n",
        "    # Open the json file and load the data\n",
        "    with open(ocr_path, 'r') as f:\n",
        "      ocr_json = json.load(f)\n",
        "\n",
        "    # Extract the bounding boxes and word lists from the json data\n",
        "    bbox_row = []\n",
        "    word_row = []\n",
        "    for i in ocr_json['recognitionResults'][0]['lines']:\n",
        "      for j in i['words']:\n",
        "        bbox_row.append(j['boundingBox'])\n",
        "        word_row.append(j['text'])\n",
        "\n",
        "    # Append the bbox and word lists to the global lists\n",
        "    bbox_list.append(bbox_row)\n",
        "    word_list.append(word_row)\n",
        "  # Create new columns in the DataFrame to store the bbox and words lists\n",
        "  df['bounding_boxes'] = bbox_list\n",
        "  df['word_list'] = word_list\n",
        "\n",
        "  df.drop(['questionId', 'image','ucsf_document_id', 'ucsf_document_page_no'], axis=1, inplace=True)\n",
        "\n",
        "  # Return the updated DataFrame\n",
        "  return df\n"
      ],
      "metadata": {
        "colab": {
          "base_uri": "https://localhost:8080/"
        },
        "id": "ZB4LVIXFkCpL",
        "outputId": "40981ac2-d33c-4469-fa6f-a91f6e854d16"
      },
      "execution_count": 5,
      "outputs": [
        {
          "output_type": "stream",
          "name": "stderr",
          "text": [
            "<ipython-input-5-248c44dfe9d7>:21: SettingWithCopyWarning: \n",
            "A value is trying to be set on a copy of a slice from a DataFrame.\n",
            "Try using .loc[row_indexer,col_indexer] = value instead\n",
            "\n",
            "See the caveats in the documentation: https://pandas.pydata.org/pandas-docs/stable/user_guide/indexing.html#returning-a-view-versus-a-copy\n",
            "  df_sub_train['full_path_image'] = df_sub_train['image'].apply(join_paths)\n"
          ]
        }
      ]
    },
    {
      "cell_type": "code",
      "source": [
        "df_sub_train_ocr = extract_ocr_info(df_sub_train, base_train_path)"
      ],
      "metadata": {
        "colab": {
          "base_uri": "https://localhost:8080/"
        },
        "id": "RwezwQ98u7pQ",
        "outputId": "bbafc851-8ab1-44a5-df6f-7c6c66a28998"
      },
      "execution_count": 6,
      "outputs": [
        {
          "output_type": "stream",
          "name": "stderr",
          "text": [
            "<ipython-input-5-248c44dfe9d7>:55: SettingWithCopyWarning: \n",
            "A value is trying to be set on a copy of a slice from a DataFrame.\n",
            "Try using .loc[row_indexer,col_indexer] = value instead\n",
            "\n",
            "See the caveats in the documentation: https://pandas.pydata.org/pandas-docs/stable/user_guide/indexing.html#returning-a-view-versus-a-copy\n",
            "  df['bounding_boxes'] = bbox_list\n",
            "<ipython-input-5-248c44dfe9d7>:56: SettingWithCopyWarning: \n",
            "A value is trying to be set on a copy of a slice from a DataFrame.\n",
            "Try using .loc[row_indexer,col_indexer] = value instead\n",
            "\n",
            "See the caveats in the documentation: https://pandas.pydata.org/pandas-docs/stable/user_guide/indexing.html#returning-a-view-versus-a-copy\n",
            "  df['word_list'] = word_list\n",
            "<ipython-input-5-248c44dfe9d7>:58: SettingWithCopyWarning: \n",
            "A value is trying to be set on a copy of a slice from a DataFrame\n",
            "\n",
            "See the caveats in the documentation: https://pandas.pydata.org/pandas-docs/stable/user_guide/indexing.html#returning-a-view-versus-a-copy\n",
            "  df.drop(['questionId', 'image','ucsf_document_id', 'ucsf_document_page_no'], axis=1, inplace=True)\n"
          ]
        }
      ]
    },
    {
      "cell_type": "code",
      "source": [
        "def find_consecutive_indices(df):\n",
        "\n",
        "  ### case 1\n",
        "  def case1(words_list,bb_list,output_string):\n",
        "\n",
        "    output_list = output_string.split()\n",
        "    output_list_len = len(output_list)\n",
        "\n",
        "    output_list_start_word = output_list[0]\n",
        "    output_list_end_word = output_list[output_list_len-1]\n",
        "\n",
        "    while True:\n",
        "      output_list_start_word_in_word_list = process.extract(output_list_start_word, words_list, scorer=fuzz.ratio,limit=1)\n",
        "      output_list_end_word_in_word_list = process.extract(output_list_end_word, words_list, scorer=fuzz.ratio,limit=1)\n",
        "\n",
        "      start_index = words_list.index(output_list_start_word_in_word_list[0][0])\n",
        "      end_index = words_list.index(output_list_end_word_in_word_list[0][0])\n",
        "\n",
        "      if start_index > end_index:\n",
        "        words_list.pop(end_index)\n",
        "        continue\n",
        "      else:\n",
        "        break\n",
        "\n",
        "    word_list_values = words_list[start_index:end_index+1]\n",
        "    bb_list_values = bb_list[start_index:end_index+1]\n",
        "\n",
        "\n",
        "    return [start_index , end_index], bb_list_values, word_list_values, output_list_len\n",
        "\n",
        "    ### case 2\n",
        "  def case2(words_list,output_string):\n",
        "    output_list = output_string.split()\n",
        "\n",
        "    unique_matched_words_list = []\n",
        "    for word in output_list:\n",
        "      output_list_matched_words_in_word_list = process.extract(word, words_list, scorer=fuzz.ratio)\n",
        "\n",
        "      matched_words_list = []\n",
        "      for matched_words in output_list_matched_words_in_word_list:\n",
        "        matched_words_list.append(matched_words[0])\n",
        "\n",
        "      matched_words_set = set(matched_words_list)\n",
        "      unique_matched_words_list.append(matched_words_set)\n",
        "\n",
        "\n",
        "    index_list=[]\n",
        "    for words_set in unique_matched_words_list:\n",
        "      for word in words_set:\n",
        "        list_size = len(words_list)\n",
        "        for index in range(list_size):\n",
        "          # check the condition\n",
        "          if(words_list[index] == word):\n",
        "\n",
        "            index_list.append(index)\n",
        "\n",
        "    index_list_sorted = sorted(index_list)\n",
        "\n",
        "    numbers = index_list_sorted\n",
        "    output_list = output_string.split()\n",
        "    n = len(output_list)\n",
        "    consecutive_sets = []\n",
        "    for i in range(len(numbers) - n + 1):\n",
        "      consecutive_set = numbers[i:i+n]\n",
        "      if all(consecutive_set[j] + 1 == consecutive_set[j+1] for j in range(n - 1)):\n",
        "\n",
        "        consecutive_sets.append(consecutive_set)\n",
        "    return consecutive_sets\n",
        "\n",
        "\n",
        "\n",
        "  index_for_ver2 = []\n",
        "  output_strings_v2 = []\n",
        "\n",
        "  for i in range(0,df.shape[0]):\n",
        "    words_list_str = str(df[\"word_list\"][i])\n",
        "    bounding_boxes_str = str(df[\"bounding_boxes\"][i])\n",
        "    answers_str = str(df[\"answers\"][i])\n",
        "\n",
        "    words_list = eval(words_list_str)\n",
        "    bb_list = eval(bounding_boxes_str)\n",
        "    output = eval(answers_str)\n",
        "    # words_list = eval(df[\"word_list\"][i])\n",
        "    # bb_list = eval(df[\"bounding_boxes\"][i])\n",
        "    # output = eval(df[\"answers\"][i])\n",
        "\n",
        "\n",
        "    for output_string in output:\n",
        "      result = case1(words_list,bb_list, output_string)\n",
        "\n",
        "      if result[3] == len(result[2]):\n",
        "        result_dict1 = { \"Sample_Index\" : i,              #Change it to i after final code\n",
        "                      \"actual_answer\": output_string,\n",
        "                      \"matched_answer\": result[2],\n",
        "                      \"Start_and_End_index\": result[0],\n",
        "                      \"bbox_list_values\": result[1],\n",
        "        }\n",
        "\n",
        "        cell_value = df.at[i, \"index_and_bbox_info\"]\n",
        "        cell_value.append(result_dict1)\n",
        "\n",
        "      else:\n",
        "        index_for_ver2.append(i)\n",
        "        output_strings_v2.append(output_string)\n",
        "\n",
        "\n",
        "  for i,index_ in enumerate(index_for_ver2):\n",
        "\n",
        "    words_list_str = str(df.at[index_, \"word_list\"])\n",
        "    bb_list_str = str(df.at[index_, \"bounding_boxes\"])\n",
        "\n",
        "    words_list = eval(words_list_str)\n",
        "    bb_list = eval(bb_list_str)\n",
        "\n",
        "    # words_list = eval(df[\"word_list\"][index_])\n",
        "    # bb_list = eval(df[\"bounding_boxes\"][index_])\n",
        "    output = [output_strings_v2[i]]\n",
        "\n",
        "\n",
        "    for output_string in output:\n",
        "      result = case2(words_list, output_string)\n",
        "\n",
        "      if result:\n",
        "\n",
        "        for index_set in result:\n",
        "\n",
        "            result_dict2 = { \"Sample_Index\" : index_,                      #todo:add i+2\n",
        "                                \"actual_answer\": output_string,\n",
        "                                \"matched_answer\":words_list[index_set[0]:index_set[-1]+1],\n",
        "                                \"Start_and_End_index\": [index_set[0],index_set[-1]],\n",
        "                                \"bbox_list_values\": bb_list[index_set[0]:index_set[-1]+1]}\n",
        "            cell_value = df.at[index_, \"index_and_bbox_info\"]\n",
        "            cell_value.append(result_dict2)\n",
        "\n",
        "      else:\n",
        "        pass\n",
        "\n",
        "  return df\n"
      ],
      "metadata": {
        "id": "CNV_8OGXu-wg"
      },
      "execution_count": 7,
      "outputs": []
    },
    {
      "cell_type": "code",
      "source": [
        "df_sub_train_ocr[\"index_and_bbox_info\"] = [[] for _ in range(len(df_sub_train_ocr))]"
      ],
      "metadata": {
        "colab": {
          "base_uri": "https://localhost:8080/"
        },
        "id": "tm1g3T1Wu-th",
        "outputId": "2b440a81-9022-4cf7-fb2f-33a053a62810"
      },
      "execution_count": 8,
      "outputs": [
        {
          "output_type": "stream",
          "name": "stderr",
          "text": [
            "<ipython-input-8-a9d3f3734f1e>:1: SettingWithCopyWarning: \n",
            "A value is trying to be set on a copy of a slice from a DataFrame.\n",
            "Try using .loc[row_indexer,col_indexer] = value instead\n",
            "\n",
            "See the caveats in the documentation: https://pandas.pydata.org/pandas-docs/stable/user_guide/indexing.html#returning-a-view-versus-a-copy\n",
            "  df_sub_train_ocr[\"index_and_bbox_info\"] = [[] for _ in range(len(df_sub_train_ocr))]\n"
          ]
        }
      ]
    },
    {
      "cell_type": "code",
      "source": [
        "df_sub_train_ocr_info = find_consecutive_indices(df_sub_train_ocr)"
      ],
      "metadata": {
        "colab": {
          "base_uri": "https://localhost:8080/"
        },
        "id": "KWTVKRFGvFk5",
        "outputId": "a60b077f-7752-406a-e4dd-34cca9126e8a"
      },
      "execution_count": 9,
      "outputs": [
        {
          "output_type": "stream",
          "name": "stderr",
          "text": [
            "WARNING:root:Applied processor reduces input query to empty string, all comparisons will have score 0. [Query: ',']\n"
          ]
        }
      ]
    },
    {
      "cell_type": "code",
      "source": [
        "df_sub_train_ocr_info.head()"
      ],
      "metadata": {
        "colab": {
          "base_uri": "https://localhost:8080/",
          "height": 406
        },
        "id": "Vt_yApsAvFho",
        "outputId": "38a73836-7023-459e-d13c-b281680a81fb"
      },
      "execution_count": 10,
      "outputs": [
        {
          "output_type": "execute_result",
          "data": {
            "text/plain": [
              "                                            question  docId  \\\n",
              "0         what is the date mentioned in this letter?    279   \n",
              "1  what is the contact person name mentioned in l...    279   \n",
              "2            Which corporation's letterhead is this?    280   \n",
              "3                      Who is in  cc in this letter?    280   \n",
              "4               what is the subject of  this letter?    280   \n",
              "\n",
              "                                        answers data_split  \\\n",
              "0                                      [1/8/93]      train   \n",
              "1                        [P. Carter, p. carter]      train   \n",
              "2      [Brown & Williamson Tobacco Corporation]      train   \n",
              "3                                  [T.F. Riehl]      train   \n",
              "4  [Review of existing Brainstorming Ideas/483]      train   \n",
              "\n",
              "                                     full_path_image  \\\n",
              "0  /content/drive/MyDrive/docVqa_dataset/train/do...   \n",
              "1  /content/drive/MyDrive/docVqa_dataset/train/do...   \n",
              "2  /content/drive/MyDrive/docVqa_dataset/train/do...   \n",
              "3  /content/drive/MyDrive/docVqa_dataset/train/do...   \n",
              "4  /content/drive/MyDrive/docVqa_dataset/train/do...   \n",
              "\n",
              "                                      bounding_boxes  \\\n",
              "0  [[586, 30, 993, 36, 994, 119, 584, 131], [1080...   \n",
              "1  [[586, 30, 993, 36, 994, 119, 584, 131], [1080...   \n",
              "2  [[733, 196, 789, 193, 791, 218, 734, 219], [47...   \n",
              "3  [[733, 196, 789, 193, 791, 218, 734, 219], [47...   \n",
              "4  [[733, 196, 789, 193, 791, 218, 734, 219], [47...   \n",
              "\n",
              "                                           word_list  \\\n",
              "0  [Confidential, .., .., RJRT, PR, APPROVAL, DAT...   \n",
              "1  [Confidential, .., .., RJRT, PR, APPROVAL, DAT...   \n",
              "2  [B&W, BROWN, &, WILLIAMSON, TOBACCO, CORPORATI...   \n",
              "3  [B&W, BROWN, &, WILLIAMSON, TOBACCO, CORPORATI...   \n",
              "4  [B&W, BROWN, &, WILLIAMSON, TOBACCO, CORPORATI...   \n",
              "\n",
              "                                 index_and_bbox_info  \n",
              "0  [{'Sample_Index': 0, 'actual_answer': '1/8/93'...  \n",
              "1  [{'Sample_Index': 1, 'actual_answer': 'P. Cart...  \n",
              "2  [{'Sample_Index': 2, 'actual_answer': 'Brown &...  \n",
              "3  [{'Sample_Index': 3, 'actual_answer': 'T.F. Ri...  \n",
              "4  [{'Sample_Index': 4, 'actual_answer': 'Review ...  "
            ],
            "text/html": [
              "\n",
              "\n",
              "  <div id=\"df-2b795c51-9a20-4b26-96f9-62dc393d1fd4\">\n",
              "    <div class=\"colab-df-container\">\n",
              "      <div>\n",
              "<style scoped>\n",
              "    .dataframe tbody tr th:only-of-type {\n",
              "        vertical-align: middle;\n",
              "    }\n",
              "\n",
              "    .dataframe tbody tr th {\n",
              "        vertical-align: top;\n",
              "    }\n",
              "\n",
              "    .dataframe thead th {\n",
              "        text-align: right;\n",
              "    }\n",
              "</style>\n",
              "<table border=\"1\" class=\"dataframe\">\n",
              "  <thead>\n",
              "    <tr style=\"text-align: right;\">\n",
              "      <th></th>\n",
              "      <th>question</th>\n",
              "      <th>docId</th>\n",
              "      <th>answers</th>\n",
              "      <th>data_split</th>\n",
              "      <th>full_path_image</th>\n",
              "      <th>bounding_boxes</th>\n",
              "      <th>word_list</th>\n",
              "      <th>index_and_bbox_info</th>\n",
              "    </tr>\n",
              "  </thead>\n",
              "  <tbody>\n",
              "    <tr>\n",
              "      <th>0</th>\n",
              "      <td>what is the date mentioned in this letter?</td>\n",
              "      <td>279</td>\n",
              "      <td>[1/8/93]</td>\n",
              "      <td>train</td>\n",
              "      <td>/content/drive/MyDrive/docVqa_dataset/train/do...</td>\n",
              "      <td>[[586, 30, 993, 36, 994, 119, 584, 131], [1080...</td>\n",
              "      <td>[Confidential, .., .., RJRT, PR, APPROVAL, DAT...</td>\n",
              "      <td>[{'Sample_Index': 0, 'actual_answer': '1/8/93'...</td>\n",
              "    </tr>\n",
              "    <tr>\n",
              "      <th>1</th>\n",
              "      <td>what is the contact person name mentioned in l...</td>\n",
              "      <td>279</td>\n",
              "      <td>[P. Carter, p. carter]</td>\n",
              "      <td>train</td>\n",
              "      <td>/content/drive/MyDrive/docVqa_dataset/train/do...</td>\n",
              "      <td>[[586, 30, 993, 36, 994, 119, 584, 131], [1080...</td>\n",
              "      <td>[Confidential, .., .., RJRT, PR, APPROVAL, DAT...</td>\n",
              "      <td>[{'Sample_Index': 1, 'actual_answer': 'P. Cart...</td>\n",
              "    </tr>\n",
              "    <tr>\n",
              "      <th>2</th>\n",
              "      <td>Which corporation's letterhead is this?</td>\n",
              "      <td>280</td>\n",
              "      <td>[Brown &amp; Williamson Tobacco Corporation]</td>\n",
              "      <td>train</td>\n",
              "      <td>/content/drive/MyDrive/docVqa_dataset/train/do...</td>\n",
              "      <td>[[733, 196, 789, 193, 791, 218, 734, 219], [47...</td>\n",
              "      <td>[B&amp;W, BROWN, &amp;, WILLIAMSON, TOBACCO, CORPORATI...</td>\n",
              "      <td>[{'Sample_Index': 2, 'actual_answer': 'Brown &amp;...</td>\n",
              "    </tr>\n",
              "    <tr>\n",
              "      <th>3</th>\n",
              "      <td>Who is in  cc in this letter?</td>\n",
              "      <td>280</td>\n",
              "      <td>[T.F. Riehl]</td>\n",
              "      <td>train</td>\n",
              "      <td>/content/drive/MyDrive/docVqa_dataset/train/do...</td>\n",
              "      <td>[[733, 196, 789, 193, 791, 218, 734, 219], [47...</td>\n",
              "      <td>[B&amp;W, BROWN, &amp;, WILLIAMSON, TOBACCO, CORPORATI...</td>\n",
              "      <td>[{'Sample_Index': 3, 'actual_answer': 'T.F. Ri...</td>\n",
              "    </tr>\n",
              "    <tr>\n",
              "      <th>4</th>\n",
              "      <td>what is the subject of  this letter?</td>\n",
              "      <td>280</td>\n",
              "      <td>[Review of existing Brainstorming Ideas/483]</td>\n",
              "      <td>train</td>\n",
              "      <td>/content/drive/MyDrive/docVqa_dataset/train/do...</td>\n",
              "      <td>[[733, 196, 789, 193, 791, 218, 734, 219], [47...</td>\n",
              "      <td>[B&amp;W, BROWN, &amp;, WILLIAMSON, TOBACCO, CORPORATI...</td>\n",
              "      <td>[{'Sample_Index': 4, 'actual_answer': 'Review ...</td>\n",
              "    </tr>\n",
              "  </tbody>\n",
              "</table>\n",
              "</div>\n",
              "      <button class=\"colab-df-convert\" onclick=\"convertToInteractive('df-2b795c51-9a20-4b26-96f9-62dc393d1fd4')\"\n",
              "              title=\"Convert this dataframe to an interactive table.\"\n",
              "              style=\"display:none;\">\n",
              "\n",
              "  <svg xmlns=\"http://www.w3.org/2000/svg\" height=\"24px\"viewBox=\"0 0 24 24\"\n",
              "       width=\"24px\">\n",
              "    <path d=\"M0 0h24v24H0V0z\" fill=\"none\"/>\n",
              "    <path d=\"M18.56 5.44l.94 2.06.94-2.06 2.06-.94-2.06-.94-.94-2.06-.94 2.06-2.06.94zm-11 1L8.5 8.5l.94-2.06 2.06-.94-2.06-.94L8.5 2.5l-.94 2.06-2.06.94zm10 10l.94 2.06.94-2.06 2.06-.94-2.06-.94-.94-2.06-.94 2.06-2.06.94z\"/><path d=\"M17.41 7.96l-1.37-1.37c-.4-.4-.92-.59-1.43-.59-.52 0-1.04.2-1.43.59L10.3 9.45l-7.72 7.72c-.78.78-.78 2.05 0 2.83L4 21.41c.39.39.9.59 1.41.59.51 0 1.02-.2 1.41-.59l7.78-7.78 2.81-2.81c.8-.78.8-2.07 0-2.86zM5.41 20L4 18.59l7.72-7.72 1.47 1.35L5.41 20z\"/>\n",
              "  </svg>\n",
              "      </button>\n",
              "\n",
              "\n",
              "\n",
              "    <div id=\"df-11a435bf-79b3-4c5d-8940-55d7b48a1600\">\n",
              "      <button class=\"colab-df-quickchart\" onclick=\"quickchart('df-11a435bf-79b3-4c5d-8940-55d7b48a1600')\"\n",
              "              title=\"Suggest charts.\"\n",
              "              style=\"display:none;\">\n",
              "\n",
              "<svg xmlns=\"http://www.w3.org/2000/svg\" height=\"24px\"viewBox=\"0 0 24 24\"\n",
              "     width=\"24px\">\n",
              "    <g>\n",
              "        <path d=\"M19 3H5c-1.1 0-2 .9-2 2v14c0 1.1.9 2 2 2h14c1.1 0 2-.9 2-2V5c0-1.1-.9-2-2-2zM9 17H7v-7h2v7zm4 0h-2V7h2v10zm4 0h-2v-4h2v4z\"/>\n",
              "    </g>\n",
              "</svg>\n",
              "      </button>\n",
              "    </div>\n",
              "\n",
              "<style>\n",
              "  .colab-df-quickchart {\n",
              "    background-color: #E8F0FE;\n",
              "    border: none;\n",
              "    border-radius: 50%;\n",
              "    cursor: pointer;\n",
              "    display: none;\n",
              "    fill: #1967D2;\n",
              "    height: 32px;\n",
              "    padding: 0 0 0 0;\n",
              "    width: 32px;\n",
              "  }\n",
              "\n",
              "  .colab-df-quickchart:hover {\n",
              "    background-color: #E2EBFA;\n",
              "    box-shadow: 0px 1px 2px rgba(60, 64, 67, 0.3), 0px 1px 3px 1px rgba(60, 64, 67, 0.15);\n",
              "    fill: #174EA6;\n",
              "  }\n",
              "\n",
              "  [theme=dark] .colab-df-quickchart {\n",
              "    background-color: #3B4455;\n",
              "    fill: #D2E3FC;\n",
              "  }\n",
              "\n",
              "  [theme=dark] .colab-df-quickchart:hover {\n",
              "    background-color: #434B5C;\n",
              "    box-shadow: 0px 1px 3px 1px rgba(0, 0, 0, 0.15);\n",
              "    filter: drop-shadow(0px 1px 2px rgba(0, 0, 0, 0.3));\n",
              "    fill: #FFFFFF;\n",
              "  }\n",
              "</style>\n",
              "\n",
              "    <script>\n",
              "      async function quickchart(key) {\n",
              "        const containerElement = document.querySelector('#' + key);\n",
              "        const charts = await google.colab.kernel.invokeFunction(\n",
              "            'suggestCharts', [key], {});\n",
              "      }\n",
              "    </script>\n",
              "\n",
              "      <script>\n",
              "\n",
              "function displayQuickchartButton(domScope) {\n",
              "  let quickchartButtonEl =\n",
              "    domScope.querySelector('#df-11a435bf-79b3-4c5d-8940-55d7b48a1600 button.colab-df-quickchart');\n",
              "  quickchartButtonEl.style.display =\n",
              "    google.colab.kernel.accessAllowed ? 'block' : 'none';\n",
              "}\n",
              "\n",
              "        displayQuickchartButton(document);\n",
              "      </script>\n",
              "      <style>\n",
              "    .colab-df-container {\n",
              "      display:flex;\n",
              "      flex-wrap:wrap;\n",
              "      gap: 12px;\n",
              "    }\n",
              "\n",
              "    .colab-df-convert {\n",
              "      background-color: #E8F0FE;\n",
              "      border: none;\n",
              "      border-radius: 50%;\n",
              "      cursor: pointer;\n",
              "      display: none;\n",
              "      fill: #1967D2;\n",
              "      height: 32px;\n",
              "      padding: 0 0 0 0;\n",
              "      width: 32px;\n",
              "    }\n",
              "\n",
              "    .colab-df-convert:hover {\n",
              "      background-color: #E2EBFA;\n",
              "      box-shadow: 0px 1px 2px rgba(60, 64, 67, 0.3), 0px 1px 3px 1px rgba(60, 64, 67, 0.15);\n",
              "      fill: #174EA6;\n",
              "    }\n",
              "\n",
              "    [theme=dark] .colab-df-convert {\n",
              "      background-color: #3B4455;\n",
              "      fill: #D2E3FC;\n",
              "    }\n",
              "\n",
              "    [theme=dark] .colab-df-convert:hover {\n",
              "      background-color: #434B5C;\n",
              "      box-shadow: 0px 1px 3px 1px rgba(0, 0, 0, 0.15);\n",
              "      filter: drop-shadow(0px 1px 2px rgba(0, 0, 0, 0.3));\n",
              "      fill: #FFFFFF;\n",
              "    }\n",
              "  </style>\n",
              "\n",
              "      <script>\n",
              "        const buttonEl =\n",
              "          document.querySelector('#df-2b795c51-9a20-4b26-96f9-62dc393d1fd4 button.colab-df-convert');\n",
              "        buttonEl.style.display =\n",
              "          google.colab.kernel.accessAllowed ? 'block' : 'none';\n",
              "\n",
              "        async function convertToInteractive(key) {\n",
              "          const element = document.querySelector('#df-2b795c51-9a20-4b26-96f9-62dc393d1fd4');\n",
              "          const dataTable =\n",
              "            await google.colab.kernel.invokeFunction('convertToInteractive',\n",
              "                                                     [key], {});\n",
              "          if (!dataTable) return;\n",
              "\n",
              "          const docLinkHtml = 'Like what you see? Visit the ' +\n",
              "            '<a target=\"_blank\" href=https://colab.research.google.com/notebooks/data_table.ipynb>data table notebook</a>'\n",
              "            + ' to learn more about interactive tables.';\n",
              "          element.innerHTML = '';\n",
              "          dataTable['output_type'] = 'display_data';\n",
              "          await google.colab.output.renderOutput(dataTable, element);\n",
              "          const docLink = document.createElement('div');\n",
              "          docLink.innerHTML = docLinkHtml;\n",
              "          element.appendChild(docLink);\n",
              "        }\n",
              "      </script>\n",
              "    </div>\n",
              "  </div>\n"
            ]
          },
          "metadata": {},
          "execution_count": 10
        }
      ]
    },
    {
      "cell_type": "code",
      "source": [
        "df_sub_train_ocr_info[\"index_and_bbox_info\"][1]"
      ],
      "metadata": {
        "colab": {
          "base_uri": "https://localhost:8080/"
        },
        "id": "dDkgmQM1xhag",
        "outputId": "d6a321bc-8d96-43b5-a64c-f02f24ed84c2"
      },
      "execution_count": 11,
      "outputs": [
        {
          "output_type": "execute_result",
          "data": {
            "text/plain": [
              "[{'Sample_Index': 1,\n",
              "  'actual_answer': 'P. Carter',\n",
              "  'matched_answer': ['P.', 'CARTER'],\n",
              "  'Start_and_End_index': [20, 21],\n",
              "  'bbox_list_values': [[445, 521, 490, 519, 492, 577, 447, 578],\n",
              "   [501, 519, 658, 513, 660, 568, 503, 577]]},\n",
              " {'Sample_Index': 1,\n",
              "  'actual_answer': 'p. carter',\n",
              "  'matched_answer': ['P.', 'CARTER'],\n",
              "  'Start_and_End_index': [20, 21],\n",
              "  'bbox_list_values': [[445, 521, 490, 519, 492, 577, 447, 578],\n",
              "   [501, 519, 658, 513, 660, 568, 503, 577]]}]"
            ]
          },
          "metadata": {},
          "execution_count": 11
        }
      ]
    },
    {
      "cell_type": "code",
      "source": [
        "## Convert dataframe into dataset object\n",
        "hf_sub_train_ocr_info = Dataset.from_pandas(df_sub_train_ocr_info)"
      ],
      "metadata": {
        "id": "wYsjI2zvkCmi"
      },
      "execution_count": 12,
      "outputs": []
    },
    {
      "cell_type": "code",
      "source": [
        "hf_sub_train_ocr_info"
      ],
      "metadata": {
        "colab": {
          "base_uri": "https://localhost:8080/"
        },
        "id": "d2Gk8cDpkCjz",
        "outputId": "358afcea-7679-4413-f294-ebca316ba7a4"
      },
      "execution_count": 13,
      "outputs": [
        {
          "output_type": "execute_result",
          "data": {
            "text/plain": [
              "Dataset({\n",
              "    features: ['question', 'docId', 'answers', 'data_split', 'full_path_image', 'bounding_boxes', 'word_list', 'index_and_bbox_info'],\n",
              "    num_rows: 50\n",
              "})"
            ]
          },
          "metadata": {},
          "execution_count": 13
        }
      ]
    },
    {
      "cell_type": "code",
      "source": [
        "# Define a function to open and save images\n",
        "def process_image(hfsample):\n",
        "    image_path = hfsample['full_path_image']\n",
        "    image = Image.open(image_path)\n",
        "    hfsample['image_raw'] = image\n",
        "    del hfsample['full_path_image']\n",
        "    return hfsample\n",
        "\n",
        "# Apply the function to each row in the dataset\n",
        "hf_sub_train_ocr_info_imgraw = hf_sub_train_ocr_info.map(process_image)\n"
      ],
      "metadata": {
        "colab": {
          "base_uri": "https://localhost:8080/",
          "height": 49,
          "referenced_widgets": [
            "0088d5e927884d83a7790f9991d64190",
            "19cb5e5d388c4a31bc50a29e6da15bcd",
            "5ad71e1a1aab446fac5543da83231fe6",
            "20d9122a697244289528ef466c669402",
            "4a139cb7b75d4df5b1909a45ba2f5261",
            "2ce6f4c381634e349c93e9efe6b24b72",
            "4fc7ba1a8ff54ce0b80f6ff48b39da24",
            "bb683b0635814ae696344f36b6bb0485",
            "6ed7e88888b24ee3a374c626956a3ac4",
            "2ebe425a296b47cb80ac7a06b338f369",
            "4a9b0a52dd3a4025b6cb72982c5e79c6"
          ]
        },
        "id": "oNJTdOcbDuQD",
        "outputId": "651d94d8-3ebd-4ef8-c735-fd3b2bc2d8ca"
      },
      "execution_count": 14,
      "outputs": [
        {
          "output_type": "display_data",
          "data": {
            "text/plain": [
              "Map:   0%|          | 0/50 [00:00<?, ? examples/s]"
            ],
            "application/vnd.jupyter.widget-view+json": {
              "version_major": 2,
              "version_minor": 0,
              "model_id": "0088d5e927884d83a7790f9991d64190"
            }
          },
          "metadata": {}
        }
      ]
    },
    {
      "cell_type": "code",
      "source": [
        "hf_sub_train_ocr_info_imgraw"
      ],
      "metadata": {
        "colab": {
          "base_uri": "https://localhost:8080/"
        },
        "id": "oIE-a6VQDuB7",
        "outputId": "0fc98ff8-1fec-44dc-9a59-385928bc78b2"
      },
      "execution_count": 15,
      "outputs": [
        {
          "output_type": "execute_result",
          "data": {
            "text/plain": [
              "Dataset({\n",
              "    features: ['question', 'docId', 'answers', 'data_split', 'bounding_boxes', 'word_list', 'index_and_bbox_info', 'image_raw'],\n",
              "    num_rows: 50\n",
              "})"
            ]
          },
          "metadata": {},
          "execution_count": 15
        }
      ]
    },
    {
      "cell_type": "code",
      "source": [
        "hf_sub_train_ocr_info_imgraw[\"index_and_bbox_info\"][0]"
      ],
      "metadata": {
        "colab": {
          "base_uri": "https://localhost:8080/"
        },
        "id": "ozJV8gRXkCVK",
        "outputId": "ead82383-f228-4d45-c760-3ec792378b71"
      },
      "execution_count": 16,
      "outputs": [
        {
          "output_type": "execute_result",
          "data": {
            "text/plain": [
              "[{'Sample_Index': 0,\n",
              "  'Start_and_End_index': [8, 8],\n",
              "  'actual_answer': '1/8/93',\n",
              "  'bbox_list_values': [[400, 258, 556, 261, 555, 332, 399, 329]],\n",
              "  'matched_answer': ['1/8/13']}]"
            ]
          },
          "metadata": {},
          "execution_count": 16
        }
      ]
    },
    {
      "cell_type": "code",
      "source": [
        "hf_sub_train_ocr_info_imgraw[\"index_and_bbox_info\"][5]"
      ],
      "metadata": {
        "colab": {
          "base_uri": "https://localhost:8080/"
        },
        "id": "MbWzMlfxkCSK",
        "outputId": "71b61f15-deb4-4285-8cef-f3faeba386ab"
      },
      "execution_count": 17,
      "outputs": [
        {
          "output_type": "execute_result",
          "data": {
            "text/plain": [
              "[{'Sample_Index': 5,\n",
              "  'Start_and_End_index': [320, 320],\n",
              "  'actual_answer': '499150498',\n",
              "  'bbox_list_values': [[1112, 1806, 1338, 1802, 1338, 1837, 1111, 1840]],\n",
              "  'matched_answer': ['499150498']}]"
            ]
          },
          "metadata": {},
          "execution_count": 17
        }
      ]
    },
    {
      "cell_type": "code",
      "source": [
        "hf_sub_train_ocr_info_imgraw"
      ],
      "metadata": {
        "colab": {
          "base_uri": "https://localhost:8080/"
        },
        "id": "sfoVYb8wkB7q",
        "outputId": "51933656-65af-4e1a-c36d-0181ecf546b0"
      },
      "execution_count": 18,
      "outputs": [
        {
          "output_type": "execute_result",
          "data": {
            "text/plain": [
              "Dataset({\n",
              "    features: ['question', 'docId', 'answers', 'data_split', 'bounding_boxes', 'word_list', 'index_and_bbox_info', 'image_raw'],\n",
              "    num_rows: 50\n",
              "})"
            ]
          },
          "metadata": {},
          "execution_count": 18
        }
      ]
    },
    {
      "cell_type": "code",
      "source": [],
      "metadata": {
        "id": "ZDqogcvOkBza"
      },
      "execution_count": 18,
      "outputs": []
    },
    {
      "cell_type": "code",
      "execution_count": 18,
      "metadata": {
        "id": "j6ic_zkgkA9H"
      },
      "outputs": [],
      "source": []
    }
  ]
}